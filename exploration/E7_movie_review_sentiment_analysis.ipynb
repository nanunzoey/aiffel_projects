{
 "cells": [
  {
   "cell_type": "markdown",
   "id": "photographic-translation",
   "metadata": {},
   "source": [
    "# 네이버 영화리뷰 감성 분석\n",
    "\n"
   ]
  },
  {
   "cell_type": "code",
   "execution_count": 166,
   "id": "celtic-taiwan",
   "metadata": {},
   "outputs": [],
   "source": [
    "from collections import Counter\n",
    "import os\n",
    "import re\n",
    "import urllib.request\n",
    "\n",
    "import numpy as np\n",
    "import pandas as pd\n",
    "\n",
    "from tensorflow.keras.preprocessing.text import Tokenizer\n",
    "from tensorflow.keras.preprocessing.sequence import pad_sequences\n",
    "\n",
    "from tensorflow.keras.models import Sequential, load_model\n",
    "from tensorflow.keras.layers import Embedding, Dense, LSTM\n",
    "from tensorflow.keras.callbacks import EarlyStopping, ModelCheckpoint\n",
    "\n",
    "from konlpy.tag import Mecab\n",
    "from konlpy.tag import Okt\n",
    "\n",
    "from gensim.models import KeyedVectors\n",
    "from gensim.models.word2vec import Word2Vec\n",
    "\n",
    "import matplotlib.pyplot as plt\n",
    "%matplotlib inline"
   ]
  },
  {
   "cell_type": "markdown",
   "id": "smaller-foundation",
   "metadata": {},
   "source": [
    "<hr>\n",
    "\n",
    "## Data Description\n",
    "\n",
    "- [네이버 영화 댓글 데이터셋](https://github.com/e9t/nsmc)\n",
    "\n",
    "- 200K reviews in total\n",
    "    - train.txt: 150K reviews\n",
    "    - test.txt: 50K reviews\n",
    "- label\n",
    "    - each class is sampled equally\n",
    "    - 0: negative \\(100K reviews of ratings 1-4\\)\n",
    "    - 1: positive \\(100K reviews of ratings 9-10\\)\n",
    "    - neutral reviews\\(ratings 5-8\\) are excluded\n",
    "    \n",
    "- All reveiws are shorter than 140 characters\n",
    "\n",
    "<hr>"
   ]
  },
  {
   "cell_type": "code",
   "execution_count": 37,
   "id": "opened-alfred",
   "metadata": {},
   "outputs": [],
   "source": [
    "train_data = pd.read_table('~/aiffel/aiffel_projects/exploration/E7_sentimental_classification/data/ratings_train.txt')\n",
    "test_data = pd.read_table('~/aiffel/aiffel_projects/exploration/E7_sentimental_classification/data/ratings_test.txt')"
   ]
  },
  {
   "cell_type": "code",
   "execution_count": 4,
   "id": "interstate-source",
   "metadata": {
    "scrolled": true
   },
   "outputs": [
    {
     "name": "stdout",
     "output_type": "stream",
     "text": [
      "(150000, 3)\n",
      "(50000, 3)\n"
     ]
    }
   ],
   "source": [
    "print(train_data.shape)\n",
    "print(test_data.shape)"
   ]
  },
  {
   "cell_type": "code",
   "execution_count": 4,
   "id": "fitted-rainbow",
   "metadata": {
    "scrolled": true
   },
   "outputs": [
    {
     "data": {
      "text/html": [
       "<div>\n",
       "<style scoped>\n",
       "    .dataframe tbody tr th:only-of-type {\n",
       "        vertical-align: middle;\n",
       "    }\n",
       "\n",
       "    .dataframe tbody tr th {\n",
       "        vertical-align: top;\n",
       "    }\n",
       "\n",
       "    .dataframe thead th {\n",
       "        text-align: right;\n",
       "    }\n",
       "</style>\n",
       "<table border=\"1\" class=\"dataframe\">\n",
       "  <thead>\n",
       "    <tr style=\"text-align: right;\">\n",
       "      <th></th>\n",
       "      <th>id</th>\n",
       "      <th>document</th>\n",
       "      <th>label</th>\n",
       "    </tr>\n",
       "  </thead>\n",
       "  <tbody>\n",
       "    <tr>\n",
       "      <th>0</th>\n",
       "      <td>9976970</td>\n",
       "      <td>아 더빙.. 진짜 짜증나네요 목소리</td>\n",
       "      <td>0</td>\n",
       "    </tr>\n",
       "    <tr>\n",
       "      <th>1</th>\n",
       "      <td>3819312</td>\n",
       "      <td>흠...포스터보고 초딩영화줄....오버연기조차 가볍지 않구나</td>\n",
       "      <td>1</td>\n",
       "    </tr>\n",
       "    <tr>\n",
       "      <th>2</th>\n",
       "      <td>10265843</td>\n",
       "      <td>너무재밓었다그래서보는것을추천한다</td>\n",
       "      <td>0</td>\n",
       "    </tr>\n",
       "    <tr>\n",
       "      <th>3</th>\n",
       "      <td>9045019</td>\n",
       "      <td>교도소 이야기구먼 ..솔직히 재미는 없다..평점 조정</td>\n",
       "      <td>0</td>\n",
       "    </tr>\n",
       "    <tr>\n",
       "      <th>4</th>\n",
       "      <td>6483659</td>\n",
       "      <td>사이몬페그의 익살스런 연기가 돋보였던 영화!스파이더맨에서 늙어보이기만 했던 커스틴 ...</td>\n",
       "      <td>1</td>\n",
       "    </tr>\n",
       "  </tbody>\n",
       "</table>\n",
       "</div>"
      ],
      "text/plain": [
       "         id                                           document  label\n",
       "0   9976970                                아 더빙.. 진짜 짜증나네요 목소리      0\n",
       "1   3819312                  흠...포스터보고 초딩영화줄....오버연기조차 가볍지 않구나      1\n",
       "2  10265843                                  너무재밓었다그래서보는것을추천한다      0\n",
       "3   9045019                      교도소 이야기구먼 ..솔직히 재미는 없다..평점 조정      0\n",
       "4   6483659  사이몬페그의 익살스런 연기가 돋보였던 영화!스파이더맨에서 늙어보이기만 했던 커스틴 ...      1"
      ]
     },
     "execution_count": 4,
     "metadata": {},
     "output_type": "execute_result"
    }
   ],
   "source": [
    "train_data.head()"
   ]
  },
  {
   "cell_type": "code",
   "execution_count": 5,
   "id": "functioning-thursday",
   "metadata": {},
   "outputs": [
    {
     "data": {
      "text/html": [
       "<div>\n",
       "<style scoped>\n",
       "    .dataframe tbody tr th:only-of-type {\n",
       "        vertical-align: middle;\n",
       "    }\n",
       "\n",
       "    .dataframe tbody tr th {\n",
       "        vertical-align: top;\n",
       "    }\n",
       "\n",
       "    .dataframe thead th {\n",
       "        text-align: right;\n",
       "    }\n",
       "</style>\n",
       "<table border=\"1\" class=\"dataframe\">\n",
       "  <thead>\n",
       "    <tr style=\"text-align: right;\">\n",
       "      <th></th>\n",
       "      <th>id</th>\n",
       "      <th>document</th>\n",
       "      <th>label</th>\n",
       "    </tr>\n",
       "  </thead>\n",
       "  <tbody>\n",
       "    <tr>\n",
       "      <th>0</th>\n",
       "      <td>6270596</td>\n",
       "      <td>굳 ㅋ</td>\n",
       "      <td>1</td>\n",
       "    </tr>\n",
       "    <tr>\n",
       "      <th>1</th>\n",
       "      <td>9274899</td>\n",
       "      <td>GDNTOPCLASSINTHECLUB</td>\n",
       "      <td>0</td>\n",
       "    </tr>\n",
       "    <tr>\n",
       "      <th>2</th>\n",
       "      <td>8544678</td>\n",
       "      <td>뭐야 이 평점들은.... 나쁘진 않지만 10점 짜리는 더더욱 아니잖아</td>\n",
       "      <td>0</td>\n",
       "    </tr>\n",
       "    <tr>\n",
       "      <th>3</th>\n",
       "      <td>6825595</td>\n",
       "      <td>지루하지는 않은데 완전 막장임... 돈주고 보기에는....</td>\n",
       "      <td>0</td>\n",
       "    </tr>\n",
       "    <tr>\n",
       "      <th>4</th>\n",
       "      <td>6723715</td>\n",
       "      <td>3D만 아니었어도 별 다섯 개 줬을텐데.. 왜 3D로 나와서 제 심기를 불편하게 하죠??</td>\n",
       "      <td>0</td>\n",
       "    </tr>\n",
       "  </tbody>\n",
       "</table>\n",
       "</div>"
      ],
      "text/plain": [
       "        id                                           document  label\n",
       "0  6270596                                                굳 ㅋ      1\n",
       "1  9274899                               GDNTOPCLASSINTHECLUB      0\n",
       "2  8544678             뭐야 이 평점들은.... 나쁘진 않지만 10점 짜리는 더더욱 아니잖아      0\n",
       "3  6825595                   지루하지는 않은데 완전 막장임... 돈주고 보기에는....      0\n",
       "4  6723715  3D만 아니었어도 별 다섯 개 줬을텐데.. 왜 3D로 나와서 제 심기를 불편하게 하죠??      0"
      ]
     },
     "execution_count": 5,
     "metadata": {},
     "output_type": "execute_result"
    }
   ],
   "source": [
    "test_data.head()"
   ]
  },
  {
   "cell_type": "markdown",
   "id": "higher-provider",
   "metadata": {},
   "source": [
    "<br>\n",
    "\n",
    "## 데이터 전처리 과정\n",
    "\n",
    "- 1) 중복 데이터 제거\n",
    "- 2) 결측치 제거\n",
    "- 3) 토큰화\n",
    "- 4) 불용어 제거\n",
    "- 5) word_to_index, index_to_word 딕셔너리 생성\n",
    "- 6) train, test dataset 최종 생성"
   ]
  },
  {
   "cell_type": "code",
   "execution_count": 38,
   "id": "limited-administration",
   "metadata": {},
   "outputs": [
    {
     "name": "stdout",
     "output_type": "stream",
     "text": [
      "train data: (146183, 3)\n",
      "test data (49158, 3)\n"
     ]
    }
   ],
   "source": [
    "# 중복 데이터 제거\n",
    "train_data.drop_duplicates(subset=['document'], inplace=True)\n",
    "test_data.drop_duplicates(subset=['document'], inplace=True)\n",
    "\n",
    "print(\"train data:\", train_data.shape)\n",
    "print(\"test data\", test_data.shape)"
   ]
  },
  {
   "cell_type": "code",
   "execution_count": 39,
   "id": "decent-sauce",
   "metadata": {},
   "outputs": [
    {
     "name": "stdout",
     "output_type": "stream",
     "text": [
      "train data: (146182, 3)\n",
      "test data (49157, 3)\n"
     ]
    }
   ],
   "source": [
    "# 결측치 제거\n",
    "train_data.dropna(how='any', inplace=True)\n",
    "test_data.dropna(how='any', inplace=True)\n",
    "\n",
    "print(\"train data:\", train_data.shape)\n",
    "print(\"test data\", test_data.shape)"
   ]
  },
  {
   "cell_type": "markdown",
   "id": "received-fellow",
   "metadata": {},
   "source": [
    "### - 토큰화\n",
    "\n",
    "- tokenize는 Mecab과 Okt를 비교한 결과 Okt를 이용하기로 결정\n",
    "    - Okt가 띄어쓰기 오류나 오타에 대해 더 정확하게 처리하고, 정규화 등의 기능을 제공함\n",
    "    - 단점은 Mecab에 비해 시간이 매....우 오래 걸렸다 ㅠㅠㅠ 약 1시간 소요됨\n",
    "- 더 자세한 비교는 [이 글](https://soohee410.github.io/compare_tagger)을 참고"
   ]
  },
  {
   "cell_type": "code",
   "execution_count": 30,
   "id": "roman-northwest",
   "metadata": {},
   "outputs": [],
   "source": [
    "# 토큰화 및 불용어와 문장 부호 제거\n",
    "tokenizer = Okt()\n",
    "\n",
    "# 불용어 리스트\n",
    "stopwords = ['의','가','이','은','들','는','좀','잘','걍','과','도','를','으로','자','에','와','한','하다']\n",
    "\n",
    "X_train = []\n",
    "for sentence in train_data['document']:\n",
    "    # 토큰화\n",
    "    temp_X = tokenizer.morphs(sentence, stem=True)\n",
    "    \n",
    "    # 불용어 제거\n",
    "    temp_X = [word for word in temp_X if not word in stopwords]\n",
    "    \n",
    "    # 특수 기호 제거\n",
    "    punc = re.compile('[.?,!>)(:~\\-@/%]')\n",
    "    temp_X = [punc.sub('', word) for word in temp_X]\n",
    "    \n",
    "    # 빈 word 제거\n",
    "    temp_X = [word for word in temp_X if word != '']\n",
    "    \n",
    "    X_train.append(temp_X)"
   ]
  },
  {
   "cell_type": "code",
   "execution_count": 32,
   "id": "alternative-reference",
   "metadata": {},
   "outputs": [],
   "source": [
    "# test dataset에 대해 반복\n",
    "X_test = []\n",
    "for sentence in test_data['document']:\n",
    "    # 토큰화\n",
    "    temp_X = tokenizer.morphs(sentence, stem=True)\n",
    "    \n",
    "    # 불용어 제거\n",
    "    temp_X = [word for word in temp_X if not word in stopwords]\n",
    "    \n",
    "    # 특수 기호 제거\n",
    "    punc = re.compile('[.?,!>)(:~\\-@/%]')\n",
    "    temp_X = [punc.sub('', word) for word in temp_X]\n",
    "    \n",
    "    # 빈 word 제거\n",
    "    temp_X = [word for word in temp_X if word != '']\n",
    "    \n",
    "    X_test.append(temp_X)"
   ]
  },
  {
   "cell_type": "code",
   "execution_count": 35,
   "id": "respected-rental",
   "metadata": {},
   "outputs": [
    {
     "data": {
      "text/plain": [
       "[['아', '더빙', '진짜', '짜증나다', '목소리'],\n",
       " ['흠', '포스터', '보고', '초딩', '영화', '줄', '오버', '연기', '조차', '가볍다', '않다'],\n",
       " ['너', '무재', '밓었', '다그', '래서', '보다', '추천', '다'],\n",
       " ['교도소', '이야기', '구먼', '솔직하다', '재미', '없다', '평점', '조정']]"
      ]
     },
     "execution_count": 35,
     "metadata": {},
     "output_type": "execute_result"
    }
   ],
   "source": [
    "# 처리 결과 살펴보기\n",
    "X_train[:4]"
   ]
  },
  {
   "cell_type": "code",
   "execution_count": 36,
   "id": "liked-virgin",
   "metadata": {},
   "outputs": [
    {
     "data": {
      "text/plain": [
       "[['굳다', 'ㅋ'],\n",
       " ['GDNTOPCLASSINTHECLUB'],\n",
       " ['뭐', '야', '평점', '나쁘다', '않다', '10', '점', '짜다', '리', '더', '더욱', '아니다'],\n",
       " ['지루하다', '않다', '완전', '막장', '임', '돈', '주다', '보기', '에는']]"
      ]
     },
     "execution_count": 36,
     "metadata": {},
     "output_type": "execute_result"
    }
   ],
   "source": [
    "X_test[:4]"
   ]
  },
  {
   "cell_type": "code",
   "execution_count": 115,
   "id": "detected-newspaper",
   "metadata": {},
   "outputs": [],
   "source": [
    "# 토큰화를 다시 할 수는 없다.. 복사해서 다른 변수로 쓰자\n",
    "final_X_train = X_train[:]\n",
    "final_X_test = X_test[:]"
   ]
  },
  {
   "cell_type": "code",
   "execution_count": 116,
   "id": "anonymous-briefs",
   "metadata": {},
   "outputs": [
    {
     "name": "stdout",
     "output_type": "stream",
     "text": [
      "train data: 146182\n",
      "test data: 49157\n"
     ]
    }
   ],
   "source": [
    "print(\"train data:\", len(final_X_train))\n",
    "print(\"test data:\", len(final_X_test))"
   ]
  },
  {
   "cell_type": "markdown",
   "id": "ideal-equality",
   "metadata": {},
   "source": [
    "### - word dictionary 생성"
   ]
  },
  {
   "cell_type": "code",
   "execution_count": 117,
   "id": "alleged-bruce",
   "metadata": {},
   "outputs": [],
   "source": [
    "# Tokenizer.fit_on_texts() 이용\n",
    "tokenizer = Tokenizer()\n",
    "tokenizer.fit_on_texts(final_X_train)"
   ]
  },
  {
   "cell_type": "code",
   "execution_count": 118,
   "id": "curious-georgia",
   "metadata": {},
   "outputs": [
    {
     "name": "stdout",
     "output_type": "stream",
     "text": [
      "47805\n"
     ]
    }
   ],
   "source": [
    "print(len(tokenizer.word_index))"
   ]
  },
  {
   "cell_type": "code",
   "execution_count": 119,
   "id": "weekly-evans",
   "metadata": {},
   "outputs": [
    {
     "name": "stdout",
     "output_type": "stream",
     "text": [
      "빈도가 3 미만인 단어의 개수: 27493\n"
     ]
    }
   ],
   "source": [
    "# 너무 많으니까 빈도가 3 미만인 것들은 사용하지 않는다\n",
    "cnt = 0\n",
    "for key, value in tokenizer.word_counts.items():\n",
    "    if value < 3:\n",
    "        cnt += 1\n",
    "        \n",
    "print(\"빈도가 3 미만인 단어의 개수:\", cnt)"
   ]
  },
  {
   "cell_type": "code",
   "execution_count": 120,
   "id": "blind-framing",
   "metadata": {},
   "outputs": [
    {
     "name": "stdout",
     "output_type": "stream",
     "text": [
      "train에 사용할 단어 개수: 20312\n"
     ]
    }
   ],
   "source": [
    "VOCAB_SIZE = len(tokenizer.word_index) - cnt\n",
    "\n",
    "print(\"train에 사용할 단어 개수:\", VOCAB_SIZE)"
   ]
  },
  {
   "cell_type": "code",
   "execution_count": 121,
   "id": "turned-physics",
   "metadata": {},
   "outputs": [],
   "source": [
    "# tokenize again\n",
    "tokenizer = Tokenizer(VOCAB_SIZE)\n",
    "tokenizer.fit_on_texts(final_X_train)"
   ]
  },
  {
   "cell_type": "code",
   "execution_count": 122,
   "id": "brazilian-royalty",
   "metadata": {},
   "outputs": [],
   "source": [
    "# text to sequence\n",
    "final_X_train = tokenizer.texts_to_sequences(final_X_train)\n",
    "final_X_test = tokenizer.texts_to_sequences(final_X_test)"
   ]
  },
  {
   "cell_type": "code",
   "execution_count": 123,
   "id": "ambient-stable",
   "metadata": {},
   "outputs": [
    {
     "name": "stdout",
     "output_type": "stream",
     "text": [
      "max len: 74\n",
      "mean len: 11.044619865976584\n",
      "std: 9.10804458392401\n"
     ]
    }
   ],
   "source": [
    "# maxlen에 따라 전체 모델 성능에 영향을 미치므로\n",
    "# dataset의 리뷰 길이의 분포 살펴보기\n",
    "total_text = list(final_X_train) + list(final_X_test)\n",
    "\n",
    "num_tokens = [len(tokens) for tokens in total_text]\n",
    "num_tokens = np.array(num_tokens)\n",
    "\n",
    "print(\"max len:\", np.max(num_tokens))\n",
    "print(\"mean len:\", np.mean(num_tokens))\n",
    "print(\"std:\", np.std(num_tokens))"
   ]
  },
  {
   "cell_type": "code",
   "execution_count": 124,
   "id": "substantial-frame",
   "metadata": {},
   "outputs": [
    {
     "data": {
      "image/png": "[encoded data removed]",
      "text/plain": [
       "<Figure size 432x288 with 2 Axes>"
      ]
     },
     "metadata": {
      "needs_background": "light"
     },
     "output_type": "display_data"
    }
   ],
   "source": [
    "plt.subplot(1, 2, 1)\n",
    "plt.boxplot(num_tokens)\n",
    "\n",
    "plt.subplot(1, 2, 2)\n",
    "plt.hist(num_tokens, bins=50)\n",
    "plt.tight_layout()\n",
    "\n",
    "plt.show()"
   ]
  },
  {
   "cell_type": "code",
   "execution_count": 125,
   "id": "committed-sampling",
   "metadata": {},
   "outputs": [
    {
     "name": "stdout",
     "output_type": "stream",
     "text": [
      "maxlen: 29\n",
      "전체 문장의 93.5962608593266%가 maxlen 이내에 포함됨\n"
     ]
    }
   ],
   "source": [
    "# maxlen을 (평균 + 2*표준편차)로 설정\n",
    "# 대부분의 문장이 maxlen 이내에 포함됨\n",
    "max_tokens = np.mean(num_tokens) + 2 * np.std(num_tokens)\n",
    "max_len = int(max_tokens)\n",
    "\n",
    "print('maxlen:', max_len)\n",
    "print(f'전체 문장의 {np.sum(num_tokens < max_tokens) / len(num_tokens) * 100}%가 maxlen 이내에 포함됨')"
   ]
  },
  {
   "cell_type": "markdown",
   "id": "distributed-aging",
   "metadata": {},
   "source": [
    "### - padding 추가"
   ]
  },
  {
   "cell_type": "code",
   "execution_count": 126,
   "id": "surrounded-biodiversity",
   "metadata": {
    "scrolled": true
   },
   "outputs": [
    {
     "name": "stdout",
     "output_type": "stream",
     "text": [
      "(146182, 29)\n",
      "(49157, 29)\n"
     ]
    }
   ],
   "source": [
    "final_X_train = pad_sequences(final_X_train, padding='pre', maxlen=max_len)\n",
    "final_X_test = pad_sequences(final_X_test, padding='pre', maxlen=max_len)\n",
    "\n",
    "print(final_X_train.shape)\n",
    "print(final_X_test.shape)"
   ]
  },
  {
   "cell_type": "markdown",
   "id": "wireless-estate",
   "metadata": {},
   "source": [
    "## 모델 설계 및 학습\n"
   ]
  },
  {
   "cell_type": "code",
   "execution_count": 153,
   "id": "oriented-group",
   "metadata": {},
   "outputs": [
    {
     "name": "stdout",
     "output_type": "stream",
     "text": [
      "Model: \"sequential_13\"\n",
      "_________________________________________________________________\n",
      "Layer (type)                 Output Shape              Param #   \n",
      "=================================================================\n",
      "embedding_13 (Embedding)     (None, None, 120)         2437440   \n",
      "_________________________________________________________________\n",
      "lstm_12 (LSTM)               (None, 60)                43440     \n",
      "_________________________________________________________________\n",
      "dense_13 (Dense)             (None, 1)                 61        \n",
      "=================================================================\n",
      "Total params: 2,480,941\n",
      "Trainable params: 2,480,941\n",
      "Non-trainable params: 0\n",
      "_________________________________________________________________\n"
     ]
    }
   ],
   "source": [
    "WORD_VECTOR_DIM = 120  # 워드 벡터의 차원 수 (변경 가능한 하이퍼파라미터)\n",
    "\n",
    "my_model = Sequential()\n",
    "my_model.add(Embedding(VOCAB_SIZE, WORD_VECTOR_DIM))\n",
    "my_model.add(LSTM(60))\n",
    "# model.add(Dense(128, activation='relu'))\n",
    "my_model.add(Dense(1, activation='sigmoid'))\n",
    "\n",
    "my_model.summary()"
   ]
  },
  {
   "cell_type": "code",
   "execution_count": 147,
   "id": "departmental-spine",
   "metadata": {},
   "outputs": [],
   "source": [
    "es = EarlyStopping(monitor='val_loss', mode='min', verbose=1, patience=2)\n",
    "mc = ModelCheckpoint('best_model', monitor='val_acc', mode='max', verbose=1, save_best_only=True)"
   ]
  },
  {
   "cell_type": "code",
   "execution_count": 154,
   "id": "failing-model",
   "metadata": {
    "scrolled": true
   },
   "outputs": [
    {
     "name": "stdout",
     "output_type": "stream",
     "text": [
      "Epoch 1/20\n",
      "1950/1950 [==============================] - 39s 18ms/step - loss: 0.4334 - accuracy: 0.7938 - val_loss: 0.3484 - val_accuracy: 0.8488\n",
      "WARNING:tensorflow:Can save best model only with val_acc available, skipping.\n",
      "Epoch 2/20\n",
      "1950/1950 [==============================] - 34s 18ms/step - loss: 0.2877 - accuracy: 0.8776 - val_loss: 0.3330 - val_accuracy: 0.8555\n",
      "WARNING:tensorflow:Can save best model only with val_acc available, skipping.\n",
      "Epoch 3/20\n",
      "1950/1950 [==============================] - 34s 18ms/step - loss: 0.2282 - accuracy: 0.9056 - val_loss: 0.3462 - val_accuracy: 0.8568\n",
      "WARNING:tensorflow:Can save best model only with val_acc available, skipping.\n",
      "Epoch 4/20\n",
      "1950/1950 [==============================] - 34s 18ms/step - loss: 0.1801 - accuracy: 0.9282 - val_loss: 0.3918 - val_accuracy: 0.8519\n",
      "WARNING:tensorflow:Can save best model only with val_acc available, skipping.\n",
      "Epoch 00004: early stopping\n"
     ]
    }
   ],
   "source": [
    "my_model.compile(optimizer='adam',\n",
    "              loss='binary_crossentropy',\n",
    "              metrics=['accuracy'])\n",
    "              \n",
    "history = my_model.fit(final_X_train,\n",
    "                       y_train,\n",
    "                       epochs=20,\n",
    "                       callbacks=[es, mc],\n",
    "                       batch_size=60,\n",
    "                       validation_split=0.2,\n",
    "                       verbose=1)"
   ]
  },
  {
   "cell_type": "code",
   "execution_count": 156,
   "id": "subjective-circular",
   "metadata": {},
   "outputs": [],
   "source": [
    "history_dict = history.history\n",
    "\n",
    "acc = history_dict['accuracy']\n",
    "val_acc = history_dict['val_accuracy']\n",
    "loss = history_dict['loss']\n",
    "val_loss = history_dict['val_loss']\n",
    "\n",
    "epochs = range(1, len(acc) + 1)"
   ]
  },
  {
   "cell_type": "code",
   "execution_count": 157,
   "id": "shaped-constitutional",
   "metadata": {},
   "outputs": [
    {
     "data": {
      "image/png": "[encoded data removed]",
      "text/plain": [
       "<Figure size 432x288 with 1 Axes>"
      ]
     },
     "metadata": {
      "needs_background": "light"
     },
     "output_type": "display_data"
    }
   ],
   "source": [
    "# \"bo\"는 \"파란색 점\"입니다\n",
    "plt.plot(epochs, loss, 'bo', label='Training loss')\n",
    "# b는 \"파란 실선\"입니다\n",
    "plt.plot(epochs, val_loss, 'b', label='Validation loss')\n",
    "plt.title('Training and validation loss')\n",
    "plt.xlabel('Epochs')\n",
    "plt.ylabel('Loss')\n",
    "plt.legend()\n",
    "\n",
    "plt.show()"
   ]
  },
  {
   "cell_type": "code",
   "execution_count": 158,
   "id": "intense-security",
   "metadata": {},
   "outputs": [
    {
     "data": {
      "image/png": "[encoded data removed]",
      "text/plain": [
       "<Figure size 432x288 with 1 Axes>"
      ]
     },
     "metadata": {
      "needs_background": "light"
     },
     "output_type": "display_data"
    }
   ],
   "source": [
    "plt.clf()   # 그림을 초기화합니다\n",
    "\n",
    "plt.plot(epochs, acc, 'bo', label='Training acc')\n",
    "plt.plot(epochs, val_acc, 'b', label='Validation acc')\n",
    "plt.title('Training and validation accuracy')\n",
    "plt.xlabel('Epochs')\n",
    "plt.ylabel('Accuracy')\n",
    "plt.legend()\n",
    "\n",
    "plt.show()"
   ]
  },
  {
   "cell_type": "code",
   "execution_count": 155,
   "id": "charming-mount",
   "metadata": {},
   "outputs": [
    {
     "name": "stdout",
     "output_type": "stream",
     "text": [
      "1537/1537 - 6s - loss: 0.4028 - accuracy: 0.8500\n"
     ]
    }
   ],
   "source": [
    "# 테스트셋을 통한 모델 평가\n",
    "results = my_model.evaluate(final_X_test, y_test, verbose=2)"
   ]
  },
  {
   "cell_type": "code",
   "execution_count": null,
   "id": "loose-shift",
   "metadata": {},
   "outputs": [],
   "source": [
    "# 실제 리뷰를 분류하는 함수\n",
    "def sentiment_predict(new_sentence):\n",
    "    # tokenize\n",
    "    new_sentence = okt.morphs(new_sentence, stem=True)\n",
    "    \n",
    "    # stopwords 제거\n",
    "    new_sentence = [word for word in new_sentence if not word in stopwords]\n",
    "    \n",
    "    # embedding\n",
    "    embedding = tokenizer.texts_to_sequences([new_sentence])\n",
    "    \n",
    "    # padding\n",
    "    padded = pad_sequences(embedding, maxlen=max_len)\n",
    "    \n",
    "    # prediction\n",
    "    score = float(my_model.predict(padded))\n",
    "    \n",
    "    if score > 0.5:\n",
    "        print(f\"{score * 100:.2f}% 확률로 positive\")\n",
    "    else:\n",
    "        print(f\"{(1 - score)*100:.2f}% 확률로 negative\")"
   ]
  },
  {
   "cell_type": "code",
   "execution_count": null,
   "id": "judicial-butter",
   "metadata": {},
   "outputs": [],
   "source": [
    "sentiment_predict('2시간 내내 몰입할 수 있었던 영화')"
   ]
  },
  {
   "cell_type": "code",
   "execution_count": null,
   "id": "sealed-cleaning",
   "metadata": {},
   "outputs": [],
   "source": []
  },
  {
   "cell_type": "code",
   "execution_count": null,
   "id": "rapid-postcard",
   "metadata": {},
   "outputs": [],
   "source": []
  },
  {
   "cell_type": "markdown",
   "id": "through-local",
   "metadata": {},
   "source": [
    "## gensim.models.Word2Vec 이용하기\n",
    "\n",
    "- gensim 버전 주의; pip install --upgrade gensim==3.8.3"
   ]
  },
  {
   "cell_type": "code",
   "execution_count": null,
   "id": "special-minister",
   "metadata": {
    "scrolled": false
   },
   "outputs": [
    {
     "name": "stderr",
     "output_type": "stream",
     "text": [
      "Exception in thread Thread-5:\n",
      "Traceback (most recent call last):\n",
      "  File \"/opt/conda/lib/python3.7/threading.py\", line 926, in _bootstrap_inner\n",
      "    self.run()\n",
      "  File \"/opt/conda/lib/python3.7/threading.py\", line 870, in run\n",
      "    self._target(*self._args, **self._kwargs)\n",
      "  File \"/opt/conda/lib/python3.7/site-packages/gensim/models/word2vec.py\", line 1155, in _worker_loop\n",
      "    class BrownCorpus(object):\n",
      "  File \"/opt/conda/lib/python3.7/site-packages/gensim/models/word2vec.py\", line 946, in _do_train_job\n",
      "    ----------\n",
      "  File \"gensim/models/word2vec_inner.pyx\", line 638, in gensim.models.word2vec_inner.train_batch_cbow\n",
      "ValueError: The truth value of an array with more than one element is ambiguous. Use a.any() or a.all()\n",
      "Exception in thread Thread-7:\n",
      "Traceback (most recent call last):\n",
      "  File \"/opt/conda/lib/python3.7/threading.py\", line 926, in _bootstrap_inner\n",
      "    self.run()\n",
      "  File \"/opt/conda/lib/python3.7/threading.py\", line 870, in run\n",
      "    self._target(*self._args, **self._kwargs)\n",
      "  File \"/opt/conda/lib/python3.7/site-packages/gensim/models/word2vec.py\", line 1155, in _worker_loop\n",
      "    class BrownCorpus(object):\n",
      "  File \"/opt/conda/lib/python3.7/site-packages/gensim/models/word2vec.py\", line 946, in _do_train_job\n",
      "    ----------\n",
      "  File \"gensim/models/word2vec_inner.pyx\", line 638, in gensim.models.word2vec_inner.train_batch_cbow\n",
      "ValueError: The truth value of an array with more than one element is ambiguous. Use a.any() or a.all()\n",
      "\n",
      "\n",
      "Exception in thread Thread-8:\n",
      "Traceback (most recent call last):\n",
      "  File \"/opt/conda/lib/python3.7/threading.py\", line 926, in _bootstrap_inner\n",
      "    self.run()\n",
      "  File \"/opt/conda/lib/python3.7/threading.py\", line 870, in run\n",
      "    self._target(*self._args, **self._kwargs)\n",
      "  File \"/opt/conda/lib/python3.7/site-packages/gensim/models/word2vec.py\", line 1155, in _worker_loop\n",
      "    class BrownCorpus(object):\n",
      "  File \"/opt/conda/lib/python3.7/site-packages/gensim/models/word2vec.py\", line 946, in _do_train_job\n",
      "    ----------\n",
      "  File \"gensim/models/word2vec_inner.pyx\", line 638, in gensim.models.word2vec_inner.train_batch_cbow\n",
      "ValueError: The truth value of an array with more than one element is ambiguous. Use a.any() or a.all()\n",
      "\n",
      "Exception in thread Thread-6:\n",
      "Traceback (most recent call last):\n",
      "  File \"/opt/conda/lib/python3.7/threading.py\", line 926, in _bootstrap_inner\n",
      "    self.run()\n",
      "  File \"/opt/conda/lib/python3.7/threading.py\", line 870, in run\n",
      "    self._target(*self._args, **self._kwargs)\n",
      "  File \"/opt/conda/lib/python3.7/site-packages/gensim/models/word2vec.py\", line 1155, in _worker_loop\n",
      "    class BrownCorpus(object):\n",
      "  File \"/opt/conda/lib/python3.7/site-packages/gensim/models/word2vec.py\", line 946, in _do_train_job\n",
      "    ----------\n",
      "  File \"gensim/models/word2vec_inner.pyx\", line 638, in gensim.models.word2vec_inner.train_batch_cbow\n",
      "ValueError: The truth value of an array with more than one element is ambiguous. Use a.any() or a.all()\n",
      "\n"
     ]
    }
   ],
   "source": [
    "word2vec_path = os.getenv('HOME') + '/aiffel/aiffel_projects/exploration/E7_sentimental_classification/data/ko.bin'\n",
    "\n",
    "# word2vec = KeyedVectors.load_word2vec_format(word2vec_path, binary=True, limit=1000000)\n",
    "model = Word2Vec(sentences=final_X_train, workers=4, sg=0)"
   ]
  },
  {
   "cell_type": "code",
   "execution_count": null,
   "id": "adjacent-partition",
   "metadata": {},
   "outputs": [],
   "source": [
    "model.wv.vectors.shape"
   ]
  },
  {
   "cell_type": "code",
   "execution_count": null,
   "id": "fitted-implement",
   "metadata": {},
   "outputs": [],
   "source": []
  },
  {
   "cell_type": "markdown",
   "id": "danish-subject",
   "metadata": {},
   "source": [
    "## 평가 및 회고\n",
    "\n",
    "- 직접 word embedding을 하고 RNN layer를 설계한 모델로 학습시킨 결과와 gensim word2vec model로 학습시킨 결과를 비교해 보았다.\n",
    "- 시간을 많이 들이지 못해 이해도와 완성도가 떨어지는 것이 아쉽다."
   ]
  }
 ],
 "metadata": {
  "kernelspec": {
   "display_name": "Python 3",
   "language": "python",
   "name": "python3"
  },
  "language_info": {
   "codemirror_mode": {
    "name": "ipython",
    "version": 3
   },
   "file_extension": ".py",
   "mimetype": "text/x-python",
   "name": "python",
   "nbconvert_exporter": "python",
   "pygments_lexer": "ipython3",
   "version": "3.7.9"
  }
 },
 "nbformat": 4,
 "nbformat_minor": 5
}
