{
  "nbformat": 4,
  "nbformat_minor": 0,
  "metadata": {
    "colab": {
      "name": "F27_sql.ipynb",
      "provenance": [],
      "collapsed_sections": []
    },
    "kernelspec": {
      "name": "python3",
      "display_name": "Python 3"
    },
    "language_info": {
      "name": "python"
    }
  },
  "cells": [
    {
      "cell_type": "markdown",
      "metadata": {
        "id": "KBEpITBAwbOA"
      },
      "source": [
        "# F27. SQL을 이용해 DB와 대화해보자\n",
        "\n",
        "- 파이썬에서 DB에 접근하기 위한 방법 중 가장 많이 사용하게 되는 것은 Python Database API.\n",
        "- Python DB-API는 여러 DB에 접근할 수 있는 표준 API이며, 크게 3 가지 작업을 한다.\n",
        "    - DB 연결\n",
        "    - SQL 쿼리 실행\n",
        "    - DB 연결 닫기\n",
        "\n",
        "- 기본적으로 PEP249 인터페이스 따름\n",
        "\n",
        "![image](https://user-images.githubusercontent.com/80008411/144697537-f676e03c-32f6-4321-86e2-4ba8435f2768.png)\n",
        "\n",
        "## 목표\n",
        "\n",
        "1. 기본 SQL 쿼리 알기\n",
        "2. 파이썬으로 DB를 연결해 SQL 쿼리 시도하기\n"
      ]
    },
    {
      "cell_type": "markdown",
      "metadata": {
        "id": "S-g1D0pqyYsY"
      },
      "source": [
        "# SQLite\n",
        "\n",
        "- SQLite는 서버가 필요 없이 DB의 파일에 기초해 DB 처리를 구현한 임베디드 SQL DB 엔진\n",
        "- 별도 설치 없이 쉽고 편리하게 사용 가능\n",
        "- 파이썬 2.5 이상 버전에 기본 내장\n"
      ]
    },
    {
      "cell_type": "code",
      "metadata": {
        "id": "zkrBXZ80wXKB"
      },
      "source": [
        "import os\n",
        "import sqlite3"
      ],
      "execution_count": 2,
      "outputs": []
    },
    {
      "cell_type": "code",
      "metadata": {
        "colab": {
          "base_uri": "https://localhost:8080/"
        },
        "id": "C5pyFuDOyq2I",
        "outputId": "2f89191f-da7b-48c2-c898-ac14e89011d1"
      },
      "source": [
        "db_path = os.getenv('HOME') + '/mydb.db'\n",
        "conn = sqlite3.connect(db_path)\n",
        "print(conn)"
      ],
      "execution_count": 3,
      "outputs": [
        {
          "output_type": "stream",
          "name": "stdout",
          "text": [
            "<sqlite3.Connection object at 0x7f98bb13ff10>\n"
          ]
        }
      ]
    },
    {
      "cell_type": "code",
      "metadata": {
        "colab": {
          "base_uri": "https://localhost:8080/"
        },
        "id": "NTUuMI04y2tf",
        "outputId": "43db77cd-ddde-415b-b6ea-4d005911c2e2"
      },
      "source": [
        "# sql 쿼리를 수행하고 결과를 얻는데 사용하는 객체\n",
        "# insert 같이 DB에만 적용되는 명령어를 사용할 경우 cursor가 필요하지 않다\n",
        "# 그러나 select 같이 db의 데이터를 불러올 때는 sql 쿼리 수행 결과에 접근하기 위해 cursor가 꼭 필요함\n",
        "\n",
        "c = conn.cursor()\n",
        "print(c)"
      ],
      "execution_count": 5,
      "outputs": [
        {
          "output_type": "stream",
          "name": "stdout",
          "text": [
            "<sqlite3.Cursor object at 0x7f98b7398570>\n"
          ]
        }
      ]
    },
    {
      "cell_type": "code",
      "metadata": {
        "colab": {
          "base_uri": "https://localhost:8080/"
        },
        "id": "8o0hyXb1y71B",
        "outputId": "2fe8fe75-afa7-4c66-cfec-6774f9a1608f"
      },
      "source": [
        "# stocks라는 이름을 테이블 생성\n",
        "c.execute('CREATE TABLE IF NOT EXISTS stocks(date text, trans text, symbol text, qty real, price real)')\n",
        "\n",
        "# stocks 테이블에 데이터를 하나 인서트\n",
        "c.execute(\"INSERT INTO stocks VALUES ('20200701', 'TEST', 'AIFFEL', 1, 10000)\")\n",
        "\n",
        "# 방금 인서트한 데이터 조회\n",
        "c.execute('SELECT * FROM stocks')\n",
        "\n",
        "# 조회 내역을 커서로 가져와서 출력\n",
        "print(c.fetchone())"
      ],
      "execution_count": 7,
      "outputs": [
        {
          "output_type": "stream",
          "name": "stdout",
          "text": [
            "('20200701', 'TEST', 'AIFFEL', 1.0, 10000.0)\n"
          ]
        }
      ]
    },
    {
      "cell_type": "code",
      "metadata": {
        "id": "H-IXh4PZzkv2"
      },
      "source": [
        "# commit을 통해 db 업데이트\n",
        "# commit을 하지 않으면 db에 반영되지 않음\n",
        "c.close()  # 먼저 커서를 닫고\n",
        "conn.close()  # db 연결 닫기 & db에 데이터 변경 반영"
      ],
      "execution_count": 8,
      "outputs": []
    },
    {
      "cell_type": "markdown",
      "metadata": {
        "id": "uqafFRMk5gCb"
      },
      "source": [
        "### - 트랜잭션\n",
        "\n",
        "- 쪼개질 수 없는 업무 처리 단위\n",
        "- 예를 들어 ATM 계좌이체 시 출금 계좌와 입금 계좌 양쪽에서 금액이 빠지고 더해지는 과정이 쪼개져서는 안 됨.\n",
        "- 또 온라인 쇼핑에서 결제 완료와 상품 배송 처리가 쪼개지면 안 됨.\n",
        "- ACID: db 트랜잭션이 안전하게 수행된다는 것을 보장하기 위한 성질을 가리키는 약어\n",
        "    - 원자성 Atomicity: 트랜잭션에 속한 작업들이 모두 수행되었는지 보장하는 능력. 즉 중간까지만 실행되고 실패하는 일은 없도록 하는 것\n",
        "    - 일관성 Consistency: 트랜잭션이 실행을 성공적으로 완료하면 언제나 일관성 있는 데이터베이스 상태로 유지\n",
        "    - 고립성 Isolation: 트랜잭션 수행 시 다른 트랜잭션의 연산 작업이 끼어들지 못하게 보장\n",
        "    - 지속성 Durability: 성공적으로 수행된 트랜잭션은 영원히 반영되어야 함\n",
        "- 부분 작업들 여러 개가 모여진 이러한 트랜잭션을 처리하기 위해 db는 다음과 같은 기술을 제공한다.\n",
        "    - 롤백: 부분 작업이 실패하면 트랜잭션 실행 전으로 되돌림\n",
        "    - 커밋: 모든 부분작업이 정상 완료되면 변경사항을 한꺼번에 db에 반영\n"
      ]
    },
    {
      "cell_type": "code",
      "metadata": {
        "colab": {
          "base_uri": "https://localhost:8080/",
          "height": 244
        },
        "id": "clPnt0gl8J3Z",
        "outputId": "0aa47bfe-3ba3-4753-cdd6-dd88a9da3538"
      },
      "source": [
        "import sqlite3\n",
        "import os\n",
        "db_path = os.getenv('HOME')+'/mydb.db'\n",
        "\n",
        "conn = sqlite3.connect(db_path)\n",
        "c = conn.cursor()\n",
        "\n",
        "#- ! 재실행 시 테이블이 존재할 수 있으므로 아래처럼 해당 테이블들을 모두 지워줍니다.\n",
        "c.execute(\"DROP TABLE IF EXISTS 도서대출내역\")\n",
        "c.execute(\"DROP TABLE IF EXISTS 도서대출내역2\")\n",
        "c.execute(\"DROP TABLE IF EXISTS 대출내역\")\n",
        "c.execute(\"DROP TABLE IF EXISTS 도서명\")\n",
        "\n",
        "\n",
        "#----- 1st table : 도서대출내역 -----#\n",
        "c.execute(\"CREATE TABLE IF NOT EXISTS 도서대출내역 (ID varchar, 이름 varchar, 도서ID varchar, 대출일 varchar, 반납일 varchar)\")\n",
        "#- 생성(create)문 : 테이블명, 변수명, 변수타입을 지정\n",
        "\n",
        "data = [('101','문강태','aaa','2020-06-01','2020-06-05'),\n",
        "             ('101','문강태','ccc','2020-06-20','2020-06-25'),\n",
        "             ('102','고문영','bbb','2020-06-01',None),\n",
        "             ('102','고문영','ddd','2020-06-08',None),\n",
        "             ('103','문상태','ccc','2020-06-01','2020-06-05'),\n",
        "             ('104','강기둥',None,None,None)]\n",
        "#- 입력할 데이터를 그대로 입력 (변수명 순서 기준대로)\n",
        "\n",
        "c.executemany('INSERT INTO 도서대출내역 VALUES (?,?,?,?,?)', data)\n",
        "#- 입력할 데이터를 실제 테이블에 insert하기\n",
        "#-----------------------------------------------#\n",
        "\n",
        "\n",
        "#----- 2nd table : 도서대출내역2 -----#\n",
        "c.execute(\"CREATE TABLE IF NOT EXISTS 도서대출내역2 (ID varchar, 이름 varchar, 대출년월 varchar, 대출일수 varchar)\")\n",
        "\n",
        "data = [('101','문강태','2020-06','20일'),\n",
        "             ('102','고문영','2020-06','10일'),\n",
        "             ('103','문상태','2020-06','8일'),\n",
        "             ('104','강기둥','2020-06','3일')]\n",
        "c.executemany('INSERT INTO 도서대출내역2 VALUES (?,?,?,?)', data)\n",
        "#--------------------------------------------------#\n",
        "\n",
        "\n",
        "#----- 3rd table : 대출내역 -----#\n",
        "c.execute(\"CREATE TABLE IF NOT EXISTS 대출내역 (ID varchar, 이름 varchar, 도서ID varchar)\")\n",
        "\n",
        "data = [('101','문강태','aaa'),\n",
        "             ('102','고문영','bbb'),\n",
        "             ('102','고문영','fff'),\n",
        "             ('103','문상태','ccc'),\n",
        "             ('104','강기둥',None)]\n",
        "c.executemany('INSERT INTO 대출내역 VALUES (?,?,?)', data)\n",
        "#-----------------------------------------#\n",
        "\n",
        "\n",
        "#----- 4th table : 도서명 -----#\n",
        "c.execute(\"CREATE TABLE IF NOT EXISTS 도서명 (도서ID varchar, 도서명 varchar)\")\n",
        "\n",
        "data = [('aaa','악몽을 먹고 자란 소년'),\n",
        "             ('bbb','좀비아이'),\n",
        "             ('ccc','공룡백과사전'),\n",
        "             ('ddd','빨간구두'),\n",
        "             ('eee','잠자는 숲속의 미녀')]\n",
        "\n",
        "c.executemany('INSERT INTO 도서명 VALUES (?,?)', data)\n",
        "#--------------------------------------#\n",
        "\n",
        "conn.commit()\n",
        "conn.close()"
      ],
      "execution_count": 13,
      "outputs": [
        {
          "output_type": "error",
          "ename": "OperationalError",
          "evalue": "ignored",
          "traceback": [
            "\u001b[0;31m---------------------------------------------------------------------------\u001b[0m",
            "\u001b[0;31mOperationalError\u001b[0m                          Traceback (most recent call last)",
            "\u001b[0;32m<ipython-input-13-c8c401d0b6a3>\u001b[0m in \u001b[0;36m<module>\u001b[0;34m()\u001b[0m\n\u001b[1;32m     10\u001b[0m \u001b[0mc\u001b[0m\u001b[0;34m.\u001b[0m\u001b[0mexecute\u001b[0m\u001b[0;34m(\u001b[0m\u001b[0;34m\"DROP TABLE IF EXISTS 도서대출내역2\"\u001b[0m\u001b[0;34m)\u001b[0m\u001b[0;34m\u001b[0m\u001b[0;34m\u001b[0m\u001b[0m\n\u001b[1;32m     11\u001b[0m \u001b[0mc\u001b[0m\u001b[0;34m.\u001b[0m\u001b[0mexecute\u001b[0m\u001b[0;34m(\u001b[0m\u001b[0;34m\"DROP TABLE IF EXISTS 대출내역\"\u001b[0m\u001b[0;34m)\u001b[0m\u001b[0;34m\u001b[0m\u001b[0;34m\u001b[0m\u001b[0m\n\u001b[0;32m---> 12\u001b[0;31m \u001b[0mc\u001b[0m\u001b[0;34m.\u001b[0m\u001b[0mexecute\u001b[0m\u001b[0;34m(\u001b[0m\u001b[0;34m\"DROP TABLE IF EXISTS 도서명\"\u001b[0m\u001b[0;34m)\u001b[0m\u001b[0;34m\u001b[0m\u001b[0;34m\u001b[0m\u001b[0m\n\u001b[0m\u001b[1;32m     13\u001b[0m \u001b[0;34m\u001b[0m\u001b[0m\n\u001b[1;32m     14\u001b[0m \u001b[0;34m\u001b[0m\u001b[0m\n",
            "\u001b[0;31mOperationalError\u001b[0m: database is locked"
          ]
        }
      ]
    },
    {
      "cell_type": "code",
      "metadata": {
        "colab": {
          "base_uri": "https://localhost:8080/"
        },
        "id": "ZhXWEDZI70cA",
        "outputId": "3df6f832-5b37-471e-a69f-984d557a243f"
      },
      "source": [
        "#----- 4th table : 도서명 -----#\n",
        "\n",
        "# [1]\n",
        "c.execute(\"CREATE TABLE IF NOT EXISTS 도서명 (도서ID varchar, 도서명 varchar)\")\n",
        "\n",
        "# [2]\n",
        "data = [('aaa','악몽을 먹고 자란 소년'),\n",
        "             ('bbb','좀비아이'),\n",
        "             ('ccc','공룡백과사전'),\n",
        "             ('ddd','빨간구두'),\n",
        "             ('eee','잠자는 숲속의 미녀')]\n",
        "\n",
        "# [3]\n",
        "# 한꺼번에 여러 데이터를 처리\n",
        "# 입력 데이터를 list로 관리할 경우 유용\n",
        "c.executemany('INSERT INTO 도서명 VALUES (?,?)', data)\n",
        "#--------------------------------------#"
      ],
      "execution_count": 10,
      "outputs": [
        {
          "output_type": "execute_result",
          "data": {
            "text/plain": [
              "<sqlite3.Cursor at 0x7f98b73a3650>"
            ]
          },
          "metadata": {},
          "execution_count": 10
        }
      ]
    },
    {
      "cell_type": "code",
      "metadata": {
        "id": "TgchGu525Y_M"
      },
      "source": [
        "# DDL문으로 테이블 생성\n",
        "conn = sqlite3.connect(db_path)\n",
        "c = conn.cursor()\n",
        "\n",
        "for row in c.execute('SELECT * FROM 도서명'):\n",
        "  print(row)"
      ],
      "execution_count": 11,
      "outputs": []
    },
    {
      "cell_type": "code",
      "metadata": {
        "id": "gkP763pL7l3z"
      },
      "source": [
        ""
      ],
      "execution_count": null,
      "outputs": []
    }
  ]
}