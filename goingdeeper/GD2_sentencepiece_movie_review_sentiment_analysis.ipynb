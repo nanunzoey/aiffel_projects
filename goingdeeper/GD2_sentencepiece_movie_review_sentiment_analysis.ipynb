{
 "cells": [
  {
   "cell_type": "markdown",
   "id": "rapid-renaissance",
   "metadata": {},
   "source": [
    "# SentencePiece를 이용한 영화 리뷰 감성 분석\n",
    "\n",
    "<br>\n",
    "\n",
    "## 목차\n",
    "\n",
    "1. [Corpus 데이터 로드](#Corpus-데이터-로드)\n",
    "2. [SentencePiece 모델 학습](#SentencePiece-모델-학습)\n",
    "3. [학습 데이터 로드](#학습-데이터-로드)\n",
    "4. [데이터 전처리](#데이터-전처리)\n",
    "    - [문장 길이 분포 확인](#문장-길이-분포-확인)\n",
    "    - [공백 삭제](#공백-삭제)\n",
    "    - [min_len, max_len 설정](#min_len,-max_len-설정)\n",
    "5. [토크나이저 생성](#토크나이저-생성)\n",
    "6. [Train, Validation, Test 데이터셋 분리](#Train,-Validation,-Test-데이터셋-분리)\n",
    "7. [모델 설계 및 학습](#모델-설계-및-학습)\n",
    "8. [모델 평가](#모델-평가)\n",
    "\n",
    "<hr>"
   ]
  },
  {
   "cell_type": "code",
   "execution_count": 77,
   "id": "searching-bullet",
   "metadata": {},
   "outputs": [],
   "source": [
    "import os\n",
    "import re\n",
    "import urllib.request\n",
    "import warnings\n",
    "warnings.filterwarnings(action='ignore')\n",
    "\n",
    "import numpy as np\n",
    "import pandas as pd\n",
    "import matplotlib.pyplot as plt\n",
    "%matplotlib inline\n",
    "\n",
    "import tensorflow as tf\n",
    "from tensorflow.keras.models import Sequential, load_model\n",
    "from tensorflow.keras.layers import Embedding, Dense, LSTM\n",
    "from tensorflow.keras.callbacks import EarlyStopping, ModelCheckpoint\n",
    "\n",
    "import keras\n",
    "from sklearn.model_selection import train_test_split\n",
    "\n",
    "import sentencepiece as spm"
   ]
  },
  {
   "cell_type": "markdown",
   "id": "aging-ottawa",
   "metadata": {},
   "source": [
    "## Corpus 데이터 로드"
   ]
  },
  {
   "cell_type": "code",
   "execution_count": 2,
   "id": "collect-stupid",
   "metadata": {},
   "outputs": [
    {
     "name": "stdout",
     "output_type": "stream",
     "text": [
      "Data Size: 94123\n",
      "Example:\n",
      ">> 개인용 컴퓨터 사용의 상당 부분은 \"이것보다 뛰어날 수 있느냐?\"\n",
      ">> 북한의 핵무기 계획을 포기하도록 하려는 압력이 거세지고 있는 가운데, 일본과 북한의 외교관들이 외교 관계를 정상화하려는 회담을 재개했다.\n",
      ">> \"경호 로보트가 침입자나 화재를 탐지하기 위해서 개인적으로, 그리고 전문적으로 사용되고 있습니다.\"\n",
      ">> 수자원부 당국은 논란이 되고 있고, 막대한 비용이 드는 이 사업에 대해 내년에 건설을 시작할 계획이다.\n",
      ">> 또한 근력 운동은 활발하게 걷는 것이나 최소한 20분 동안 뛰는 것과 같은 유산소 활동에서 얻는 운동 효과를 심장과 폐에 주지 않기 때문에, 연구학자들은 근력 운동이 심장에 큰 영향을 미치는지 여부에 대해 논쟁을 해왔다.\n"
     ]
    }
   ],
   "source": [
    "base_path = os.getenv('HOME') + '/aiffel/aiffel_projects/goingdeeper/GD2_sp_tokenizer'\n",
    "file_path = base_path + '/data/korean-english-park.train.ko'\n",
    "\n",
    "with open(file_path, 'r') as f:\n",
    "    raw = f.read().splitlines()\n",
    "    \n",
    "print('Data Size:', len(raw))\n",
    "print('Example:')\n",
    "for sen in raw[0:100][::20]:\n",
    "    print('>>', sen)"
   ]
  },
  {
   "cell_type": "code",
   "execution_count": 3,
   "id": "comfortable-scale",
   "metadata": {},
   "outputs": [
    {
     "name": "stdout",
     "output_type": "stream",
     "text": [
      "min_len: 1\n",
      "max_len: 377\n",
      "mean_len: 60\n"
     ]
    },
    {
     "data": {
      "image/png": "[encoded data removed]",
      "text/plain": [
       "<Figure size 432x288 with 1 Axes>"
      ]
     },
     "metadata": {
      "needs_background": "light"
     },
     "output_type": "display_data"
    }
   ],
   "source": [
    "# 문장 길이 분포 시각화\n",
    "min_len = 999\n",
    "max_len = 0\n",
    "sum_len = 0\n",
    "\n",
    "for sen in raw:\n",
    "    length = len(sen)\n",
    "    if min_len > length:\n",
    "        min_len = length\n",
    "    if max_len < length:\n",
    "        max_len = length\n",
    "    sum_len += length\n",
    "\n",
    "print('min_len:', min_len)\n",
    "print('max_len:', max_len)\n",
    "print('mean_len:', sum_len//len(raw))\n",
    "\n",
    "sentence_length = np.zeros((max_len), dtype=np.int)\n",
    "\n",
    "for sen in raw:\n",
    "    sentence_length[len(sen)-1] += 1\n",
    "    \n",
    "plt.bar(range(max_len), sentence_length, width=1.0)\n",
    "plt.title('Sentence Length Distribution')\n",
    "plt.show()"
   ]
  },
  {
   "cell_type": "code",
   "execution_count": 4,
   "id": "assigned-decrease",
   "metadata": {},
   "outputs": [
    {
     "name": "stdout",
     "output_type": "stream",
     "text": [
      "’\n"
     ]
    }
   ],
   "source": [
    "# 길이가 1인 문장 확인\n",
    "def check_sentence_length(raw, length):\n",
    "    count = 0\n",
    "    \n",
    "    for sen in raw:\n",
    "        if len(sen) == length:\n",
    "            print(sen)\n",
    "            count += 1\n",
    "            if count > 100: return\n",
    "            \n",
    "check_sentence_length(raw, 1)"
   ]
  },
  {
   "cell_type": "code",
   "execution_count": 5,
   "id": "alleged-questionnaire",
   "metadata": {},
   "outputs": [
    {
     "name": "stdout",
     "output_type": "stream",
     "text": [
      "Outlier Index: 11\n",
      "Outlier Index: 19\n",
      "Outlier Index: 21\n"
     ]
    }
   ],
   "source": [
    "# 같은 길이의 문장 개수가 1500개 초과인 문장들 확인\n",
    "for idx,_sum in enumerate(sentence_length):\n",
    "    if _sum > 1500:\n",
    "        print('Outlier Index:', idx+1)"
   ]
  },
  {
   "cell_type": "code",
   "execution_count": 6,
   "id": "handy-california",
   "metadata": {
    "scrolled": true
   },
   "outputs": [
    {
     "name": "stdout",
     "output_type": "stream",
     "text": [
      "라고 조던이 말했다.\n",
      "- 모르고 있습니다.\n",
      "- 네, 보이는군요.\n",
      "디즈니사만이 아니다.\n",
      "큰 파티는 아니지요.\n",
      "의자는 비어 있었다.\n",
      "이 일은 계속됩니다.\n",
      "나는 크게 실망했다.\n",
      "그 이유는 간단하다.\n",
      "이력서와 자기 소개서\n",
      "시대가 변하고 있다.\n",
      "는 돌발질문을 했다.\n",
      "9. 몇 분간의 명상\n",
      "하와이, 빅 아일랜드\n",
      "키스를 잘 하는 방법\n",
      "키스를 잘 하는 방법\n",
      "스피어스가 뚱뚱한가?\n",
      "산 위를 나는 느낌.\n",
      "세 시간쯤 걸었을까?\n",
      "(아직 읽고있습니까?\n",
      "처음에는 장난이었다.\n",
      "우리는 운이 좋았다.\n",
      "아기가 숨을 멈출 때\n",
      "건물 전체 무너져내려\n",
      "그녀의 아름다운 눈.\n",
      "대답은 다음과 같다.\n",
      "\"사과할 것이 없다.\n",
      "폭탄테러가 공포 유발\n",
      "그는 \"잘 모르겠다.\n",
      "그는 \"잘 모르겠다.\n",
      "그는 \"잘 모르겠다.\n",
      "그는 \"잘 모르겠다.\n",
      "그는 \"잘 모르겠다.\n",
      "그는 \"잘 모르겠다.\n",
      "그는 \"잘 모르겠다.\n",
      "그는 \"잘 모르겠다.\n",
      "그는 \"잘 모르겠다.\n",
      "케냐 야생동물 고아원\n",
      "경유 1200원대로…\n",
      "더 내려야 하는 이유\n",
      "케냐 야생동물 고아원\n",
      "경유 1200원대로…\n",
      "더 내려야 하는 이유\n",
      "케냐 야생동물 고아원\n",
      "경유 1200원대로…\n",
      "더 내려야 하는 이유\n",
      "케냐 야생동물 고아원\n",
      "경유 1200원대로…\n",
      "더 내려야 하는 이유\n",
      "케냐 야생동물 고아원\n",
      "경유 1200원대로…\n",
      "더 내려야 하는 이유\n",
      "케냐 야생동물 고아원\n",
      "경유 1200원대로…\n",
      "더 내려야 하는 이유\n",
      "케냐 야생동물 고아원\n",
      "경유 1200원대로…\n",
      "더 내려야 하는 이유\n",
      "케냐 야생동물 고아원\n",
      "경유 1200원대로…\n",
      "더 내려야 하는 이유\n",
      "케냐 야생동물 고아원\n",
      "경유 1200원대로…\n",
      "더 내려야 하는 이유\n",
      "케냐 야생동물 고아원\n",
      "경유 1200원대로…\n",
      "더 내려야 하는 이유\n",
      "케냐 야생동물 고아원\n",
      "경유 1200원대로…\n",
      "더 내려야 하는 이유\n",
      "케냐 야생동물 고아원\n",
      "경유 1200원대로…\n",
      "더 내려야 하는 이유\n",
      "케냐 야생동물 고아원\n",
      "경유 1200원대로…\n",
      "더 내려야 하는 이유\n",
      "케냐 야생동물 고아원\n",
      "경유 1200원대로…\n",
      "더 내려야 하는 이유\n",
      "케냐 야생동물 고아원\n",
      "경유 1200원대로…\n",
      "더 내려야 하는 이유\n",
      "케냐 야생동물 고아원\n",
      "경유 1200원대로…\n",
      "더 내려야 하는 이유\n",
      "케냐 야생동물 고아원\n",
      "경유 1200원대로…\n",
      "더 내려야 하는 이유\n",
      "케냐 야생동물 고아원\n",
      "경유 1200원대로…\n",
      "더 내려야 하는 이유\n",
      "케냐 야생동물 고아원\n",
      "경유 1200원대로…\n",
      "더 내려야 하는 이유\n",
      "케냐 야생동물 고아원\n",
      "경유 1200원대로…\n",
      "더 내려야 하는 이유\n",
      "조금은 새침한 샬롯？\n",
      "조금은 새침한 샬롯？\n",
      "케냐 야생동물 고아원\n",
      "경유 1200원대로…\n"
     ]
    }
   ],
   "source": [
    "check_sentence_length(raw, 11) # 중복 문장 많음"
   ]
  },
  {
   "cell_type": "code",
   "execution_count": 7,
   "id": "invisible-certification",
   "metadata": {},
   "outputs": [
    {
     "name": "stdout",
     "output_type": "stream",
     "text": [
      "Data Size: 77591\n",
      "문장의 최단 길이: 1\n",
      "문장의 최장 길이: 377\n",
      "문장의 평균 길이: 64\n"
     ]
    },
    {
     "data": {
      "image/png": "[encoded data removed]",
      "text/plain": [
       "<Figure size 432x288 with 1 Axes>"
      ]
     },
     "metadata": {
      "needs_background": "light"
     },
     "output_type": "display_data"
    }
   ],
   "source": [
    "# 중복 처리를 위해 set 이용\n",
    "cleaned_corpus = list(set(raw))\n",
    "print('Data Size:', len(cleaned_corpus))\n",
    "\n",
    "# 다시 문장 길이 분포 확인\n",
    "min_len = 999\n",
    "max_len = 0\n",
    "sum_len = 0\n",
    "\n",
    "for sen in cleaned_corpus:\n",
    "    length = len(sen)\n",
    "    if min_len > length:\n",
    "        min_len = length\n",
    "    if max_len < length:\n",
    "        max_len = length\n",
    "    sum_len += length\n",
    "    \n",
    "print(\"문장의 최단 길이:\", min_len)\n",
    "print(\"문장의 최장 길이:\", max_len)\n",
    "print(\"문장의 평균 길이:\", sum_len // len(cleaned_corpus))\n",
    "\n",
    "sentence_length = np.zeros((max_len), dtype=np.int)\n",
    "\n",
    "for sen in cleaned_corpus:\n",
    "    sentence_length[len(sen)-1] += 1\n",
    "    \n",
    "plt.bar(range(max_len), sentence_length, width=1.0)\n",
    "plt.title('Sentence Length Distribution')\n",
    "plt.show()"
   ]
  },
  {
   "cell_type": "code",
   "execution_count": 8,
   "id": "running-vacuum",
   "metadata": {},
   "outputs": [
    {
     "data": {
      "image/png": "[encoded data removed]",
      "text/plain": [
       "<Figure size 432x288 with 1 Axes>"
      ]
     },
     "metadata": {
      "needs_background": "light"
     },
     "output_type": "display_data"
    }
   ],
   "source": [
    "max_len = 150\n",
    "min_len = 10\n",
    "\n",
    "filtered_corpus = [s for s in cleaned_corpus if (len(s) < max_len) & (len(s) >= min_len)]\n",
    "\n",
    "# 다시 길이 분포를 시각화해서 살펴보기\n",
    "sentence_length = np.zeros((max_len), dtype=np.int)\n",
    "\n",
    "for sen in filtered_corpus:\n",
    "    sentence_length[len(sen)-1] += 1\n",
    "\n",
    "plt.bar(range(max_len), sentence_length, width=1.0)\n",
    "plt.title(\"Sentence Length Distribution\")\n",
    "plt.show()"
   ]
  },
  {
   "cell_type": "markdown",
   "id": "moderate-buffalo",
   "metadata": {},
   "source": [
    "## SentencePiece 모델 학습"
   ]
  },
  {
   "cell_type": "code",
   "execution_count": 9,
   "id": "filled-amateur",
   "metadata": {},
   "outputs": [],
   "source": [
    "temp_file = base_path + '/data/korean-english-park.train.ko.temp'\n",
    "\n",
    "with open(temp_file, 'w') as f:\n",
    "    for row in filtered_corpus:\n",
    "        f.write(str(row) + '\\n')\n",
    "        \n",
    "VOCAB_SIZE = 8000\n",
    "\n",
    "# --model_type의 default='unigram'\n",
    "# --model_type='bpe'로 변경 가능\n",
    "# old interface for train\n",
    "spm.SentencePieceTrainer.Train('--input={} --model_prefix=korean_spm --vocab_size={}'.format(temp_file,VOCAB_SIZE))"
   ]
  },
  {
   "cell_type": "code",
   "execution_count": 10,
   "id": "judicial-andrews",
   "metadata": {},
   "outputs": [
    {
     "name": "stdout",
     "output_type": "stream",
     "text": [
      "-rw-r--r-- 1 root root 376924 Sep 28 12:48 korean_spm.model\r\n",
      "-rw-r--r-- 1 root root 146388 Sep 28 12:48 korean_spm.vocab\r\n"
     ]
    }
   ],
   "source": [
    "!ls -l korean_spm*"
   ]
  },
  {
   "cell_type": "code",
   "execution_count": 11,
   "id": "lyric-tuesday",
   "metadata": {},
   "outputs": [
    {
     "data": {
      "text/plain": [
       "True"
      ]
     },
     "execution_count": 11,
     "metadata": {},
     "output_type": "execute_result"
    }
   ],
   "source": [
    "s = spm.SentencePieceProcessor()\n",
    "s.Load(base_path + '/model/korean_spm.model')"
   ]
  },
  {
   "cell_type": "markdown",
   "id": "buried-moore",
   "metadata": {},
   "source": [
    "## 학습 데이터 로드\n",
    "\n",
    "- [네이버 영화 댓글 데이터셋](https://github.com/e9t/nsmc)\n",
    "\n",
    "- 200K reviews in total\n",
    "    - train.txt: 150K reviews\n",
    "    - test.txt: 50K reviews\n",
    "- label\n",
    "    - each class is sampled equally\n",
    "    - 0: negative \\(100K reviews of ratings 1-4\\)\n",
    "    - 1: positive \\(100K reviews of ratings 9-10\\)\n",
    "    - neutral reviews\\(ratings 5-8\\) are excluded\n",
    "    \n",
    "- All reveiws are shorter than 140 characters"
   ]
  },
  {
   "cell_type": "code",
   "execution_count": 12,
   "id": "confused-perspective",
   "metadata": {},
   "outputs": [
    {
     "data": {
      "text/plain": [
       "('ratings_test.txt', <http.client.HTTPMessage at 0x7fefdb3d1ad0>)"
      ]
     },
     "execution_count": 12,
     "metadata": {},
     "output_type": "execute_result"
    }
   ],
   "source": [
    "urllib.request.urlretrieve(\"https://raw.githubusercontent.com/e9t/nsmc/master/ratings_train.txt\", filename=\"ratings_train.txt\")\n",
    "urllib.request.urlretrieve(\"https://raw.githubusercontent.com/e9t/nsmc/master/ratings_test.txt\", filename=\"ratings_test.txt\")"
   ]
  },
  {
   "cell_type": "code",
   "execution_count": 13,
   "id": "inappropriate-alliance",
   "metadata": {},
   "outputs": [],
   "source": [
    "!mv ratings_train.txt ~/aiffel/aiffel_projects/goingdeeper/GD2_sp_tokenizer/data\n",
    "!mv ratings_test.txt ~/aiffel/aiffel_projects/goingdeeper/GD2_sp_tokenizer/data"
   ]
  },
  {
   "cell_type": "code",
   "execution_count": 14,
   "id": "narrow-match",
   "metadata": {},
   "outputs": [],
   "source": [
    "train_data = pd.read_table(base_path + '/data/ratings_train.txt')\n",
    "test_data = pd.read_table(base_path + '/data/ratings_test.txt')"
   ]
  },
  {
   "cell_type": "code",
   "execution_count": 15,
   "id": "refined-excerpt",
   "metadata": {
    "scrolled": true
   },
   "outputs": [
    {
     "name": "stdout",
     "output_type": "stream",
     "text": [
      "train data: 150000\n",
      "test data: 50000\n"
     ]
    }
   ],
   "source": [
    "print('train data:', len(train_data))\n",
    "print('test data:', len(test_data))"
   ]
  },
  {
   "cell_type": "code",
   "execution_count": 16,
   "id": "intellectual-teddy",
   "metadata": {},
   "outputs": [
    {
     "data": {
      "text/html": [
       "<div>\n",
       "<style scoped>\n",
       "    .dataframe tbody tr th:only-of-type {\n",
       "        vertical-align: middle;\n",
       "    }\n",
       "\n",
       "    .dataframe tbody tr th {\n",
       "        vertical-align: top;\n",
       "    }\n",
       "\n",
       "    .dataframe thead th {\n",
       "        text-align: right;\n",
       "    }\n",
       "</style>\n",
       "<table border=\"1\" class=\"dataframe\">\n",
       "  <thead>\n",
       "    <tr style=\"text-align: right;\">\n",
       "      <th></th>\n",
       "      <th>id</th>\n",
       "      <th>document</th>\n",
       "      <th>label</th>\n",
       "    </tr>\n",
       "  </thead>\n",
       "  <tbody>\n",
       "    <tr>\n",
       "      <th>0</th>\n",
       "      <td>9976970</td>\n",
       "      <td>아 더빙.. 진짜 짜증나네요 목소리</td>\n",
       "      <td>0</td>\n",
       "    </tr>\n",
       "    <tr>\n",
       "      <th>1</th>\n",
       "      <td>3819312</td>\n",
       "      <td>흠...포스터보고 초딩영화줄....오버연기조차 가볍지 않구나</td>\n",
       "      <td>1</td>\n",
       "    </tr>\n",
       "    <tr>\n",
       "      <th>2</th>\n",
       "      <td>10265843</td>\n",
       "      <td>너무재밓었다그래서보는것을추천한다</td>\n",
       "      <td>0</td>\n",
       "    </tr>\n",
       "    <tr>\n",
       "      <th>3</th>\n",
       "      <td>9045019</td>\n",
       "      <td>교도소 이야기구먼 ..솔직히 재미는 없다..평점 조정</td>\n",
       "      <td>0</td>\n",
       "    </tr>\n",
       "    <tr>\n",
       "      <th>4</th>\n",
       "      <td>6483659</td>\n",
       "      <td>사이몬페그의 익살스런 연기가 돋보였던 영화!스파이더맨에서 늙어보이기만 했던 커스틴 ...</td>\n",
       "      <td>1</td>\n",
       "    </tr>\n",
       "  </tbody>\n",
       "</table>\n",
       "</div>"
      ],
      "text/plain": [
       "         id                                           document  label\n",
       "0   9976970                                아 더빙.. 진짜 짜증나네요 목소리      0\n",
       "1   3819312                  흠...포스터보고 초딩영화줄....오버연기조차 가볍지 않구나      1\n",
       "2  10265843                                  너무재밓었다그래서보는것을추천한다      0\n",
       "3   9045019                      교도소 이야기구먼 ..솔직히 재미는 없다..평점 조정      0\n",
       "4   6483659  사이몬페그의 익살스런 연기가 돋보였던 영화!스파이더맨에서 늙어보이기만 했던 커스틴 ...      1"
      ]
     },
     "execution_count": 16,
     "metadata": {},
     "output_type": "execute_result"
    }
   ],
   "source": [
    "train_data.head()"
   ]
  },
  {
   "cell_type": "code",
   "execution_count": 17,
   "id": "innovative-interstate",
   "metadata": {},
   "outputs": [
    {
     "data": {
      "text/html": [
       "<div>\n",
       "<style scoped>\n",
       "    .dataframe tbody tr th:only-of-type {\n",
       "        vertical-align: middle;\n",
       "    }\n",
       "\n",
       "    .dataframe tbody tr th {\n",
       "        vertical-align: top;\n",
       "    }\n",
       "\n",
       "    .dataframe thead th {\n",
       "        text-align: right;\n",
       "    }\n",
       "</style>\n",
       "<table border=\"1\" class=\"dataframe\">\n",
       "  <thead>\n",
       "    <tr style=\"text-align: right;\">\n",
       "      <th></th>\n",
       "      <th>id</th>\n",
       "      <th>document</th>\n",
       "      <th>label</th>\n",
       "    </tr>\n",
       "  </thead>\n",
       "  <tbody>\n",
       "    <tr>\n",
       "      <th>0</th>\n",
       "      <td>6270596</td>\n",
       "      <td>굳 ㅋ</td>\n",
       "      <td>1</td>\n",
       "    </tr>\n",
       "    <tr>\n",
       "      <th>1</th>\n",
       "      <td>9274899</td>\n",
       "      <td>GDNTOPCLASSINTHECLUB</td>\n",
       "      <td>0</td>\n",
       "    </tr>\n",
       "    <tr>\n",
       "      <th>2</th>\n",
       "      <td>8544678</td>\n",
       "      <td>뭐야 이 평점들은.... 나쁘진 않지만 10점 짜리는 더더욱 아니잖아</td>\n",
       "      <td>0</td>\n",
       "    </tr>\n",
       "    <tr>\n",
       "      <th>3</th>\n",
       "      <td>6825595</td>\n",
       "      <td>지루하지는 않은데 완전 막장임... 돈주고 보기에는....</td>\n",
       "      <td>0</td>\n",
       "    </tr>\n",
       "    <tr>\n",
       "      <th>4</th>\n",
       "      <td>6723715</td>\n",
       "      <td>3D만 아니었어도 별 다섯 개 줬을텐데.. 왜 3D로 나와서 제 심기를 불편하게 하죠??</td>\n",
       "      <td>0</td>\n",
       "    </tr>\n",
       "  </tbody>\n",
       "</table>\n",
       "</div>"
      ],
      "text/plain": [
       "        id                                           document  label\n",
       "0  6270596                                                굳 ㅋ      1\n",
       "1  9274899                               GDNTOPCLASSINTHECLUB      0\n",
       "2  8544678             뭐야 이 평점들은.... 나쁘진 않지만 10점 짜리는 더더욱 아니잖아      0\n",
       "3  6825595                   지루하지는 않은데 완전 막장임... 돈주고 보기에는....      0\n",
       "4  6723715  3D만 아니었어도 별 다섯 개 줬을텐데.. 왜 3D로 나와서 제 심기를 불편하게 하죠??      0"
      ]
     },
     "execution_count": 17,
     "metadata": {},
     "output_type": "execute_result"
    }
   ],
   "source": [
    "test_data.head()"
   ]
  },
  {
   "cell_type": "markdown",
   "id": "knowing-tennessee",
   "metadata": {},
   "source": [
    "## 데이터 전처리\n",
    "\n",
    "- 중복 제거\n",
    "- 결측치 제거\n",
    "- 데이터 분포 확인\n",
    "- 특수문자 제거"
   ]
  },
  {
   "cell_type": "code",
   "execution_count": 18,
   "id": "concerned-pearl",
   "metadata": {},
   "outputs": [
    {
     "data": {
      "text/plain": [
       "id          0\n",
       "document    5\n",
       "label       0\n",
       "dtype: int64"
      ]
     },
     "execution_count": 18,
     "metadata": {},
     "output_type": "execute_result"
    }
   ],
   "source": [
    "# 결측치 확인\n",
    "train_data.isna().sum()"
   ]
  },
  {
   "cell_type": "code",
   "execution_count": 19,
   "id": "enabling-scotland",
   "metadata": {},
   "outputs": [
    {
     "data": {
      "text/plain": [
       "id          0\n",
       "document    3\n",
       "label       0\n",
       "dtype: int64"
      ]
     },
     "execution_count": 19,
     "metadata": {},
     "output_type": "execute_result"
    }
   ],
   "source": [
    "test_data.isna().sum()"
   ]
  },
  {
   "cell_type": "code",
   "execution_count": 20,
   "id": "respective-junior",
   "metadata": {},
   "outputs": [
    {
     "name": "stdout",
     "output_type": "stream",
     "text": [
      "train data: 149995\n",
      "test data: 49997\n"
     ]
    }
   ],
   "source": [
    "train_data.dropna(inplace=True)\n",
    "test_data.dropna(inplace=True)\n",
    "\n",
    "print('train data:', len(train_data))\n",
    "print('test data:', len(test_data))"
   ]
  },
  {
   "cell_type": "code",
   "execution_count": 21,
   "id": "robust-neutral",
   "metadata": {},
   "outputs": [
    {
     "data": {
      "text/plain": [
       "<AxesSubplot:>"
      ]
     },
     "execution_count": 21,
     "metadata": {},
     "output_type": "execute_result"
    },
    {
     "data": {
      "image/png": "[encoded data removed]",
      "text/plain": [
       "<Figure size 432x288 with 1 Axes>"
      ]
     },
     "metadata": {
      "needs_background": "light"
     },
     "output_type": "display_data"
    }
   ],
   "source": [
    "# label 분포 확인\n",
    "train_data['label'].value_counts().plot(kind='bar')"
   ]
  },
  {
   "cell_type": "code",
   "execution_count": 22,
   "id": "attempted-dimension",
   "metadata": {},
   "outputs": [
    {
     "data": {
      "text/plain": [
       "label\n",
       "0    75170\n",
       "1    74825\n",
       "dtype: int64"
      ]
     },
     "execution_count": 22,
     "metadata": {},
     "output_type": "execute_result"
    }
   ],
   "source": [
    "train_data.groupby('label').size()"
   ]
  },
  {
   "cell_type": "code",
   "execution_count": 23,
   "id": "terminal-thursday",
   "metadata": {},
   "outputs": [
    {
     "data": {
      "text/html": [
       "<div>\n",
       "<style scoped>\n",
       "    .dataframe tbody tr th:only-of-type {\n",
       "        vertical-align: middle;\n",
       "    }\n",
       "\n",
       "    .dataframe tbody tr th {\n",
       "        vertical-align: top;\n",
       "    }\n",
       "\n",
       "    .dataframe thead th {\n",
       "        text-align: right;\n",
       "    }\n",
       "</style>\n",
       "<table border=\"1\" class=\"dataframe\">\n",
       "  <thead>\n",
       "    <tr style=\"text-align: right;\">\n",
       "      <th></th>\n",
       "      <th>id</th>\n",
       "      <th>document</th>\n",
       "      <th>label</th>\n",
       "    </tr>\n",
       "  </thead>\n",
       "  <tbody>\n",
       "    <tr>\n",
       "      <th>0</th>\n",
       "      <td>9976970</td>\n",
       "      <td>아 더빙   진짜 짜증나네요 목소리</td>\n",
       "      <td>0</td>\n",
       "    </tr>\n",
       "    <tr>\n",
       "      <th>1</th>\n",
       "      <td>3819312</td>\n",
       "      <td>흠   포스터보고 초딩영화줄    오버연기조차 가볍지 않구나</td>\n",
       "      <td>1</td>\n",
       "    </tr>\n",
       "    <tr>\n",
       "      <th>2</th>\n",
       "      <td>10265843</td>\n",
       "      <td>너무재밓었다그래서보는것을추천한다</td>\n",
       "      <td>0</td>\n",
       "    </tr>\n",
       "    <tr>\n",
       "      <th>3</th>\n",
       "      <td>9045019</td>\n",
       "      <td>교도소 이야기구먼   솔직히 재미는 없다  평점 조정</td>\n",
       "      <td>0</td>\n",
       "    </tr>\n",
       "    <tr>\n",
       "      <th>4</th>\n",
       "      <td>6483659</td>\n",
       "      <td>사이몬페그의 익살스런 연기가 돋보였던 영화 스파이더맨에서 늙어보이기만 했던 커스틴 ...</td>\n",
       "      <td>1</td>\n",
       "    </tr>\n",
       "  </tbody>\n",
       "</table>\n",
       "</div>"
      ],
      "text/plain": [
       "         id                                           document  label\n",
       "0   9976970                                아 더빙   진짜 짜증나네요 목소리      0\n",
       "1   3819312                  흠   포스터보고 초딩영화줄    오버연기조차 가볍지 않구나      1\n",
       "2  10265843                                  너무재밓었다그래서보는것을추천한다      0\n",
       "3   9045019                      교도소 이야기구먼   솔직히 재미는 없다  평점 조정      0\n",
       "4   6483659  사이몬페그의 익살스런 연기가 돋보였던 영화 스파이더맨에서 늙어보이기만 했던 커스틴 ...      1"
      ]
     },
     "execution_count": 23,
     "metadata": {},
     "output_type": "execute_result"
    }
   ],
   "source": [
    "# 특수문자 제거\n",
    "train_data['document'] = train_data['document'].str.replace(\"[^ㄱ-ㅎㅏ-ㅣ가-힣a-zA-Z0-9]\",\" \")\n",
    "\n",
    "train_data.head()"
   ]
  },
  {
   "cell_type": "code",
   "execution_count": 24,
   "id": "private-attitude",
   "metadata": {},
   "outputs": [
    {
     "data": {
      "text/html": [
       "<div>\n",
       "<style scoped>\n",
       "    .dataframe tbody tr th:only-of-type {\n",
       "        vertical-align: middle;\n",
       "    }\n",
       "\n",
       "    .dataframe tbody tr th {\n",
       "        vertical-align: top;\n",
       "    }\n",
       "\n",
       "    .dataframe thead th {\n",
       "        text-align: right;\n",
       "    }\n",
       "</style>\n",
       "<table border=\"1\" class=\"dataframe\">\n",
       "  <thead>\n",
       "    <tr style=\"text-align: right;\">\n",
       "      <th></th>\n",
       "      <th>id</th>\n",
       "      <th>document</th>\n",
       "      <th>label</th>\n",
       "    </tr>\n",
       "  </thead>\n",
       "  <tbody>\n",
       "    <tr>\n",
       "      <th>0</th>\n",
       "      <td>6270596</td>\n",
       "      <td>굳 ㅋ</td>\n",
       "      <td>1</td>\n",
       "    </tr>\n",
       "    <tr>\n",
       "      <th>1</th>\n",
       "      <td>9274899</td>\n",
       "      <td>GDNTOPCLASSINTHECLUB</td>\n",
       "      <td>0</td>\n",
       "    </tr>\n",
       "    <tr>\n",
       "      <th>2</th>\n",
       "      <td>8544678</td>\n",
       "      <td>뭐야 이 평점들은     나쁘진 않지만 10점 짜리는 더더욱 아니잖아</td>\n",
       "      <td>0</td>\n",
       "    </tr>\n",
       "    <tr>\n",
       "      <th>3</th>\n",
       "      <td>6825595</td>\n",
       "      <td>지루하지는 않은데 완전 막장임    돈주고 보기에는</td>\n",
       "      <td>0</td>\n",
       "    </tr>\n",
       "    <tr>\n",
       "      <th>4</th>\n",
       "      <td>6723715</td>\n",
       "      <td>3D만 아니었어도 별 다섯 개 줬을텐데   왜 3D로 나와서 제 심기를 불편하게 하죠</td>\n",
       "      <td>0</td>\n",
       "    </tr>\n",
       "  </tbody>\n",
       "</table>\n",
       "</div>"
      ],
      "text/plain": [
       "        id                                           document  label\n",
       "0  6270596                                                굳 ㅋ      1\n",
       "1  9274899                               GDNTOPCLASSINTHECLUB      0\n",
       "2  8544678             뭐야 이 평점들은     나쁘진 않지만 10점 짜리는 더더욱 아니잖아      0\n",
       "3  6825595                   지루하지는 않은데 완전 막장임    돈주고 보기에는          0\n",
       "4  6723715  3D만 아니었어도 별 다섯 개 줬을텐데   왜 3D로 나와서 제 심기를 불편하게 하죠        0"
      ]
     },
     "execution_count": 24,
     "metadata": {},
     "output_type": "execute_result"
    }
   ],
   "source": [
    "# 특수문자 제거\n",
    "test_data['document'] = test_data['document'].str.replace(\"[^ㄱ-ㅎㅏ-ㅣ가-힣a-zA-Z0-9]\",\" \")\n",
    "\n",
    "test_data.head()"
   ]
  },
  {
   "cell_type": "code",
   "execution_count": 25,
   "id": "measured-legend",
   "metadata": {},
   "outputs": [
    {
     "name": "stdout",
     "output_type": "stream",
     "text": [
      "train data: 145805\n",
      "test data: 49069\n"
     ]
    }
   ],
   "source": [
    "# 중복 drop\n",
    "train_data.drop_duplicates(subset=['document'], inplace=True)\n",
    "test_data.drop_duplicates(subset=['document'], inplace=True)\n",
    "\n",
    "print('train data:', len(train_data))\n",
    "print('test data:', len(test_data))"
   ]
  },
  {
   "cell_type": "code",
   "execution_count": 26,
   "id": "increasing-billion",
   "metadata": {},
   "outputs": [
    {
     "data": {
      "text/plain": [
       "id          0\n",
       "document    0\n",
       "label       0\n",
       "dtype: int64"
      ]
     },
     "execution_count": 26,
     "metadata": {},
     "output_type": "execute_result"
    }
   ],
   "source": [
    "# 결측치 확인\n",
    "train_data.isna().sum()"
   ]
  },
  {
   "cell_type": "code",
   "execution_count": 27,
   "id": "missing-translation",
   "metadata": {
    "scrolled": true
   },
   "outputs": [
    {
     "data": {
      "text/plain": [
       "id          0\n",
       "document    0\n",
       "label       0\n",
       "dtype: int64"
      ]
     },
     "execution_count": 27,
     "metadata": {},
     "output_type": "execute_result"
    }
   ],
   "source": [
    "test_data.isna().sum()"
   ]
  },
  {
   "cell_type": "markdown",
   "id": "informational-model",
   "metadata": {},
   "source": [
    "### - 문장 길이 분포 확인"
   ]
  },
  {
   "cell_type": "code",
   "execution_count": 28,
   "id": "ahead-variety",
   "metadata": {},
   "outputs": [
    {
     "data": {
      "text/plain": [
       "0                                  아 더빙   진짜 짜증나네요 목소리\n",
       "1                    흠   포스터보고 초딩영화줄    오버연기조차 가볍지 않구나\n",
       "2                                    너무재밓었다그래서보는것을추천한다\n",
       "3                        교도소 이야기구먼   솔직히 재미는 없다  평점 조정\n",
       "4    사이몬페그의 익살스런 연기가 돋보였던 영화 스파이더맨에서 늙어보이기만 했던 커스틴 ...\n",
       "5        막 걸음마 뗀 3세부터 초등학교 1학년생인 8살용영화 ㅋㅋㅋ   별반개도 아까움 \n",
       "6                                원작의 긴장감을 제대로 살려내지못했다 \n",
       "7    별 반개도 아깝다 욕나온다 이응경 길용우 연기생활이몇년인지  정말 발로해도 그것보단...\n",
       "8                               액션이 없는데도 재미 있는 몇안되는 영화\n",
       "9        왜케 평점이 낮은건데  꽤 볼만한데   헐리우드식 화려함에만 너무 길들여져 있나 \n",
       "Name: document, dtype: object"
      ]
     },
     "execution_count": 28,
     "metadata": {},
     "output_type": "execute_result"
    }
   ],
   "source": [
    "train_data['document'][:10]"
   ]
  },
  {
   "cell_type": "code",
   "execution_count": 29,
   "id": "informal-sandwich",
   "metadata": {},
   "outputs": [
    {
     "data": {
      "image/png": "[encoded data removed]",
      "text/plain": [
       "<Figure size 432x288 with 1 Axes>"
      ]
     },
     "metadata": {
      "needs_background": "light"
     },
     "output_type": "display_data"
    },
    {
     "name": "stdout",
     "output_type": "stream",
     "text": [
      "문장의 최장 길이: 146\n",
      "문장의 평균 길이: 36\n",
      "문장의 최소 길이: 1\n"
     ]
    }
   ],
   "source": [
    "len_train = [len(s) for s in train_data['document']]\n",
    "\n",
    "plt.hist(len_train, bins=30)\n",
    "plt.xlabel('Length of Sentences')\n",
    "plt.ylabel('No. of Sentences')\n",
    "plt.show()\n",
    "\n",
    "print('문장의 최장 길이:', max(len_train))\n",
    "print('문장의 평균 길이:', sum(len_train)//len(len_train))\n",
    "print('문장의 최소 길이:', min(len_train))"
   ]
  },
  {
   "cell_type": "code",
   "execution_count": 30,
   "id": "understanding-security",
   "metadata": {},
   "outputs": [
    {
     "data": {
      "image/png": "[encoded data removed]",
      "text/plain": [
       "<Figure size 432x288 with 1 Axes>"
      ]
     },
     "metadata": {
      "needs_background": "light"
     },
     "output_type": "display_data"
    },
    {
     "name": "stdout",
     "output_type": "stream",
     "text": [
      "문장의 최장 길이: 144\n",
      "문장의 평균 길이: 35\n",
      "문장의 최소 길이: 1\n"
     ]
    }
   ],
   "source": [
    "len_test = [len(s) for s in test_data['document']]\n",
    "\n",
    "plt.hist(len_test, bins=30)\n",
    "plt.xlabel('Length of Sentences')\n",
    "plt.ylabel('No. of Sentences')\n",
    "plt.show()\n",
    "\n",
    "print('문장의 최장 길이:', max(len_test))\n",
    "print('문장의 평균 길이:', sum(len_test)//len(len_test))\n",
    "print('문장의 최소 길이:', min(len_test))"
   ]
  },
  {
   "cell_type": "code",
   "execution_count": 31,
   "id": "copyrighted-sugar",
   "metadata": {},
   "outputs": [],
   "source": [
    "# 길이가 1인 문장 확인\n",
    "def check_sentence_length(sentence, length):\n",
    "    count = 0\n",
    "    \n",
    "    for sen in sentence:\n",
    "        if len(sen) == length:\n",
    "            print(sen)\n",
    "            count += 1\n",
    "            if count > 100: return"
   ]
  },
  {
   "cell_type": "code",
   "execution_count": 32,
   "id": "presidential-secret",
   "metadata": {
    "scrolled": true
   },
   "outputs": [
    {
     "name": "stdout",
     "output_type": "stream",
     "text": [
      "아\n",
      "잼\n",
      "1\n",
      "4\n",
      "굿\n",
      "짱\n",
      "휴\n",
      " \n",
      "음\n",
      "ㅎ\n",
      "ㅋ\n",
      "즐\n",
      "굳\n",
      "네\n",
      "ㅇ\n",
      "k\n",
      "ㅠ\n",
      "쒯\n",
      "토\n",
      "O\n",
      "똥\n",
      "z\n",
      "헐\n",
      "삼\n",
      "꽝\n",
      "풉\n",
      "ㅅ\n",
      "왜\n",
      "ㄴ\n",
      "쉣\n",
      "봐\n",
      "뿌\n",
      "ㅜ\n",
      "ㅁ\n",
      "0\n",
      "ㅉ\n",
      "d\n",
      "흥\n",
      "찜\n",
      "귯\n",
      "린\n",
      "시\n",
      "ㅗ\n",
      "a\n",
      "c\n",
      "흠\n",
      "웅\n",
      "ㅣ\n",
      "오\n",
      "9\n",
      "쩜\n",
      "애\n",
      "헝\n",
      "쨩\n",
      "f\n",
      "움\n",
      "ㄳ\n",
      "업\n",
      "헉\n",
      "군\n",
      "b\n",
      "g\n",
      "올\n",
      "걍\n",
      "허\n",
      "쀍\n",
      "로\n",
      "ㄹ\n",
      "ㅂ\n",
      "갑\n",
      "즛\n",
      "킥\n",
      "함\n",
      "진\n",
      "ㅡ\n",
      "잠\n",
      "곧\n",
      "ㅍ\n",
      "h\n",
      "캬\n",
      "ㅆ\n",
      "풋\n",
      "ㄱ\n",
      "파\n",
      "ㄷ\n",
      "웩\n",
      "꺅\n",
      "욜\n",
      "ㅄ\n",
      "2\n",
      "핡\n"
     ]
    }
   ],
   "source": [
    "check_sentence_length(train_data['document'], 1)"
   ]
  },
  {
   "cell_type": "code",
   "execution_count": 33,
   "id": "radio-trick",
   "metadata": {
    "scrolled": true
   },
   "outputs": [
    {
     "name": "stdout",
     "output_type": "stream",
     "text": [
      "최고\n",
      "졸작\n",
      "대박\n",
      "버려\n",
      "망함\n",
      "굳굳\n",
      "안습\n",
      "망작\n",
      "ㅇㅇ\n",
      "쵝오\n",
      "굿 \n",
      "별루\n",
      "씐나\n",
      "쓰렉\n",
      "볼만\n",
      "허접\n",
      "비추\n",
      "좋다\n",
      "ㅎㅎ\n",
      "아나\n",
      "ㅉㅉ\n",
      "야 \n",
      "역시\n",
      "  \n",
      "오오\n",
      "평이\n",
      "지루\n",
      "오욈\n",
      "ㅋㅋ\n",
      "지송\n",
      "별로\n",
      "눈물\n",
      "당연\n",
      "쩔어\n",
      "별노\n",
      "몰입\n",
      "졸잼\n",
      "돋네\n",
      "오글\n",
      "이응\n",
      "첨봄\n",
      "최악\n",
      "잼씀\n",
      "ok\n",
      "유후\n",
      "감동\n",
      "gg\n",
      "조앙\n",
      "1점\n",
      "표절\n",
      "명작\n",
      "으휴\n",
      "에효\n",
      "ㄱ굿\n",
      "굿잡\n",
      "잼나\n",
      "10\n",
      "ㅜㅜ\n",
      "우왕\n",
      "거지\n",
      "굿굿\n",
      "좋음\n",
      "실망\n",
      "애이\n",
      "짱임\n",
      "전설\n",
      "mm\n",
      "와우\n",
      "등록\n",
      "하위\n",
      "그닥\n",
      "뭉클\n",
      "삼류\n",
      "HN\n",
      "윤하\n",
      "섹시\n",
      "실화\n",
      "머냐\n",
      "수작\n",
      "꿀잼\n",
      "동감\n",
      "dd\n",
      "굳ㅋ\n",
      "굳 \n",
      "추천\n",
      "좋아\n",
      "55\n",
      "안봐\n",
      "개쩜\n",
      "올레\n",
      "난해\n",
      "ㅠㅠ\n",
      "뭐니\n",
      "ㅁㅁ\n",
      "뭥미\n",
      "쓰랙\n",
      "좇 \n",
      "오우\n",
      "미안\n",
      "걸작\n",
      "안봄\n"
     ]
    }
   ],
   "source": [
    "check_sentence_length(train_data['document'], 2)"
   ]
  },
  {
   "cell_type": "code",
   "execution_count": 34,
   "id": "auburn-murder",
   "metadata": {},
   "outputs": [
    {
     "name": "stdout",
     "output_type": "stream",
     "text": [
      " 스폰으로 먹고사는 방송이라 어쩔수 없다고 하지만  이건 그냥 비현실적인 자동차만    독일3사 슈퍼카 홍보 프로그램도 아니구 대중적인 자동차 방송으로 이루어 졌으면 합니다  보는내내   카탈로그 책자  를   동영상으로 보여주는 방송   같아서 씁쓸하네요   \n",
      "   니 짓은 생각않고  웬 복수   의 교훈이라  그럼   서바이벌 액션  으로 홍보하면 안되지  초반 45분은 멋지게 열더니   억지 반전  하드고어로 시간끌다가  허둥지둥 화해로 끝내버리네  90분 러닝타임에 엔딩자막만 11분 틀어주는 해괴망측한 영화   \n",
      " 2007 02 25  벌교의 한 국밥집  점심    갸는 첫째고  저 놈은 우리 둘째    재문    아줌마  미안해  그냥   아줌마  나 그 남방 잘 어울려ㅠ ㅠ    대식에게 복수하려던 1주일 전  대식의 엄마를 먼저 만났다  사랑의 꽃남방도     o \n"
     ]
    }
   ],
   "source": [
    "check_sentence_length(train_data['document'], 146)"
   ]
  },
  {
   "cell_type": "markdown",
   "id": "existing-blackberry",
   "metadata": {},
   "source": [
    "### - 공백 삭제\n",
    "\n",
    "- 공백이 하나 이상일 경우 하나로 대체"
   ]
  },
  {
   "cell_type": "code",
   "execution_count": 35,
   "id": "hazardous-beginning",
   "metadata": {},
   "outputs": [],
   "source": [
    "def strip_spaces(sentence, df):\n",
    "    stripped = []\n",
    "    for sen in sentence:\n",
    "        sen = sen.split()\n",
    "        sen = [s for s in sen if s != ' ']\n",
    "        sen = \" \".join(sen)\n",
    "        stripped.append(sen)\n",
    "    df['stripped'] = stripped\n",
    "    return"
   ]
  },
  {
   "cell_type": "code",
   "execution_count": 36,
   "id": "educational-computer",
   "metadata": {},
   "outputs": [
    {
     "data": {
      "text/html": [
       "<div>\n",
       "<style scoped>\n",
       "    .dataframe tbody tr th:only-of-type {\n",
       "        vertical-align: middle;\n",
       "    }\n",
       "\n",
       "    .dataframe tbody tr th {\n",
       "        vertical-align: top;\n",
       "    }\n",
       "\n",
       "    .dataframe thead th {\n",
       "        text-align: right;\n",
       "    }\n",
       "</style>\n",
       "<table border=\"1\" class=\"dataframe\">\n",
       "  <thead>\n",
       "    <tr style=\"text-align: right;\">\n",
       "      <th></th>\n",
       "      <th>id</th>\n",
       "      <th>document</th>\n",
       "      <th>label</th>\n",
       "      <th>stripped</th>\n",
       "    </tr>\n",
       "  </thead>\n",
       "  <tbody>\n",
       "    <tr>\n",
       "      <th>0</th>\n",
       "      <td>9976970</td>\n",
       "      <td>아 더빙   진짜 짜증나네요 목소리</td>\n",
       "      <td>0</td>\n",
       "      <td>아 더빙 진짜 짜증나네요 목소리</td>\n",
       "    </tr>\n",
       "    <tr>\n",
       "      <th>1</th>\n",
       "      <td>3819312</td>\n",
       "      <td>흠   포스터보고 초딩영화줄    오버연기조차 가볍지 않구나</td>\n",
       "      <td>1</td>\n",
       "      <td>흠 포스터보고 초딩영화줄 오버연기조차 가볍지 않구나</td>\n",
       "    </tr>\n",
       "    <tr>\n",
       "      <th>2</th>\n",
       "      <td>10265843</td>\n",
       "      <td>너무재밓었다그래서보는것을추천한다</td>\n",
       "      <td>0</td>\n",
       "      <td>너무재밓었다그래서보는것을추천한다</td>\n",
       "    </tr>\n",
       "    <tr>\n",
       "      <th>3</th>\n",
       "      <td>9045019</td>\n",
       "      <td>교도소 이야기구먼   솔직히 재미는 없다  평점 조정</td>\n",
       "      <td>0</td>\n",
       "      <td>교도소 이야기구먼 솔직히 재미는 없다 평점 조정</td>\n",
       "    </tr>\n",
       "    <tr>\n",
       "      <th>4</th>\n",
       "      <td>6483659</td>\n",
       "      <td>사이몬페그의 익살스런 연기가 돋보였던 영화 스파이더맨에서 늙어보이기만 했던 커스틴 ...</td>\n",
       "      <td>1</td>\n",
       "      <td>사이몬페그의 익살스런 연기가 돋보였던 영화 스파이더맨에서 늙어보이기만 했던 커스틴 ...</td>\n",
       "    </tr>\n",
       "  </tbody>\n",
       "</table>\n",
       "</div>"
      ],
      "text/plain": [
       "         id                                           document  label  \\\n",
       "0   9976970                                아 더빙   진짜 짜증나네요 목소리      0   \n",
       "1   3819312                  흠   포스터보고 초딩영화줄    오버연기조차 가볍지 않구나      1   \n",
       "2  10265843                                  너무재밓었다그래서보는것을추천한다      0   \n",
       "3   9045019                      교도소 이야기구먼   솔직히 재미는 없다  평점 조정      0   \n",
       "4   6483659  사이몬페그의 익살스런 연기가 돋보였던 영화 스파이더맨에서 늙어보이기만 했던 커스틴 ...      1   \n",
       "\n",
       "                                            stripped  \n",
       "0                                  아 더빙 진짜 짜증나네요 목소리  \n",
       "1                       흠 포스터보고 초딩영화줄 오버연기조차 가볍지 않구나  \n",
       "2                                  너무재밓었다그래서보는것을추천한다  \n",
       "3                         교도소 이야기구먼 솔직히 재미는 없다 평점 조정  \n",
       "4  사이몬페그의 익살스런 연기가 돋보였던 영화 스파이더맨에서 늙어보이기만 했던 커스틴 ...  "
      ]
     },
     "execution_count": 36,
     "metadata": {},
     "output_type": "execute_result"
    }
   ],
   "source": [
    "strip_spaces(train_data['document'], train_data)\n",
    "\n",
    "train_data.head()"
   ]
  },
  {
   "cell_type": "code",
   "execution_count": 37,
   "id": "provincial-stanford",
   "metadata": {},
   "outputs": [
    {
     "data": {
      "image/png": "[encoded data removed]",
      "text/plain": [
       "<Figure size 432x288 with 1 Axes>"
      ]
     },
     "metadata": {
      "needs_background": "light"
     },
     "output_type": "display_data"
    },
    {
     "name": "stdout",
     "output_type": "stream",
     "text": [
      "문장의 최장 길이: 140\n",
      "문장의 평균 길이: 33\n",
      "문장의 최소 길이: 0\n"
     ]
    }
   ],
   "source": [
    "len_train = [len(s) for s in train_data['stripped']]\n",
    "\n",
    "plt.hist(len_train, bins=30)\n",
    "plt.xlabel('Length of Sentences')\n",
    "plt.ylabel('No. of Sentences')\n",
    "plt.show()\n",
    "\n",
    "print('문장의 최장 길이:', max(len_train))\n",
    "print('문장의 평균 길이:', sum(len_train)//len(len_train))\n",
    "print('문장의 최소 길이:', min(len_train))"
   ]
  },
  {
   "cell_type": "code",
   "execution_count": 38,
   "id": "secondary-liechtenstein",
   "metadata": {
    "scrolled": true
   },
   "outputs": [
    {
     "name": "stdout",
     "output_type": "stream",
     "text": [
      "아\n",
      "잼\n",
      "즐\n",
      "끙\n",
      "1\n",
      "4\n",
      "와\n",
      "굿\n",
      "굿\n",
      "짱\n",
      "휴\n",
      "야\n",
      "음\n",
      "ㅎ\n",
      "ㅋ\n",
      "즐\n",
      "굳\n",
      "하\n",
      "네\n",
      "굿\n",
      "ㅇ\n",
      "굿\n",
      "k\n",
      "ㅠ\n",
      "굿\n",
      "음\n",
      "짱\n",
      "우\n",
      "쒯\n",
      "아\n",
      "쩝\n",
      "토\n",
      "아\n",
      "즐\n",
      "굿\n",
      "O\n",
      "똥\n",
      "흠\n",
      "z\n",
      "헐\n",
      "쩝\n",
      "삼\n",
      "꽝\n",
      "음\n",
      "음\n",
      "굳\n",
      "굿\n",
      "아\n",
      "풉\n",
      "ㅅ\n",
      "아\n",
      "왜\n",
      "ㄴ\n",
      "쉣\n",
      "좇\n",
      "봐\n",
      "뿌\n",
      "ㅜ\n",
      "참\n",
      "ㅁ\n",
      "0\n",
      "ㅉ\n",
      "d\n",
      "흥\n",
      "음\n",
      "찜\n",
      "흠\n",
      "귯\n",
      "린\n",
      "아\n",
      "후\n",
      "쨩\n",
      "흠\n",
      "시\n",
      "굿\n",
      "짱\n",
      "ㅗ\n",
      "왜\n",
      "a\n",
      "c\n",
      "흠\n",
      "음\n",
      "웅\n",
      "헐\n",
      "ㅣ\n",
      "굿\n",
      "휴\n",
      "굿\n",
      "오\n",
      "짱\n",
      "짱\n",
      "풉\n",
      "오\n",
      "b\n",
      "9\n",
      "흥\n",
      "굿\n",
      "쩜\n",
      "우\n",
      "허\n",
      "헐\n"
     ]
    }
   ],
   "source": [
    "check_sentence_length(train_data['stripped'], 1)"
   ]
  },
  {
   "cell_type": "code",
   "execution_count": 39,
   "id": "capital-uniform",
   "metadata": {},
   "outputs": [
    {
     "data": {
      "text/html": [
       "<div>\n",
       "<style scoped>\n",
       "    .dataframe tbody tr th:only-of-type {\n",
       "        vertical-align: middle;\n",
       "    }\n",
       "\n",
       "    .dataframe tbody tr th {\n",
       "        vertical-align: top;\n",
       "    }\n",
       "\n",
       "    .dataframe thead th {\n",
       "        text-align: right;\n",
       "    }\n",
       "</style>\n",
       "<table border=\"1\" class=\"dataframe\">\n",
       "  <thead>\n",
       "    <tr style=\"text-align: right;\">\n",
       "      <th></th>\n",
       "      <th>id</th>\n",
       "      <th>document</th>\n",
       "      <th>label</th>\n",
       "      <th>stripped</th>\n",
       "    </tr>\n",
       "  </thead>\n",
       "  <tbody>\n",
       "    <tr>\n",
       "      <th>0</th>\n",
       "      <td>6270596</td>\n",
       "      <td>굳 ㅋ</td>\n",
       "      <td>1</td>\n",
       "      <td>굳 ㅋ</td>\n",
       "    </tr>\n",
       "    <tr>\n",
       "      <th>1</th>\n",
       "      <td>9274899</td>\n",
       "      <td>GDNTOPCLASSINTHECLUB</td>\n",
       "      <td>0</td>\n",
       "      <td>GDNTOPCLASSINTHECLUB</td>\n",
       "    </tr>\n",
       "    <tr>\n",
       "      <th>2</th>\n",
       "      <td>8544678</td>\n",
       "      <td>뭐야 이 평점들은     나쁘진 않지만 10점 짜리는 더더욱 아니잖아</td>\n",
       "      <td>0</td>\n",
       "      <td>뭐야 이 평점들은 나쁘진 않지만 10점 짜리는 더더욱 아니잖아</td>\n",
       "    </tr>\n",
       "    <tr>\n",
       "      <th>3</th>\n",
       "      <td>6825595</td>\n",
       "      <td>지루하지는 않은데 완전 막장임    돈주고 보기에는</td>\n",
       "      <td>0</td>\n",
       "      <td>지루하지는 않은데 완전 막장임 돈주고 보기에는</td>\n",
       "    </tr>\n",
       "    <tr>\n",
       "      <th>4</th>\n",
       "      <td>6723715</td>\n",
       "      <td>3D만 아니었어도 별 다섯 개 줬을텐데   왜 3D로 나와서 제 심기를 불편하게 하죠</td>\n",
       "      <td>0</td>\n",
       "      <td>3D만 아니었어도 별 다섯 개 줬을텐데 왜 3D로 나와서 제 심기를 불편하게 하죠</td>\n",
       "    </tr>\n",
       "  </tbody>\n",
       "</table>\n",
       "</div>"
      ],
      "text/plain": [
       "        id                                           document  label  \\\n",
       "0  6270596                                                굳 ㅋ      1   \n",
       "1  9274899                               GDNTOPCLASSINTHECLUB      0   \n",
       "2  8544678             뭐야 이 평점들은     나쁘진 않지만 10점 짜리는 더더욱 아니잖아      0   \n",
       "3  6825595                   지루하지는 않은데 완전 막장임    돈주고 보기에는          0   \n",
       "4  6723715  3D만 아니었어도 별 다섯 개 줬을텐데   왜 3D로 나와서 제 심기를 불편하게 하죠        0   \n",
       "\n",
       "                                        stripped  \n",
       "0                                            굳 ㅋ  \n",
       "1                           GDNTOPCLASSINTHECLUB  \n",
       "2             뭐야 이 평점들은 나쁘진 않지만 10점 짜리는 더더욱 아니잖아  \n",
       "3                      지루하지는 않은데 완전 막장임 돈주고 보기에는  \n",
       "4  3D만 아니었어도 별 다섯 개 줬을텐데 왜 3D로 나와서 제 심기를 불편하게 하죠  "
      ]
     },
     "execution_count": 39,
     "metadata": {},
     "output_type": "execute_result"
    }
   ],
   "source": [
    "strip_spaces(test_data['document'], test_data)\n",
    "\n",
    "test_data.head()"
   ]
  },
  {
   "cell_type": "code",
   "execution_count": 40,
   "id": "blind-receptor",
   "metadata": {},
   "outputs": [
    {
     "data": {
      "image/png": "[encoded data removed]",
      "text/plain": [
       "<Figure size 432x288 with 1 Axes>"
      ]
     },
     "metadata": {
      "needs_background": "light"
     },
     "output_type": "display_data"
    },
    {
     "name": "stdout",
     "output_type": "stream",
     "text": [
      "문장의 최장 길이: 140\n",
      "문장의 평균 길이: 33\n",
      "문장의 최소 길이: 0\n"
     ]
    }
   ],
   "source": [
    "len_test = [len(s) for s in test_data['stripped']]\n",
    "\n",
    "plt.hist(len_test, bins=30)\n",
    "plt.xlabel('Length of Sentences')\n",
    "plt.ylabel('No. of Sentences')\n",
    "plt.show()\n",
    "\n",
    "print('문장의 최장 길이:', max(len_test))\n",
    "print('문장의 평균 길이:', sum(len_test)//len(len_test))\n",
    "print('문장의 최소 길이:', min(len_test))"
   ]
  },
  {
   "cell_type": "code",
   "execution_count": 41,
   "id": "humanitarian-donor",
   "metadata": {},
   "outputs": [
    {
     "name": "stdout",
     "output_type": "stream",
     "text": [
      "train_data: (145805, 4)\n",
      "test_data: (49069, 4)\n"
     ]
    }
   ],
   "source": [
    "print('train_data:', train_data.shape)\n",
    "print('test_data:', test_data.shape)"
   ]
  },
  {
   "cell_type": "markdown",
   "id": "scenic-envelope",
   "metadata": {},
   "source": [
    "### - min_len, max_len 설정"
   ]
  },
  {
   "cell_type": "code",
   "execution_count": 42,
   "id": "rational-blues",
   "metadata": {},
   "outputs": [
    {
     "name": "stdout",
     "output_type": "stream",
     "text": [
      "문장 길이가 2 이상 60 이하인 train_data 비율: 86.70%\n"
     ]
    }
   ],
   "source": [
    "cnt = 0\n",
    "\n",
    "for l in len_train:\n",
    "    if 2 <= l <= 60:\n",
    "        cnt += 1\n",
    "        \n",
    "print(f'문장 길이가 2 이상 60 이하인 train_data 비율: {cnt/train_data.shape[0]*100:.2f}%')"
   ]
  },
  {
   "cell_type": "code",
   "execution_count": 43,
   "id": "cordless-dayton",
   "metadata": {},
   "outputs": [],
   "source": [
    "MIN_LEN = 2\n",
    "MAX_LEN = 60"
   ]
  },
  {
   "cell_type": "code",
   "execution_count": 44,
   "id": "metallic-exposure",
   "metadata": {},
   "outputs": [
    {
     "data": {
      "text/plain": [
       "(126408, 4)"
      ]
     },
     "execution_count": 44,
     "metadata": {},
     "output_type": "execute_result"
    }
   ],
   "source": [
    "# 해당하는 문장 길이만 남기기\n",
    "train_data = train_data[(train_data['stripped'].map(len) <= MAX_LEN)&(train_data['stripped'].map(len) >= MIN_LEN)]\n",
    "\n",
    "train_data.shape"
   ]
  },
  {
   "cell_type": "code",
   "execution_count": 45,
   "id": "tested-regression",
   "metadata": {},
   "outputs": [
    {
     "data": {
      "text/plain": [
       "(42475, 4)"
      ]
     },
     "execution_count": 45,
     "metadata": {},
     "output_type": "execute_result"
    }
   ],
   "source": [
    "test_data = test_data[(test_data['stripped'].map(len) <= MAX_LEN)&(test_data['stripped'].map(len) >= MIN_LEN)]\n",
    "\n",
    "test_data.shape"
   ]
  },
  {
   "cell_type": "code",
   "execution_count": 48,
   "id": "drawn-recording",
   "metadata": {},
   "outputs": [
    {
     "data": {
      "image/png": "[encoded data removed]",
      "text/plain": [
       "<Figure size 432x288 with 1 Axes>"
      ]
     },
     "metadata": {
      "needs_background": "light"
     },
     "output_type": "display_data"
    },
    {
     "name": "stdout",
     "output_type": "stream",
     "text": [
      "문장의 최장 길이: 60\n",
      "문장의 평균 길이: 24\n",
      "문장의 최소 길이: 2\n"
     ]
    }
   ],
   "source": [
    "len_train = [len(s) for s in train_data['stripped']]\n",
    "\n",
    "plt.hist(len_train, bins=30)\n",
    "plt.xlabel('Length of Sentences')\n",
    "plt.ylabel('No. of Sentences')\n",
    "plt.show()\n",
    "\n",
    "print('문장의 최장 길이:', max(len_train))\n",
    "print('문장의 평균 길이:', sum(len_train)//len(len_train))\n",
    "print('문장의 최소 길이:', min(len_train))"
   ]
  },
  {
   "cell_type": "code",
   "execution_count": 49,
   "id": "leading-place",
   "metadata": {},
   "outputs": [
    {
     "data": {
      "image/png": "[encoded data removed]",
      "text/plain": [
       "<Figure size 432x288 with 1 Axes>"
      ]
     },
     "metadata": {
      "needs_background": "light"
     },
     "output_type": "display_data"
    },
    {
     "name": "stdout",
     "output_type": "stream",
     "text": [
      "문장의 최장 길이: 60\n",
      "문장의 평균 길이: 24\n",
      "문장의 최소 길이: 2\n"
     ]
    }
   ],
   "source": [
    "len_test = [len(s) for s in test_data['stripped']]\n",
    "\n",
    "plt.hist(len_test, bins=30)\n",
    "plt.xlabel('Length of Sentences')\n",
    "plt.ylabel('No. of Sentences')\n",
    "plt.show()\n",
    "\n",
    "print('문장의 최장 길이:', max(len_test))\n",
    "print('문장의 평균 길이:', sum(len_test)//len(len_test))\n",
    "print('문장의 최소 길이:', min(len_test))"
   ]
  },
  {
   "cell_type": "markdown",
   "id": "vocational-income",
   "metadata": {},
   "source": [
    "## 토크나이저 생성"
   ]
  },
  {
   "cell_type": "code",
   "execution_count": 50,
   "id": "cellular-wichita",
   "metadata": {},
   "outputs": [],
   "source": [
    "def sp_tokenize(s, corpus, max_len=MAX_LEN):\n",
    "    tensor = []\n",
    "    \n",
    "    for c in corpus:\n",
    "        tensor.append(s.EncodeAsIds(c))\n",
    "        \n",
    "    tensor = tf.keras.preprocessing.sequence.pad_sequences(tensor, maxlen=max_len, padding='post')\n",
    "    \n",
    "    with open(\"./model/korean_spm.vocab\", 'r') as f:\n",
    "        vocab = f.readlines()\n",
    "\n",
    "    word_index = {}\n",
    "    index_word = {}\n",
    "    \n",
    "    for idx, line in enumerate(vocab):\n",
    "        word = line.split('\\t')[0]\n",
    "        \n",
    "        word_index.update({idx:word})\n",
    "        index_word.update({word:idx})\n",
    "\n",
    "    return tensor, word_index, index_word"
   ]
  },
  {
   "cell_type": "code",
   "execution_count": 51,
   "id": "differential-mercy",
   "metadata": {},
   "outputs": [],
   "source": [
    "train_tensor, word_index, index_word = sp_tokenize(s, train_data['stripped'])\n",
    "test_tensor, _, _ = sp_tokenize(s, test_data['stripped'])"
   ]
  },
  {
   "cell_type": "code",
   "execution_count": 52,
   "id": "domestic-thought",
   "metadata": {},
   "outputs": [
    {
     "name": "stdout",
     "output_type": "stream",
     "text": [
      "(126408, 60)\n",
      "(42475, 60)\n"
     ]
    }
   ],
   "source": [
    "print(train_tensor.shape)\n",
    "print(test_tensor.shape)"
   ]
  },
  {
   "cell_type": "markdown",
   "id": "convenient-brisbane",
   "metadata": {},
   "source": [
    "## Train, Validation, Test 데이터셋 분리"
   ]
  },
  {
   "cell_type": "code",
   "execution_count": 53,
   "id": "unlike-darkness",
   "metadata": {},
   "outputs": [
    {
     "name": "stdout",
     "output_type": "stream",
     "text": [
      "x_train: (101408, 60)\n",
      "x_val: (25000, 60)\n"
     ]
    }
   ],
   "source": [
    "x_val = train_tensor[:25000]\n",
    "x_train = train_tensor[25000:]\n",
    "\n",
    "print('x_train:', x_train.shape)\n",
    "print('x_val:', x_val.shape)"
   ]
  },
  {
   "cell_type": "code",
   "execution_count": 54,
   "id": "charming-probe",
   "metadata": {},
   "outputs": [
    {
     "name": "stdout",
     "output_type": "stream",
     "text": [
      "x_test: (42475, 60)\n"
     ]
    }
   ],
   "source": [
    "x_test = test_tensor\n",
    "\n",
    "print('x_test:', x_test.shape)"
   ]
  },
  {
   "cell_type": "code",
   "execution_count": 55,
   "id": "confident-duplicate",
   "metadata": {},
   "outputs": [
    {
     "name": "stdout",
     "output_type": "stream",
     "text": [
      "y_train: (101408,)\n",
      "y_val: (25000,)\n",
      "y_test: (42475,)\n"
     ]
    }
   ],
   "source": [
    "y_val = train_data['label'][:25000]\n",
    "y_train = train_data['label'][25000:]\n",
    "y_test = test_data['label']\n",
    "\n",
    "print('y_train:', y_train.shape)\n",
    "print('y_val:', y_val.shape)\n",
    "print('y_test:', y_test.shape)"
   ]
  },
  {
   "cell_type": "markdown",
   "id": "severe-application",
   "metadata": {},
   "source": [
    "## 모델 설계 및 학습"
   ]
  },
  {
   "cell_type": "code",
   "execution_count": 80,
   "id": "substantial-alignment",
   "metadata": {},
   "outputs": [
    {
     "name": "stdout",
     "output_type": "stream",
     "text": [
      "Model: \"sequential_2\"\n",
      "_________________________________________________________________\n",
      "Layer (type)                 Output Shape              Param #   \n",
      "=================================================================\n",
      "embedding_2 (Embedding)      (None, None, 200)         1600000   \n",
      "_________________________________________________________________\n",
      "lstm_2 (LSTM)                (None, 128)               168448    \n",
      "_________________________________________________________________\n",
      "dense_2 (Dense)              (None, 1)                 129       \n",
      "=================================================================\n",
      "Total params: 1,768,577\n",
      "Trainable params: 1,768,577\n",
      "Non-trainable params: 0\n",
      "_________________________________________________________________\n"
     ]
    }
   ],
   "source": [
    "WORD_VECTOR_DIM = 200  # 워드 벡터의 차원 수\n",
    "\n",
    "model = Sequential()\n",
    "\n",
    "model.add(Embedding(VOCAB_SIZE, WORD_VECTOR_DIM))\n",
    "model.add(LSTM(128))\n",
    "# model.add(Dense(8, activation='relu'))\n",
    "model.add(Dense(1, activation='sigmoid'))\n",
    "\n",
    "model.summary()"
   ]
  },
  {
   "cell_type": "code",
   "execution_count": 81,
   "id": "contemporary-sucking",
   "metadata": {},
   "outputs": [],
   "source": [
    "# callbacks\n",
    "checkpoint_path = base_path + '/model/wv200_min2_max60_model.h5'\n",
    "\n",
    "es = EarlyStopping(monitor='val_loss', mode='min', verbose=1, patience=3)\n",
    "mc = ModelCheckpoint(checkpoint_path, monitor='val_accuracy', mode='max', verbose=1, save_best_only=True)"
   ]
  },
  {
   "cell_type": "code",
   "execution_count": 82,
   "id": "exempt-millennium",
   "metadata": {
    "scrolled": true
   },
   "outputs": [
    {
     "name": "stdout",
     "output_type": "stream",
     "text": [
      "Epoch 1/50\n",
      "1691/1691 [==============================] - 36s 20ms/step - loss: 0.6565 - accuracy: 0.5778 - val_loss: 0.5480 - val_accuracy: 0.7581\n",
      "\n",
      "Epoch 00001: val_accuracy improved from -inf to 0.75812, saving model to /aiffel/aiffel/aiffel_projects/goingdeeper/GD2_sp_tokenizer/model/wv200_min2_max60_model.h5\n",
      "Epoch 2/50\n",
      "1691/1691 [==============================] - 30s 18ms/step - loss: 0.4995 - accuracy: 0.7697 - val_loss: 0.3979 - val_accuracy: 0.8272\n",
      "\n",
      "Epoch 00002: val_accuracy improved from 0.75812 to 0.82716, saving model to /aiffel/aiffel/aiffel_projects/goingdeeper/GD2_sp_tokenizer/model/wv200_min2_max60_model.h5\n",
      "Epoch 3/50\n",
      "1691/1691 [==============================] - 30s 18ms/step - loss: 0.3542 - accuracy: 0.8499 - val_loss: 0.3494 - val_accuracy: 0.8432\n",
      "\n",
      "Epoch 00003: val_accuracy improved from 0.82716 to 0.84324, saving model to /aiffel/aiffel/aiffel_projects/goingdeeper/GD2_sp_tokenizer/model/wv200_min2_max60_model.h5\n",
      "Epoch 4/50\n",
      "1691/1691 [==============================] - 30s 18ms/step - loss: 0.3149 - accuracy: 0.8678 - val_loss: 0.3312 - val_accuracy: 0.8552\n",
      "\n",
      "Epoch 00004: val_accuracy improved from 0.84324 to 0.85524, saving model to /aiffel/aiffel/aiffel_projects/goingdeeper/GD2_sp_tokenizer/model/wv200_min2_max60_model.h5\n",
      "Epoch 5/50\n",
      "1691/1691 [==============================] - 30s 18ms/step - loss: 0.2898 - accuracy: 0.8795 - val_loss: 0.3345 - val_accuracy: 0.8544\n",
      "\n",
      "Epoch 00005: val_accuracy did not improve from 0.85524\n",
      "Epoch 6/50\n",
      "1691/1691 [==============================] - 30s 18ms/step - loss: 0.2653 - accuracy: 0.8919 - val_loss: 0.3451 - val_accuracy: 0.8560\n",
      "\n",
      "Epoch 00006: val_accuracy improved from 0.85524 to 0.85600, saving model to /aiffel/aiffel/aiffel_projects/goingdeeper/GD2_sp_tokenizer/model/wv200_min2_max60_model.h5\n",
      "Epoch 7/50\n",
      "1691/1691 [==============================] - 30s 18ms/step - loss: 0.2555 - accuracy: 0.8974 - val_loss: 0.3355 - val_accuracy: 0.8543\n",
      "\n",
      "Epoch 00007: val_accuracy did not improve from 0.85600\n",
      "Epoch 00007: early stopping\n"
     ]
    }
   ],
   "source": [
    "model.compile(optimizer='rmsprop',\n",
    "              loss='binary_crossentropy',\n",
    "              metrics=['accuracy'])\n",
    "              \n",
    "history = model.fit(x_train, y_train,\n",
    "                    validation_data=(x_val, y_val),\n",
    "                    epochs=50,\n",
    "                    callbacks=[es, mc],\n",
    "                    batch_size=60,\n",
    "                    verbose=1)"
   ]
  },
  {
   "cell_type": "markdown",
   "id": "desirable-stack",
   "metadata": {},
   "source": [
    "## 모델 평가"
   ]
  },
  {
   "cell_type": "code",
   "execution_count": 84,
   "id": "young-paint",
   "metadata": {},
   "outputs": [],
   "source": [
    "history_dict = history.history\n",
    "\n",
    "acc = history_dict['accuracy']\n",
    "val_acc = history_dict['val_accuracy']\n",
    "loss = history_dict['loss']\n",
    "val_loss = history_dict['val_loss']\n",
    "\n",
    "epochs = range(1, len(acc) + 1)"
   ]
  },
  {
   "cell_type": "code",
   "execution_count": 85,
   "id": "mathematical-guidance",
   "metadata": {},
   "outputs": [
    {
     "data": {
      "image/png": "[encoded data removed]",
      "text/plain": [
       "<Figure size 432x288 with 1 Axes>"
      ]
     },
     "metadata": {
      "needs_background": "light"
     },
     "output_type": "display_data"
    }
   ],
   "source": [
    "# \"ro\"는 \"빨간색 점\"입니다\n",
    "plt.plot(epochs, loss, 'b', label='Training loss')\n",
    "# r는 \"빨간 실선\"입니다\n",
    "plt.plot(epochs, val_loss, 'r', label='Validation loss')\n",
    "plt.title('Training and validation loss')\n",
    "plt.xlabel('Epochs')\n",
    "plt.ylabel('Loss')\n",
    "plt.grid()\n",
    "plt.legend()\n",
    "\n",
    "plt.show()"
   ]
  },
  {
   "cell_type": "code",
   "execution_count": 86,
   "id": "enclosed-nutrition",
   "metadata": {},
   "outputs": [
    {
     "data": {
      "image/png": "[encoded data removed]",
      "text/plain": [
       "<Figure size 432x288 with 1 Axes>"
      ]
     },
     "metadata": {
      "needs_background": "light"
     },
     "output_type": "display_data"
    }
   ],
   "source": [
    "plt.clf()   # 그림을 초기화합니다\n",
    "\n",
    "plt.plot(epochs, acc, 'b', label='Training acc')\n",
    "plt.plot(epochs, val_acc, 'r', label='Validation acc')\n",
    "plt.title('Training and validation accuracy')\n",
    "plt.xlabel('Epochs')\n",
    "plt.ylabel('Accuracy')\n",
    "plt.grid()\n",
    "plt.legend()\n",
    "\n",
    "plt.show()"
   ]
  },
  {
   "cell_type": "code",
   "execution_count": 87,
   "id": "periodic-senior",
   "metadata": {},
   "outputs": [
    {
     "name": "stdout",
     "output_type": "stream",
     "text": [
      "1328/1328 [==============================] - 8s 6ms/step - loss: 0.3434 - accuracy: 0.8522\n"
     ]
    }
   ],
   "source": [
    "# 테스트셋을 통한 모델 평가\n",
    "# word_vector_dim=200\n",
    "results = model.evaluate(x_test, y_test, verbose=1)"
   ]
  },
  {
   "cell_type": "code",
   "execution_count": 89,
   "id": "dramatic-survivor",
   "metadata": {},
   "outputs": [
    {
     "name": "stdout",
     "output_type": "stream",
     "text": [
      "1328/1328 [==============================] - 8s 5ms/step - loss: 0.3462 - accuracy: 0.8551\n"
     ]
    }
   ],
   "source": [
    "# 지난 모델 로드\n",
    "prev_model = keras.models.load_model(base_path + '/model/wv100_min2_max60_model.h5')\n",
    "prev_results = prev_model.evaluate(x_test, y_test, verbose=1)"
   ]
  },
  {
   "cell_type": "code",
   "execution_count": 79,
   "id": "permanent-equity",
   "metadata": {},
   "outputs": [
    {
     "name": "stdout",
     "output_type": "stream",
     "text": [
      "1328/1328 [==============================] - 7s 5ms/step - loss: 0.3428 - accuracy: 0.8535\n"
     ]
    }
   ],
   "source": [
    "# 지난 모델 로드\n",
    "prev_model = keras.models.load_model(base_path + '/model/wv16_min2_max60_model.h5')\n",
    "prev_results = prev_model.evaluate(x_test, y_test, verbose=1)"
   ]
  },
  {
   "cell_type": "code",
   "execution_count": 83,
   "id": "through-morris",
   "metadata": {},
   "outputs": [
    {
     "name": "stdout",
     "output_type": "stream",
     "text": [
      "1328/1328 [==============================] - 7s 5ms/step - loss: 0.6931 - accuracy: 0.5055\n"
     ]
    }
   ],
   "source": [
    "# 지난 모델 로드\n",
    "prev_model = keras.models.load_model(base_path + '/model/wv200_min2_max80_model.h5')\n",
    "prev_results = prev_model.evaluate(x_test, y_test, verbose=1)"
   ]
  },
  {
   "cell_type": "code",
   "execution_count": 96,
   "id": "centered-education",
   "metadata": {},
   "outputs": [],
   "source": [
    "# 실제 리뷰를 분류하는 함수\n",
    "def sentiment_predict(sentence):\n",
    "    tensor = []\n",
    "    \n",
    "    # tokenize\n",
    "    tensor.append(s.EncodeAsIds(sentence))\n",
    "    \n",
    "    # padding\n",
    "    tensor = tf.keras.preprocessing.sequence.pad_sequences(tensor, padding='post')\n",
    "    \n",
    "    # prediction\n",
    "    score = float(model.predict(tensor))\n",
    "    \n",
    "    if score > 0.5:\n",
    "        print(f\"{score * 100:.2f}% 확률로 positive\")\n",
    "    else:\n",
    "        print(f\"{(1 - score)*100:.2f}% 확률로 negative\")"
   ]
  },
  {
   "cell_type": "code",
   "execution_count": 97,
   "id": "allied-armor",
   "metadata": {},
   "outputs": [
    {
     "name": "stdout",
     "output_type": "stream",
     "text": [
      "WARNING:tensorflow:7 out of the last 11 calls to <function Model.make_predict_function.<locals>.predict_function at 0x7fefc957ce60> triggered tf.function retracing. Tracing is expensive and the excessive number of tracings could be due to (1) creating @tf.function repeatedly in a loop, (2) passing tensors with different shapes, (3) passing Python objects instead of tensors. For (1), please define your @tf.function outside of the loop. For (2), @tf.function has experimental_relax_shapes=True option that relaxes argument shapes that can avoid unnecessary retracing. For (3), please refer to https://www.tensorflow.org/guide/function#controlling_retracing and https://www.tensorflow.org/api_docs/python/tf/function for  more details.\n",
      "68.07% 확률로 positive\n"
     ]
    }
   ],
   "source": [
    "sentiment_predict('2시간 내내 몰입할 수 있었던 영화')"
   ]
  },
  {
   "cell_type": "code",
   "execution_count": 98,
   "id": "critical-smell",
   "metadata": {},
   "outputs": [
    {
     "name": "stdout",
     "output_type": "stream",
     "text": [
      "WARNING:tensorflow:7 out of the last 11 calls to <function Model.make_predict_function.<locals>.predict_function at 0x7fefc957ce60> triggered tf.function retracing. Tracing is expensive and the excessive number of tracings could be due to (1) creating @tf.function repeatedly in a loop, (2) passing tensors with different shapes, (3) passing Python objects instead of tensors. For (1), please define your @tf.function outside of the loop. For (2), @tf.function has experimental_relax_shapes=True option that relaxes argument shapes that can avoid unnecessary retracing. For (3), please refer to https://www.tensorflow.org/guide/function#controlling_retracing and https://www.tensorflow.org/api_docs/python/tf/function for  more details.\n",
      "59.75% 확률로 negative\n"
     ]
    }
   ],
   "source": [
    "sentiment_predict('감독이 전하고 싶었던 말이 뭔지 모르겠다')"
   ]
  },
  {
   "cell_type": "code",
   "execution_count": 99,
   "id": "infinite-ethics",
   "metadata": {},
   "outputs": [
    {
     "name": "stdout",
     "output_type": "stream",
     "text": [
      "WARNING:tensorflow:7 out of the last 11 calls to <function Model.make_predict_function.<locals>.predict_function at 0x7fefc957ce60> triggered tf.function retracing. Tracing is expensive and the excessive number of tracings could be due to (1) creating @tf.function repeatedly in a loop, (2) passing tensors with different shapes, (3) passing Python objects instead of tensors. For (1), please define your @tf.function outside of the loop. For (2), @tf.function has experimental_relax_shapes=True option that relaxes argument shapes that can avoid unnecessary retracing. For (3), please refer to https://www.tensorflow.org/guide/function#controlling_retracing and https://www.tensorflow.org/api_docs/python/tf/function for  more details.\n",
      "50.56% 확률로 positive\n"
     ]
    }
   ],
   "source": [
    "sentiment_predict('그럭저럭')"
   ]
  },
  {
   "cell_type": "code",
   "execution_count": 100,
   "id": "subtle-creature",
   "metadata": {},
   "outputs": [
    {
     "name": "stdout",
     "output_type": "stream",
     "text": [
      "71.09% 확률로 negative\n"
     ]
    }
   ],
   "source": [
    "sentiment_predict('기대를 너무 많이 했나보다')"
   ]
  },
  {
   "cell_type": "code",
   "execution_count": 101,
   "id": "prepared-usage",
   "metadata": {},
   "outputs": [
    {
     "name": "stdout",
     "output_type": "stream",
     "text": [
      "63.64% 확률로 negative\n"
     ]
    }
   ],
   "source": [
    "sentiment_predict('최악')"
   ]
  },
  {
   "cell_type": "markdown",
   "id": "sunset-underwear",
   "metadata": {},
   "source": [
    "## 결론 및 회고\n",
    "\n",
    "#### - 다른 토크나이저와 비교\n",
    "\n",
    "- 지난 Exploration에서 **Okt 토크나이저**를 이용해 진행했던 결과와 비교하면 모델의 accuracy와 실제 review의 감성 분석 성능 자체에서도 더 뛰어난 결과를 얻지는 못했다.\n",
    "    - 띄어쓰기 오류나 오타를 바로 잡고, normalize하는 기능이 Okt의 토크나이저가 더 뛰어나기 때문일 것으로 추측한다.\n",
    "    - 또 sentencepiece 모델학습에 이용한 corpus 데이터가 영화 review와 여러 측면에서 달랐던 것도 그 이유 중 하나로 추측한다.\n",
    "- SentencePiece 모델에서 bpe보다는 default인 unigram이 약간 더 좋은 정확도를 보였다.\n",
    "\n",
    "\n",
    "#### - 전처리 및 하이퍼파라미터 조정\n",
    "\n",
    "- 정확도 향상에 가장 큰 영향을 미친 것은 최대 문장 길이 max_len이었다.\n",
    "    - max_len을 설정하지 않고 길이 140을 그대로 적용했을 때 val_accuracy는 약 0.5 수준이었다.\n",
    "    - 이후 min_len은 2, max_len은 80으로 설정해 학습했을 때에도 정확도가 그다지 개선되지 않았다.\n",
    "    - 그런데 max_len을 60으로 설정하자 갑자기 정확도가 0.85 이상으로 높게 나타났다.\n",
    "    - 아무래도 최대 문장 길이가 길수록 대부분의 데이터가 0으로 padding되면서 sparse해지는 문제가 있어서 학습이 잘 이루어지지 않았던 것 같다.\n",
    "- 다른 하이퍼파라미터 조정은 정확도에 소수점 둘째자리 이하의 수 정도로 아주 약간만 영향을 주었다.\n",
    "    - 그나마 영향을 많이 준 것은 word_vector_dim이었다.\n",
    "\n",
    "#### - 기타\n",
    "\n",
    "- 이번 노드에서는 지난 모델들을 저장했다가 다시 load해서 성능이 어떻게 다른지 직접 비교해봤는데 매우 편리했다."
   ]
  },
  {
   "cell_type": "code",
   "execution_count": null,
   "id": "eligible-culture",
   "metadata": {},
   "outputs": [],
   "source": []
  }
 ],
 "metadata": {
  "kernelspec": {
   "display_name": "Python 3",
   "language": "python",
   "name": "python3"
  },
  "language_info": {
   "codemirror_mode": {
    "name": "ipython",
    "version": 3
   },
   "file_extension": ".py",
   "mimetype": "text/x-python",
   "name": "python",
   "nbconvert_exporter": "python",
   "pygments_lexer": "ipython3",
   "version": "3.7.9"
  }
 },
 "nbformat": 4,
 "nbformat_minor": 5
}
