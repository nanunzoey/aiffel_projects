{
  "nbformat": 4,
  "nbformat_minor": 5,
  "metadata": {
    "kernelspec": {
      "display_name": "Python 3",
      "language": "python",
      "name": "python3"
    },
    "language_info": {
      "codemirror_mode": {
        "name": "ipython",
        "version": 3
      },
      "file_extension": ".py",
      "mimetype": "text/x-python",
      "name": "python",
      "nbconvert_exporter": "python",
      "pygments_lexer": "ipython3",
      "version": "3.7.9"
    },
    "colab": {
      "name": "GD8_s2s_translator_kor_eng.ipynb",
      "provenance": [],
      "collapsed_sections": [],
      "machine_shape": "hm"
    },
    "accelerator": "GPU"
  },
  "cells": [
    {
      "cell_type": "markdown",
      "metadata": {
        "id": "liable-density"
      },
      "source": [
        "# 프로젝트: 한영 번역기 만들기\n",
        "\n",
        "### 데이터\n",
        "- [다운로드](https://github.com/jungyeul/korean-parallel-corpora/tree/master/korean-english-news-v1)\n",
        "- korean-english-park.train.tar.gz 이용"
      ],
      "id": "liable-density"
    },
    {
      "cell_type": "code",
      "metadata": {
        "colab": {
          "base_uri": "https://localhost:8080/"
        },
        "id": "qiCjW-8TwcZM",
        "outputId": "8c5f5a7c-df10-4779-c2a1-c930387178e3"
      },
      "source": [
        "from google.colab import drive\n",
        "drive.mount('/content/drive')"
      ],
      "id": "qiCjW-8TwcZM",
      "execution_count": 132,
      "outputs": [
        {
          "output_type": "stream",
          "name": "stdout",
          "text": [
            "Drive already mounted at /content/drive; to attempt to forcibly remount, call drive.mount(\"/content/drive\", force_remount=True).\n"
          ]
        }
      ]
    },
    {
      "cell_type": "code",
      "metadata": {
        "id": "9plXRG7_1qAT"
      },
      "source": [
        "# git clone https://github.com/SOMJANG/Mecab-ko-for-Google-Colab.git\n",
        "# ls\n",
        "# cd Mecab-ko-for-Google-Colab\n",
        "# ls\n",
        "# bash install_mecab-ko_on_colab190912.sh"
      ],
      "id": "9plXRG7_1qAT",
      "execution_count": 133,
      "outputs": []
    },
    {
      "cell_type": "code",
      "metadata": {
        "scrolled": true,
        "id": "cosmetic-drunk"
      },
      "source": [
        "!apt-get update -qq\n",
        "!apt-get install fonts-nanum* -qq"
      ],
      "id": "cosmetic-drunk",
      "execution_count": 134,
      "outputs": []
    },
    {
      "cell_type": "code",
      "metadata": {
        "id": "starting-relaxation"
      },
      "source": [
        "# 한글 폰트 셋팅\n",
        "import matplotlib as mpl\n",
        "import matplotlib.pyplot as plt\n",
        "\n",
        "%config InlineBackend.figure_format = 'retina'\n",
        "\n",
        "import matplotlib.font_manager as fm\n",
        "fontpath = '/usr/share/fonts/truetype/nanum/NanumBarunGothic.ttf'\n",
        "font = fm.FontProperties(fname=fontpath, size=14).get_name()\n",
        "plt.rc('font', family=font)\n",
        "fm._rebuild()"
      ],
      "id": "starting-relaxation",
      "execution_count": 135,
      "outputs": []
    },
    {
      "cell_type": "code",
      "metadata": {
        "id": "overhead-coupon"
      },
      "source": [
        "import io\n",
        "import os\n",
        "import random\n",
        "import re\n",
        "import time\n",
        "import warnings\n",
        "warnings.filterwarnings('ignore')\n",
        "\n",
        "from tqdm import tqdm\n",
        "import tensorflow as tf\n",
        "import numpy as np\n",
        "\n",
        "from sklearn.model_selection import train_test_split\n",
        "\n",
        "import matplotlib.ticker as ticker\n",
        "\n",
        "from konlpy.tag import Mecab"
      ],
      "id": "overhead-coupon",
      "execution_count": 136,
      "outputs": []
    },
    {
      "cell_type": "markdown",
      "metadata": {
        "id": "antique-title"
      },
      "source": [
        "## 데이터 준비"
      ],
      "id": "antique-title"
    },
    {
      "cell_type": "code",
      "metadata": {
        "id": "interim-diameter"
      },
      "source": [
        "# !cd ~/aiffel/aiffel_projects/goingdeeper/GD8_s2s_translation"
      ],
      "id": "interim-diameter",
      "execution_count": 137,
      "outputs": []
    },
    {
      "cell_type": "code",
      "metadata": {
        "id": "aggressive-fetish"
      },
      "source": [
        "# !tar -zxvf korean-english-park.train.tar.gz\n",
        "# !tar -zxvf korean-english-park.test.tar.gz"
      ],
      "id": "aggressive-fetish",
      "execution_count": 138,
      "outputs": []
    },
    {
      "cell_type": "code",
      "metadata": {
        "id": "clean-purse"
      },
      "source": [
        "# base_path = os.getenv('HOME') + '/aiffel/aiffel_projects/goingdeeper/GD8_s2s_translation'\n",
        "ko_train = '/korean-english-park.train.ko'\n",
        "en_train = '/korean-english-park.train.en'"
      ],
      "id": "clean-purse",
      "execution_count": 139,
      "outputs": []
    },
    {
      "cell_type": "code",
      "metadata": {
        "colab": {
          "base_uri": "https://localhost:8080/"
        },
        "id": "actual-equity",
        "outputId": "fa3b7d1e-7fe3-4e66-9d97-749cb5d39703"
      },
      "source": [
        "with open(ko_train, 'r') as f:\n",
        "    ko_raw = f.read().splitlines()\n",
        "    \n",
        "print('Data Size:', len(ko_raw))\n",
        "print('Example:')\n",
        "for sen in ko_raw[:5]:\n",
        "    print(\">>\", sen)"
      ],
      "id": "actual-equity",
      "execution_count": 140,
      "outputs": [
        {
          "output_type": "stream",
          "name": "stdout",
          "text": [
            "Data Size: 94123\n",
            "Example:\n",
            ">> 개인용 컴퓨터 사용의 상당 부분은 \"이것보다 뛰어날 수 있느냐?\"\n",
            ">> 모든 광마우스와 마찬가지 로 이 광마우스도 책상 위에 놓는 마우스 패드를 필요로 하지 않는다.\n",
            ">> 그러나 이것은 또한 책상도 필요로 하지 않는다.\n",
            ">> 79.95달러하는 이 최첨단 무선 광마우스는 허공에서 팔목, 팔, 그외에 어떤 부분이든 그 움직임에따라 커서의 움직임을 조절하는 회전 운동 센서를 사용하고 있다.\n",
            ">> 정보 관리들은 동남 아시아에서의 선박들에 대한 많은 (테러) 계획들이 실패로 돌아갔음을 밝혔으며, 세계 해상 교역량의 거의 3분의 1을 운송하는 좁은 해로인 말라카 해협이 테러 공격을 당하기 쉽다고 경고하고 있다.\n"
          ]
        }
      ]
    },
    {
      "cell_type": "code",
      "metadata": {
        "colab": {
          "base_uri": "https://localhost:8080/"
        },
        "id": "falling-sentence",
        "outputId": "6a929525-67b8-46c8-91a3-8e149631536e"
      },
      "source": [
        "with open(en_train, 'r') as f:\n",
        "    en_raw = f.read().splitlines()\n",
        "    \n",
        "print('Data Size:', len(en_raw))\n",
        "print('Example:')\n",
        "for sen in en_raw[:5]:\n",
        "    print(\">>\", sen)"
      ],
      "id": "falling-sentence",
      "execution_count": 141,
      "outputs": [
        {
          "output_type": "stream",
          "name": "stdout",
          "text": [
            "Data Size: 94123\n",
            "Example:\n",
            ">> Much of personal computing is about \"can you top this?\"\n",
            ">> so a mention a few weeks ago about a rechargeable wireless optical mouse brought in another rechargeable, wireless mouse.\n",
            ">> Like all optical mice, But it also doesn't need a desk.\n",
            ">> uses gyroscopic sensors to control the cursor movement as you move your wrist, arm, whatever through the air.\n",
            ">> Intelligence officials have revealed a spate of foiled plots on ships in Southeast Asia and are warning that a narrow stretch of water carrying almost one third of the world's maritime trade is vulnerable to a terror attack.\n"
          ]
        }
      ]
    },
    {
      "cell_type": "code",
      "metadata": {
        "id": "accessory-funds"
      },
      "source": [
        "def preprocess_sentence(sentence, s_token=False, e_token=False):\n",
        "    sentence = sentence.lower().strip()\n",
        "    sentence = re.sub(r\"([?.!,])\", r\"\\1\", sentence)\n",
        "    sentence = re.sub(r'[\"\"]+', \" \", sentence)\n",
        "    sentence = re.sub(r\"[^a-zㄱ-ㅎㅏ-ㅣ가-힣0-9?.!,]+\", \" \", sentence)\n",
        "    sentence = sentence.strip()\n",
        "\n",
        "    if s_token:\n",
        "        sentence = '<start> ' + sentence\n",
        "    if e_token:\n",
        "        sentence += ' <end>'\n",
        "    \n",
        "    return sentence"
      ],
      "id": "accessory-funds",
      "execution_count": 142,
      "outputs": []
    },
    {
      "cell_type": "code",
      "metadata": {
        "colab": {
          "base_uri": "https://localhost:8080/"
        },
        "id": "convenient-receptor",
        "outputId": "bcded740-7911-4f37-deda-c44404ec5d74"
      },
      "source": [
        "ko_corpus = []\n",
        "en_corpus = []\n",
        "\n",
        "for sen in ko_raw:\n",
        "    ko_corpus.append(preprocess_sentence(sen))\n",
        "    \n",
        "for sen in en_raw:\n",
        "    en_corpus.append(preprocess_sentence(sen, s_token=True, e_token=True))\n",
        "    \n",
        "print('ko_corpus size:', len(ko_corpus))\n",
        "print('en_corpus size:', len(en_corpus))\n",
        "print('---------------')\n",
        "print('Korean:', ko_corpus[100])\n",
        "print('---------------')\n",
        "print('English:', en_corpus[100])"
      ],
      "id": "convenient-receptor",
      "execution_count": 143,
      "outputs": [
        {
          "output_type": "stream",
          "name": "stdout",
          "text": [
            "ko_corpus size: 94123\n",
            "en_corpus size: 94123\n",
            "---------------\n",
            "Korean: 제 23차 연례 컴덱스 박람회의 개회사를 한 케이츠는 2년여전 기술 산업의 거품이 붕괴된 이후에 첨단 기술에 대해 부정적인 인식이 있다고 말했다.\n",
            "---------------\n",
            "English: <start> gates, who opened the 23rd annual comdex trade show, said there was a negative perception of high tech following the collapse of the tech bubble about two years ago. <end>\n"
          ]
        }
      ]
    },
    {
      "cell_type": "code",
      "metadata": {
        "colab": {
          "base_uri": "https://localhost:8080/"
        },
        "id": "august-sessions",
        "outputId": "d1840c7f-2ef8-468b-e779-411be9d45bdd"
      },
      "source": [
        "# 중복 문장 제거\n",
        "cleaned_corpus = [(ko, en) for ko, en in zip(ko_corpus, en_corpus)]\n",
        "cleaned_corpus = list(set(cleaned_corpus))\n",
        "\n",
        "print('cleaned_corpus size:', len(cleaned_corpus))"
      ],
      "id": "august-sessions",
      "execution_count": 144,
      "outputs": [
        {
          "output_type": "stream",
          "name": "stdout",
          "text": [
            "cleaned_corpus size: 78932\n"
          ]
        }
      ]
    },
    {
      "cell_type": "code",
      "metadata": {
        "colab": {
          "base_uri": "https://localhost:8080/"
        },
        "id": "bearing-solomon",
        "outputId": "5fd4fac5-85ef-453a-a088-2126f3327bb6"
      },
      "source": [
        "cleaned_corpus[1]"
      ],
      "id": "bearing-solomon",
      "execution_count": 145,
      "outputs": [
        {
          "output_type": "execute_result",
          "data": {
            "text/plain": [
              "('위원회는 또 유럽위원회는 터키의 총선과 대통령 선거가 외부의 개입 없이 민주적인 방식에 의해 정치적인 안정 속에서 치러지는 것을 희망한다 고 밝혔다.',\n",
              " '<start> the commission expects that the parliamentary and presidential elections will be carried out democratically without any undue interference, and in an atmosphere of responsible debate and political stability, it added. <end>')"
            ]
          },
          "metadata": {},
          "execution_count": 145
        }
      ]
    },
    {
      "cell_type": "code",
      "metadata": {
        "colab": {
          "base_uri": "https://localhost:8080/"
        },
        "id": "FgjhjigF7iWf",
        "outputId": "b94100a5-fa1b-41cc-d2e0-9798d22e99d9"
      },
      "source": [
        "ko_corpus = [ko for ko, _ in cleaned_corpus if len(ko) <= 50]\n",
        "en_corpus = [en for ko, en in cleaned_corpus if len(ko) <= 50]\n",
        "\n",
        "print('ko_corpus size:', len(ko_corpus))\n",
        "print('en_corpus size:', len(en_corpus))"
      ],
      "id": "FgjhjigF7iWf",
      "execution_count": 146,
      "outputs": [
        {
          "output_type": "stream",
          "name": "stdout",
          "text": [
            "ko_corpus size: 26557\n",
            "en_corpus size: 26557\n"
          ]
        }
      ]
    },
    {
      "cell_type": "code",
      "metadata": {
        "colab": {
          "base_uri": "https://localhost:8080/"
        },
        "id": "GXNWQkDL8Tb5",
        "outputId": "3cc9fa25-66d1-4f31-d514-df3e3e754e9d"
      },
      "source": [
        "print('ko_corpus size:', ko_corpus[1])\n",
        "print('en_corpus size:', en_corpus[1])"
      ],
      "id": "GXNWQkDL8Tb5",
      "execution_count": 147,
      "outputs": [
        {
          "output_type": "stream",
          "name": "stdout",
          "text": [
            "ko_corpus size: 미국 힙합을 연상시키는 비트에 맞춰 대중 앞에 선 화이트는 노래를 시작했다.\n",
            "en_corpus size: <start> the japanese crowd heard a beat reminiscent of american style hip hop but then white started to sing. <end>\n"
          ]
        }
      ]
    },
    {
      "cell_type": "markdown",
      "metadata": {
        "id": "automatic-delight"
      },
      "source": [
        "## 토큰화"
      ],
      "id": "automatic-delight"
    },
    {
      "cell_type": "code",
      "metadata": {
        "id": "loved-peeing"
      },
      "source": [
        "MAX_LEN = 40\n",
        "VOCAB_SIZE = 10000\n",
        "\n",
        "def tokenize(corpus, max_len=MAX_LEN, kor=False):\n",
        "    tokenizer = tf.keras.preprocessing.text.Tokenizer(filters='', num_words=VOCAB_SIZE)\n",
        "    \n",
        "    if kor:        \n",
        "        mecab = Mecab()\n",
        "        morphs = [\" \".join(mecab.morphs(sen)) for sen in corpus]\n",
        "       \n",
        "        tokenizer.fit_on_texts(morphs)\n",
        "\n",
        "        tensor = tokenizer.texts_to_sequences(morphs)\n",
        "        tensor = tf.keras.preprocessing.sequence.pad_sequences(tensor, maxlen=max_len, padding='post')\n",
        "    else:\n",
        "        tokenizer.fit_on_texts(corpus)\n",
        "\n",
        "        tensor = tokenizer.texts_to_sequences(corpus)\n",
        "        tensor = tf.keras.preprocessing.sequence.pad_sequences(tensor, maxlen=max_len, padding='post')\n",
        "\n",
        "    return tensor, tokenizer"
      ],
      "id": "loved-peeing",
      "execution_count": 148,
      "outputs": []
    },
    {
      "cell_type": "code",
      "metadata": {
        "colab": {
          "base_uri": "https://localhost:8080/"
        },
        "id": "northern-greek",
        "outputId": "a0c7ed0e-02eb-40b8-a263-d1a574450577"
      },
      "source": [
        "enc_tensor, enc_tokenizer = tokenize(ko_corpus, MAX_LEN, kor=True)\n",
        "dec_tensor, dec_tokenizer = tokenize(en_corpus, MAX_LEN)\n",
        "\n",
        "print('Korean Vocab Size:', len(enc_tokenizer.index_word))\n",
        "print('English Vocab Size:', len(dec_tokenizer.index_word))"
      ],
      "id": "northern-greek",
      "execution_count": 149,
      "outputs": [
        {
          "output_type": "stream",
          "name": "stdout",
          "text": [
            "Korean Vocab Size: 24901\n",
            "English Vocab Size: 35222\n"
          ]
        }
      ]
    },
    {
      "cell_type": "markdown",
      "metadata": {
        "id": "insured-albania"
      },
      "source": [
        "## 모델 설계"
      ],
      "id": "insured-albania"
    },
    {
      "cell_type": "code",
      "metadata": {
        "id": "laden-ribbon"
      },
      "source": [
        "class BahdanauAttention(tf.keras.layers.Layer):\n",
        "    def __init__(self, units):\n",
        "        super(BahdanauAttention, self).__init__()\n",
        "        self.w_dec = tf.keras.layers.Dense(units)\n",
        "        self.w_enc = tf.keras.layers.Dense(units)\n",
        "        self.w_com = tf.keras.layers.Dense(1)\n",
        "    \n",
        "    def call(self, h_enc, h_dec):\n",
        "        # h_enc shape: [batch x length x units]\n",
        "        # h_dec shape: [batch x units]\n",
        "\n",
        "        h_enc = self.w_enc(h_enc)\n",
        "        h_dec = tf.expand_dims(h_dec, 1)\n",
        "        h_dec = self.w_dec(h_dec)\n",
        "\n",
        "        score = self.w_com(tf.nn.tanh(h_dec + h_enc))\n",
        "        \n",
        "        attn = tf.nn.softmax(score, axis=1)\n",
        "\n",
        "        context_vec = attn * h_enc\n",
        "        context_vec = tf.reduce_sum(context_vec, axis=1)\n",
        "\n",
        "        return context_vec, attn"
      ],
      "id": "laden-ribbon",
      "execution_count": 150,
      "outputs": []
    },
    {
      "cell_type": "code",
      "metadata": {
        "id": "prostate-accounting"
      },
      "source": [
        "class Encoder(tf.keras.Model):\n",
        "    def __init__(self, vocab_size, embedding_dim, enc_units):\n",
        "        super(Encoder, self).__init__()\n",
        "        \n",
        "        self.enc_units = enc_units\n",
        "        self.embedding = tf.keras.layers.Embedding(vocab_size, embedding_dim)\n",
        "        self.gru = tf.keras.layers.GRU(enc_units, return_sequences=True)\n",
        "        \n",
        "    def call(self, x):\n",
        "        out = self.embedding(x)\n",
        "        out = self.gru(out)\n",
        "        \n",
        "        return out"
      ],
      "id": "prostate-accounting",
      "execution_count": 151,
      "outputs": []
    },
    {
      "cell_type": "code",
      "metadata": {
        "id": "material-friend"
      },
      "source": [
        "class Decoder(tf.keras.Model):\n",
        "    def __init__(self, vocab_size, embedding_dim, dec_units):\n",
        "        super(Decoder, self).__init__()\n",
        "        self.dec_units = dec_units\n",
        "        self.embedding = tf.keras.layers.Embedding(vocab_size, embedding_dim)\n",
        "        self.gru = tf.keras.layers.GRU(dec_units,\n",
        "                                       return_sequences=True,\n",
        "                                       return_state=True)\n",
        "        self.fc = tf.keras.layers.Dense(vocab_size)\n",
        "\n",
        "        self.attention = BahdanauAttention(self.dec_units)\n",
        "\n",
        "    def call(self, x, h_dec, enc_out):\n",
        "        context_vec, attn = self.attention(enc_out, h_dec)\n",
        "\n",
        "        out = self.embedding(x)\n",
        "        out = tf.concat([tf.expand_dims(context_vec, 1), out], axis=-1)\n",
        "        \n",
        "        out, h_dec = self.gru(out)\n",
        "        out = tf.reshape(out, (-1, out.shape[2]))\n",
        "        out = self.fc(out)\n",
        "\n",
        "        return out, h_dec, attn"
      ],
      "id": "material-friend",
      "execution_count": 152,
      "outputs": []
    },
    {
      "cell_type": "code",
      "metadata": {
        "colab": {
          "base_uri": "https://localhost:8080/"
        },
        "id": "monetary-generator",
        "outputId": "232cdcc2-61f2-4c05-dc63-1abd6fb42f99"
      },
      "source": [
        "BATCH_SIZE = 64\n",
        "SRC_VOCAB_SIZE = len(enc_tokenizer.index_word) + 1\n",
        "TGT_VOCAB_SIZE = len(dec_tokenizer.index_word) + 1\n",
        "\n",
        "units = 128\n",
        "embedding_dim = 128\n",
        "\n",
        "encoder = Encoder(SRC_VOCAB_SIZE, embedding_dim, units)\n",
        "decoder = Decoder(TGT_VOCAB_SIZE, embedding_dim, units)\n",
        "\n",
        "# sample input\n",
        "sequence_len = 40\n",
        "\n",
        "sample_enc = tf.random.uniform((BATCH_SIZE, sequence_len))\n",
        "sample_output = encoder(sample_enc)\n",
        "\n",
        "print('Encoder Output:', sample_output.shape)\n",
        "\n",
        "sample_state = tf.random.uniform((BATCH_SIZE, units))\n",
        "\n",
        "sample_logits, h_dec, attn = decoder(tf.random.uniform((BATCH_SIZE, 1)), sample_state, sample_output)\n",
        "\n",
        "print ('Decoder Output:', sample_logits.shape)\n",
        "print ('Decoder Hidden State:', h_dec.shape)\n",
        "print ('Attention:', attn.shape)"
      ],
      "id": "monetary-generator",
      "execution_count": 153,
      "outputs": [
        {
          "output_type": "stream",
          "name": "stdout",
          "text": [
            "Encoder Output: (64, 40, 128)\n",
            "Decoder Output: (64, 35223)\n",
            "Decoder Hidden State: (64, 128)\n",
            "Attention: (64, 40, 1)\n"
          ]
        }
      ]
    },
    {
      "cell_type": "code",
      "metadata": {
        "id": "nutritional-switzerland"
      },
      "source": [
        "optimizer = tf.keras.optimizers.Adam()\n",
        "loss_object = tf.keras.losses.SparseCategoricalCrossentropy(from_logits=True, reduction='none')\n",
        "\n",
        "def loss_function(real, pred):\n",
        "    mask = tf.math.logical_not(tf.math.equal(real, 0))\n",
        "    loss = loss_object(real, pred)\n",
        "    \n",
        "    mask = tf.cast(mask, dtype=loss.dtype)\n",
        "    loss *= mask\n",
        "    \n",
        "    return tf.reduce_mean(loss)"
      ],
      "id": "nutritional-switzerland",
      "execution_count": 154,
      "outputs": []
    },
    {
      "cell_type": "code",
      "metadata": {
        "id": "subjective-first"
      },
      "source": [
        "@tf.function\n",
        "def train_step(src, tgt, encoder, decoder, optimizer, dec_tok):\n",
        "    bsz = src.shape[0]\n",
        "    loss = 0\n",
        "    \n",
        "    with tf.GradientTape() as tape:\n",
        "        enc_out = encoder(src)\n",
        "        h_dec = enc_out[:, -1]\n",
        "        \n",
        "        dec_src = tf.expand_dims([dec_tok.word_index['<start>']]*bsz, 1)\n",
        "        \n",
        "        for t in range(1, tgt.shape[1]):\n",
        "            pred, h_dec, _ = decoder(dec_src, h_dec, enc_out)\n",
        "            \n",
        "            loss += loss_function(tgt[:, t], pred)\n",
        "            dec_src = tf.expand_dims(tgt[:, t], 1)\n",
        "            \n",
        "        batch_loss = (loss/int(tgt.shape[1]))\n",
        "        \n",
        "        variables = encoder.trainable_variables + decoder.trainable_variables\n",
        "        gradients = tape.gradient(loss, variables)\n",
        "        optimizer.apply_gradients(zip(gradients, variables))\n",
        "        \n",
        "        return batch_loss"
      ],
      "id": "subjective-first",
      "execution_count": 155,
      "outputs": []
    },
    {
      "cell_type": "code",
      "metadata": {
        "colab": {
          "base_uri": "https://localhost:8080/"
        },
        "id": "another-bones",
        "outputId": "114b44d8-32c2-490b-94fe-58a2e0d90dd8"
      },
      "source": [
        "EPOCHS = 30\n",
        "\n",
        "for epoch in range(EPOCHS):\n",
        "    # train\n",
        "    total_loss = 0\n",
        "    \n",
        "    idx_list = list(range(0, enc_tensor.shape[0], BATCH_SIZE))\n",
        "    random.shuffle(idx_list)\n",
        "    t = tqdm(idx_list)    # tqdm\n",
        "\n",
        "    for (batch, idx) in enumerate(t):\n",
        "        batch_loss = train_step(enc_tensor[idx:idx+BATCH_SIZE],\n",
        "                                dec_tensor[idx:idx+BATCH_SIZE],\n",
        "                                encoder,\n",
        "                                decoder,\n",
        "                                optimizer,\n",
        "                                dec_tokenizer)\n",
        "    \n",
        "        total_loss += batch_loss\n",
        "        \n",
        "        t.set_description_str('Epoch %2d' % (epoch + 1))    # tqdm\n",
        "        t.set_postfix_str('Loss %.4f' % (total_loss.numpy() / (batch + 1)))    # tqdm"
      ],
      "id": "another-bones",
      "execution_count": 156,
      "outputs": [
        {
          "output_type": "stream",
          "name": "stderr",
          "text": [
            "Epoch  1: 100%|██████████| 415/415 [02:12<00:00,  3.13it/s, Loss 2.4970]\n",
            "Epoch  2: 100%|██████████| 415/415 [00:43<00:00,  9.58it/s, Loss 2.4126]\n",
            "Epoch  3: 100%|██████████| 415/415 [00:43<00:00,  9.59it/s, Loss 2.4124]\n",
            "Epoch  4: 100%|██████████| 415/415 [00:43<00:00,  9.59it/s, Loss 2.4120]\n",
            "Epoch  5: 100%|██████████| 415/415 [00:43<00:00,  9.57it/s, Loss 2.4123]\n",
            "Epoch  6: 100%|██████████| 415/415 [00:43<00:00,  9.62it/s, Loss 2.4119]\n",
            "Epoch  7: 100%|██████████| 415/415 [00:43<00:00,  9.61it/s, Loss 2.4118]\n",
            "Epoch  8: 100%|██████████| 415/415 [00:43<00:00,  9.63it/s, Loss 2.4118]\n",
            "Epoch  9: 100%|██████████| 415/415 [00:43<00:00,  9.61it/s, Loss 2.3310]\n",
            "Epoch 10: 100%|██████████| 415/415 [00:43<00:00,  9.61it/s, Loss 2.1820]\n",
            "Epoch 11: 100%|██████████| 415/415 [00:43<00:00,  9.60it/s, Loss 2.0818]\n",
            "Epoch 12: 100%|██████████| 415/415 [00:43<00:00,  9.62it/s, Loss 2.0089]\n",
            "Epoch 13: 100%|██████████| 415/415 [00:42<00:00,  9.67it/s, Loss 1.9472]\n",
            "Epoch 14: 100%|██████████| 415/415 [00:42<00:00,  9.69it/s, Loss 1.8952]\n",
            "Epoch 15: 100%|██████████| 415/415 [00:42<00:00,  9.68it/s, Loss 1.8468]\n",
            "Epoch 16: 100%|██████████| 415/415 [00:43<00:00,  9.64it/s, Loss 1.8029]\n",
            "Epoch 17: 100%|██████████| 415/415 [00:43<00:00,  9.60it/s, Loss 1.7690]\n",
            "Epoch 18: 100%|██████████| 415/415 [00:43<00:00,  9.59it/s, Loss 1.7289]\n",
            "Epoch 19: 100%|██████████| 415/415 [00:43<00:00,  9.62it/s, Loss 1.6980]\n",
            "Epoch 20: 100%|██████████| 415/415 [00:43<00:00,  9.64it/s, Loss 1.6618]\n",
            "Epoch 21: 100%|██████████| 415/415 [00:43<00:00,  9.64it/s, Loss 1.6306]\n",
            "Epoch 22: 100%|██████████| 415/415 [00:43<00:00,  9.64it/s, Loss 1.6005]\n",
            "Epoch 23: 100%|██████████| 415/415 [00:42<00:00,  9.69it/s, Loss 1.5723]\n",
            "Epoch 24: 100%|██████████| 415/415 [00:42<00:00,  9.69it/s, Loss 1.5438]\n",
            "Epoch 25: 100%|██████████| 415/415 [00:42<00:00,  9.68it/s, Loss 1.5165]\n",
            "Epoch 26: 100%|██████████| 415/415 [00:42<00:00,  9.68it/s, Loss 1.4963]\n",
            "Epoch 27: 100%|██████████| 415/415 [00:42<00:00,  9.70it/s, Loss 1.4687]\n",
            "Epoch 28: 100%|██████████| 415/415 [00:42<00:00,  9.74it/s, Loss 1.4416]\n",
            "Epoch 29: 100%|██████████| 415/415 [00:42<00:00,  9.77it/s, Loss 1.4172]\n",
            "Epoch 30: 100%|██████████| 415/415 [00:42<00:00,  9.75it/s, Loss 1.3926]\n"
          ]
        }
      ]
    },
    {
      "cell_type": "code",
      "metadata": {
        "id": "short-spanking"
      },
      "source": [
        "# 번역 성능 평가하는 함수\n",
        "# 보너스로 attention map 시각화\n",
        "def evaluate(sentence, encoder, decoder):\n",
        "    attention = np.zeros((dec_tensor.shape[-1], enc_tensor.shape[-1]))\n",
        "    \n",
        "    sentence = preprocess_sentence(sentence)\n",
        "    inputs = enc_tokenizer.texts_to_sequences([sentence.split()])\n",
        "    inputs = tf.keras.preprocessing.sequence.pad_sequences(inputs, maxlen=enc_tensor.shape[-1],\n",
        "                                                          padding='post')\n",
        "    \n",
        "    result = ''\n",
        "    \n",
        "    enc_out = encoder(inputs)\n",
        "    \n",
        "    dec_hidden = enc_out[:, -1]\n",
        "    dec_input = tf.expand_dims([dec_tokenizer.word_index['<start>']], 0)\n",
        "    \n",
        "    for t in range(dec_tensor.shape[-1]):\n",
        "        predictions, dec_hidden, attention_weights = decoder(dec_input,\n",
        "                                                            dec_hidden,\n",
        "                                                            enc_out)\n",
        "        attention_weights = tf.reshape(attention_weights, (-1))\n",
        "        attention[t] = attention_weights.numpy()\n",
        "        \n",
        "        predicted_id = \\\n",
        "        tf.argmax(tf.math.softmax(predictions, axis=-1)[0]).numpy()\n",
        "        \n",
        "        result += dec_tokenizer.index_word[predicted_id] + ' '\n",
        "\n",
        "        if dec_tokenizer.index_word[predicted_id] == '<end>':\n",
        "            return result, sentence, attention\n",
        "\n",
        "        dec_input = tf.expand_dims([predicted_id], 0)\n",
        "\n",
        "    return result, sentence, attention\n",
        "\n",
        "\n",
        "def plot_attention(attention, sentence, predicted_sentence):\n",
        "    fig = plt.figure(figsize=(10,10))\n",
        "    ax = fig.add_subplot(1, 1, 1)\n",
        "    ax.matshow(attention, cmap='viridis')\n",
        "\n",
        "    fontdict = {'fontsize': 14}\n",
        "\n",
        "    ax.set_xticklabels([''] + sentence, fontdict=fontdict, rotation=90)\n",
        "    ax.set_yticklabels([''] + predicted_sentence, fontdict=fontdict)\n",
        "\n",
        "    ax.xaxis.set_major_locator(ticker.MultipleLocator(1))\n",
        "    ax.yaxis.set_major_locator(ticker.MultipleLocator(1))\n",
        "\n",
        "    plt.show()\n",
        "\n",
        "\n",
        "def translate(sentence, encoder, decoder):\n",
        "    result, sentence, attention = evaluate(sentence, encoder, decoder)\n",
        "\n",
        "    print('Input: %s' % (sentence))\n",
        "    print('Predicted translation: {}'.format(result))\n",
        "    \n",
        "    attention = attention[:len(result.split()), :len(sentence.split())]\n",
        "    plot_attention(attention, sentence.split(), result.split(' '))"
      ],
      "id": "short-spanking",
      "execution_count": 157,
      "outputs": []
    },
    {
      "cell_type": "code",
      "metadata": {
        "colab": {
          "base_uri": "https://localhost:8080/",
          "height": 645
        },
        "id": "jKdD9BQc_Fnt",
        "outputId": "0d0ada25-7bc1-420a-f368-f8e0fa12c113"
      },
      "source": [
        "translate(\"커피가 필요해\", encoder, decoder)"
      ],
      "id": "jKdD9BQc_Fnt",
      "execution_count": 158,
      "outputs": [
        {
          "output_type": "stream",
          "name": "stdout",
          "text": [
            "Input: 커피가 필요해\n",
            "Predicted translation: and <end> \n"
          ]
        },
        {
          "output_type": "display_data",
          "data": {
            "image/png": "[encoded data removed]",
            "text/plain": [
              "<Figure size 720x720 with 1 Axes>"
            ]
          },
          "metadata": {
            "image/png": {
              "width": 614,
              "height": 593
            },
            "needs_background": "light"
          }
        }
      ]
    },
    {
      "cell_type": "code",
      "metadata": {
        "colab": {
          "base_uri": "https://localhost:8080/",
          "height": 645
        },
        "id": "0PcZikF_BuAW",
        "outputId": "0214cbd6-e7a1-4729-af93-45db37d2c716"
      },
      "source": [
        "translate(\"한글이 출력이 안 된다 또\", encoder, decoder)"
      ],
      "id": "0PcZikF_BuAW",
      "execution_count": 160,
      "outputs": [
        {
          "output_type": "stream",
          "name": "stdout",
          "text": [
            "Input: 한글이 출력이 안 된다 또\n",
            "Predicted translation: it s a lot of the <end> \n"
          ]
        },
        {
          "output_type": "display_data",
          "data": {
            "image/png": "[encoded data removed]",
            "text/plain": [
              "<Figure size 720x720 with 1 Axes>"
            ]
          },
          "metadata": {
            "image/png": {
              "width": 459,
              "height": 593
            },
            "needs_background": "light"
          }
        }
      ]
    },
    {
      "cell_type": "code",
      "metadata": {
        "colab": {
          "base_uri": "https://localhost:8080/",
          "height": 407
        },
        "id": "SaX1McjuImi7",
        "outputId": "9615cb1f-9bc0-48aa-9ce4-a38dd7896f79"
      },
      "source": [
        "translate(\"아시아에서는 한국과 중국이 가입했다.\", encoder, decoder)"
      ],
      "id": "SaX1McjuImi7",
      "execution_count": 161,
      "outputs": [
        {
          "output_type": "stream",
          "name": "stdout",
          "text": [
            "Input: 아시아에서는 한국과 중국이 가입했다.\n",
            "Predicted translation: and <end> \n"
          ]
        },
        {
          "output_type": "display_data",
          "data": {
            "image/png": "[encoded data removed]",
            "text/plain": [
              "<Figure size 720x720 with 1 Axes>"
            ]
          },
          "metadata": {
            "image/png": {
              "width": 629,
              "height": 354
            },
            "needs_background": "light"
          }
        }
      ]
    },
    {
      "cell_type": "code",
      "metadata": {
        "colab": {
          "base_uri": "https://localhost:8080/",
          "height": 650
        },
        "id": "Dnu0ItDUIuc4",
        "outputId": "14e280e3-bb74-4473-82c7-d127a85ec95f"
      },
      "source": [
        "translate(\"원래 가을 기후를 되찾을 것이다.\", encoder, decoder)"
      ],
      "id": "Dnu0ItDUIuc4",
      "execution_count": 166,
      "outputs": [
        {
          "output_type": "stream",
          "name": "stdout",
          "text": [
            "Input: 원래 가을 기후를 되찾을 것이다.\n",
            "Predicted translation: a second first a little <end> \n"
          ]
        },
        {
          "output_type": "display_data",
          "data": {
            "image/png": "[encoded data removed]",
            "text/plain": [
              "<Figure size 720x720 with 1 Axes>"
            ]
          },
          "metadata": {
            "image/png": {
              "width": 524,
              "height": 598
            },
            "needs_background": "light"
          }
        }
      ]
    },
    {
      "cell_type": "code",
      "metadata": {
        "id": "AwjO4pgPI6Gd"
      },
      "source": [
        ""
      ],
      "id": "AwjO4pgPI6Gd",
      "execution_count": null,
      "outputs": []
    }
  ]
}