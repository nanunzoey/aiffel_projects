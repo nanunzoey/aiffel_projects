{
 "cells": [
  {
   "cell_type": "markdown",
   "id": "alpine-creek",
   "metadata": {},
   "source": [
    "# Seq2seq으로 번역기 만들기\n",
    "\n"
   ]
  },
  {
   "cell_type": "code",
   "execution_count": 1,
   "id": "jewish-regression",
   "metadata": {},
   "outputs": [],
   "source": [
    "# !mkdir -p ~/aiffel/aiffel_projects/goingdeeper/GD8_s2s_translation"
   ]
  },
  {
   "cell_type": "code",
   "execution_count": 2,
   "id": "civilian-tolerance",
   "metadata": {},
   "outputs": [],
   "source": [
    "# !sudo apt -qq -y install fonts-nanum"
   ]
  },
  {
   "cell_type": "code",
   "execution_count": 3,
   "id": "economic-sheffield",
   "metadata": {},
   "outputs": [],
   "source": [
    "import matplotlib as mpl\n",
    "import matplotlib.pyplot as plt\n",
    "\n",
    "%config InlineBackend.figure_format = 'retina'\n",
    "\n",
    "import matplotlib.font_manager as fm\n",
    "fontpath = '/usr/share/fonts/truetype/nanum/NanumBarunGothic.ttf'\n",
    "font = fm.FontProperties(fname=fontpath, size=9)\n",
    "plt.rc('font', family='NanumBarunGothic')\n",
    "mpl.font_manager._rebuild()"
   ]
  },
  {
   "cell_type": "markdown",
   "id": "latest-combine",
   "metadata": {},
   "source": [
    "## 데이터 준비"
   ]
  },
  {
   "cell_type": "code",
   "execution_count": 19,
   "id": "compound-arthritis",
   "metadata": {},
   "outputs": [],
   "source": [
    "import io\n",
    "import os\n",
    "import random\n",
    "import re\n",
    "import time\n",
    "\n",
    "from tqdm import tqdm\n",
    "import tensorflow as tf\n",
    "import numpy as np\n",
    "\n",
    "from sklearn.model_selection import train_test_split\n",
    "\n",
    "import matplotlib.ticker as ticker"
   ]
  },
  {
   "cell_type": "code",
   "execution_count": 5,
   "id": "italic-stevens",
   "metadata": {},
   "outputs": [
    {
     "name": "stdout",
     "output_type": "stream",
     "text": [
      "2.4.1\n"
     ]
    }
   ],
   "source": [
    "print(tf.__version__)"
   ]
  },
  {
   "cell_type": "markdown",
   "id": "lyric-adrian",
   "metadata": {},
   "source": [
    "#### - tf.keras.utils.get_file() 함수\n",
    "\n",
    "- url로부터 데이터를 다운 받고, 압축된 형식일 경우 해제까지 알아서 해준다."
   ]
  },
  {
   "cell_type": "code",
   "execution_count": 6,
   "id": "worse-wales",
   "metadata": {},
   "outputs": [
    {
     "name": "stdout",
     "output_type": "stream",
     "text": [
      "Downloading data from http://storage.googleapis.com/download.tensorflow.org/data/spa-eng.zip\n",
      "2646016/2638744 [==============================] - 0s 0us/step\n"
     ]
    }
   ],
   "source": [
    "path_to_zip = tf.keras.utils.get_file('spa-eng.zip',\n",
    "                                     origin='http://storage.googleapis.com/download.tensorflow.org/data/spa-eng.zip',\n",
    "                                     extract=True)\n",
    "\n",
    "path_to_file = os.path.dirname(path_to_zip) + '/spa-eng/spa.txt'"
   ]
  },
  {
   "cell_type": "code",
   "execution_count": 7,
   "id": "prescription-outline",
   "metadata": {},
   "outputs": [
    {
     "name": "stdout",
     "output_type": "stream",
     "text": [
      "Data Size: 118964\n",
      "Example:\n",
      ">> Go.\tVe.\n",
      ">> Wait.\tEsperen.\n",
      ">> Hug me.\tAbrázame.\n",
      ">> No way!\t¡Ni cagando!\n",
      ">> Call me.\tLlamame.\n"
     ]
    }
   ],
   "source": [
    "with open(path_to_file, 'r') as f:\n",
    "    raw = f.read().splitlines()\n",
    "    \n",
    "print('Data Size:', len(raw))\n",
    "print('Example:')\n",
    "for sen in raw[:100][::20]:\n",
    "    print(\">>\", sen)"
   ]
  },
  {
   "cell_type": "code",
   "execution_count": 8,
   "id": "cellular-texture",
   "metadata": {
    "scrolled": true
   },
   "outputs": [
    {
     "data": {
      "text/plain": [
       "['Go.\\tVe.',\n",
       " 'Go.\\tVete.',\n",
       " 'Go.\\tVaya.',\n",
       " 'Go.\\tVáyase.',\n",
       " 'Hi.\\tHola.',\n",
       " 'Run!\\t¡Corre!',\n",
       " 'Run.\\tCorred.',\n",
       " 'Who?\\t¿Quién?',\n",
       " 'Fire!\\t¡Fuego!',\n",
       " 'Fire!\\t¡Incendio!',\n",
       " 'Fire!\\t¡Disparad!',\n",
       " 'Help!\\t¡Ayuda!',\n",
       " 'Help!\\t¡Socorro! ¡Auxilio!',\n",
       " 'Help!\\t¡Auxilio!',\n",
       " 'Jump!\\t¡Salta!',\n",
       " 'Jump.\\tSalte.',\n",
       " 'Stop!\\t¡Parad!',\n",
       " 'Stop!\\t¡Para!',\n",
       " 'Stop!\\t¡Pare!',\n",
       " 'Wait!\\t¡Espera!',\n",
       " 'Wait.\\tEsperen.',\n",
       " 'Go on.\\tContinúa.',\n",
       " 'Go on.\\tContinúe.',\n",
       " 'Hello!\\tHola.',\n",
       " 'I ran.\\tCorrí.',\n",
       " 'I ran.\\tCorría.',\n",
       " 'I try.\\tLo intento.',\n",
       " 'I won!\\t¡He ganado!',\n",
       " 'Oh no!\\t¡Oh, no!',\n",
       " 'Relax.\\tTomátelo con soda.',\n",
       " 'Smile.\\tSonríe.',\n",
       " 'Attack!\\t¡Al ataque!',\n",
       " 'Attack!\\t¡Atacad!',\n",
       " 'Get up.\\tLevanta.',\n",
       " 'Go now.\\tVe ahora mismo.',\n",
       " 'Got it!\\t¡Lo tengo!',\n",
       " 'Got it?\\t¿Lo pillas?',\n",
       " 'Got it?\\t¿Entendiste?',\n",
       " 'He ran.\\tÉl corrió.',\n",
       " 'Hop in.\\tMétete adentro.',\n",
       " 'Hug me.\\tAbrázame.',\n",
       " 'I fell.\\tMe caí.',\n",
       " 'I know.\\tYo lo sé.',\n",
       " 'I left.\\tSalí.',\n",
       " 'I lied.\\tMentí.',\n",
       " 'I lost.\\tPerdí.',\n",
       " 'I quit.\\tDimito.',\n",
       " 'I quit.\\tRenuncié.',\n",
       " 'I work.\\tEstoy trabajando.',\n",
       " \"I'm 19.\\tTengo diecinueve.\",\n",
       " \"I'm up.\\tEstoy levantado.\",\n",
       " 'Listen.\\tEscucha.',\n",
       " 'Listen.\\tEscuche.',\n",
       " 'Listen.\\tEscuchen.',\n",
       " 'No way!\\t¡No puede ser!',\n",
       " 'No way!\\tDe ninguna manera.',\n",
       " 'No way!\\t¡De ninguna manera!',\n",
       " 'No way!\\t¡Imposible!',\n",
       " 'No way!\\t¡De ningún modo!',\n",
       " 'No way!\\t¡De eso nada!',\n",
       " 'No way!\\t¡Ni cagando!',\n",
       " 'No way!\\t¡Mangos!',\n",
       " 'No way!\\t¡Minga!',\n",
       " 'No way!\\t¡Ni en pedo!',\n",
       " 'Really?\\t¿En serio?',\n",
       " 'Really?\\t¿La verdad?',\n",
       " 'Thanks.\\t¡Gracias!',\n",
       " 'Thanks.\\tGracias.',\n",
       " 'Try it.\\tPruébalo.',\n",
       " 'We try.\\tLo procuramos.',\n",
       " 'We won.\\tGanamos.',\n",
       " 'Why me?\\t¿Por qué yo?',\n",
       " 'Ask Tom.\\tPregúntale a Tom.',\n",
       " 'Awesome!\\t¡Órale!',\n",
       " 'Be calm.\\tMantente en calma.',\n",
       " 'Be cool.\\tEstate tranquilo.',\n",
       " 'Be fair.\\tSé justo.',\n",
       " 'Be kind.\\tSean gentiles.',\n",
       " 'Be nice.\\tSé agradable.',\n",
       " 'Beat it.\\tPírate.',\n",
       " 'Call me.\\tLlamame.',\n",
       " 'Call me.\\tLlamadme.',\n",
       " 'Call me.\\tLlámame.',\n",
       " 'Call us.\\tLlámanos.',\n",
       " 'Come in.\\tEntre.',\n",
       " 'Come in.\\tPase.',\n",
       " 'Come in.\\t¡Entren!',\n",
       " 'Come on!\\t¡Órale!',\n",
       " 'Come on.\\tÁndale.',\n",
       " 'Come on.\\t¡Órale!',\n",
       " 'Drop it!\\tSuéltalo.',\n",
       " 'Get Tom.\\tAgarra a Tom.',\n",
       " 'Get out!\\tBájate.',\n",
       " 'Get out.\\tSalte.',\n",
       " 'Get out.\\tSal.',\n",
       " 'Get out.\\tSalí.',\n",
       " 'Get out.\\tSalid.',\n",
       " 'Get out.\\tSalgan.',\n",
       " 'Go away!\\t¡Vete de aquí!',\n",
       " 'Go away!\\t¡Lárgate!']"
      ]
     },
     "execution_count": 8,
     "metadata": {},
     "output_type": "execute_result"
    }
   ],
   "source": [
    "raw[:100]"
   ]
  },
  {
   "cell_type": "markdown",
   "id": "confidential-sharing",
   "metadata": {},
   "source": [
    "#### - \\t 기호를 기준으로 영어와 스페인어가 병렬 쌍을 이루고 있다.\n",
    "- 따라서 \\t 기호를 매개변수로 split()하면 손쉽게 소스 문장과 타겟 문장을 분리할 수 있다.\n",
    "- 중간 i 같은 문자는 불필요한 노이즈로 작용할 수 있으므로 삭제한다.\n",
    "- 사실 스페인에서는 역 물음표(¿)와 역 느낌표(¡)를 일반적으로 사용한다. 문장이 물음표나 느낌표로 끝난다면 해당 문장 맨 앞에 역으로 된 기호를 붙여준다."
   ]
  },
  {
   "cell_type": "code",
   "execution_count": 22,
   "id": "italian-collins",
   "metadata": {},
   "outputs": [],
   "source": [
    "def preprocess_sentence(sentence, s_token=False, e_token=False):\n",
    "    sentence = sentence.lower().strip()\n",
    "    \n",
    "    sentence = re.sub(r\"([?.!,])\", r\"\\1\", sentence)\n",
    "    sentence = re.sub(r'[\"\"]+', \" \", sentence)\n",
    "    sentence = re.sub(r\"[^a-zA-Z?.!,]+\", \" \", sentence)\n",
    "    \n",
    "    sentence = sentence.strip()\n",
    "    \n",
    "    if s_token:\n",
    "        sentence = '<start> ' + sentence\n",
    "    if e_token:\n",
    "        sentence += ' <end>'\n",
    "        \n",
    "    return sentence"
   ]
  },
  {
   "cell_type": "code",
   "execution_count": 23,
   "id": "norman-serial",
   "metadata": {},
   "outputs": [
    {
     "name": "stdout",
     "output_type": "stream",
     "text": [
      "English: go away!\n",
      "Spanish: <start> salga de aqu ! <end>\n"
     ]
    }
   ],
   "source": [
    "enc_corpus = []\n",
    "dec_corpus = []\n",
    "\n",
    "num_examples = 30000\n",
    "\n",
    "for pair in raw[:num_examples]:\n",
    "    eng, spa = pair.split('\\t')\n",
    "    \n",
    "    enc_corpus.append(preprocess_sentence(eng))\n",
    "    dec_corpus.append(preprocess_sentence(spa, s_token=True, e_token=True))\n",
    "    \n",
    "print('English:', enc_corpus[100])\n",
    "print('Spanish:', dec_corpus[100])"
   ]
  },
  {
   "cell_type": "code",
   "execution_count": 24,
   "id": "sonic-broadcast",
   "metadata": {},
   "outputs": [],
   "source": [
    "# 토큰화\n",
    "def tokenize(corpus):\n",
    "    tokenizer = tf.keras.preprocessing.text.Tokenizer(filters='')\n",
    "    tokenizer.fit_on_texts(corpus)\n",
    "    \n",
    "    tensor = tokenizer.texts_to_sequences(corpus)\n",
    "    tensor = tf.keras.preprocessing.sequence.pad_sequences(tensor, padding='post')\n",
    "    \n",
    "    return tensor, tokenizer"
   ]
  },
  {
   "cell_type": "code",
   "execution_count": 25,
   "id": "intellectual-astrology",
   "metadata": {},
   "outputs": [
    {
     "name": "stdout",
     "output_type": "stream",
     "text": [
      "English Vocab Size: 7575\n",
      "Spanish Vocab Size: 12358\n"
     ]
    }
   ],
   "source": [
    "enc_tensor, enc_tokenizer = tokenize(enc_corpus)\n",
    "dec_tensor, dec_tokenizer = tokenize(dec_corpus)\n",
    "\n",
    "enc_train, enc_val, dec_train, dec_val = train_test_split(enc_tensor, dec_tensor, test_size=0.2)\n",
    "\n",
    "print('English Vocab Size:', len(enc_tokenizer.index_word))\n",
    "print('Spanish Vocab Size:', len(dec_tokenizer.index_word))"
   ]
  },
  {
   "cell_type": "markdown",
   "id": "spare-friendly",
   "metadata": {},
   "source": [
    "## 모델 설계\n",
    "\n",
    "- Encoder는 모든 time-step의 hidden state를 출력으로 갖고, Decoder는 Encoder의 출력과 Decoder의 t-1 step의 hidden state로 Attention을 취해 t step의 hidden state를 만들어 낸다.\n",
    "- Decoder에서 t step의 단어로 예측된 것을 실제 정답과 대조해 loss를 구하고, 생성된 t step의 hidden state는 t+1 step의 hidden state를 만들기 위해 다시 Decoder에 전달된다.\n",
    "- t=1일 때의 hidden state는 Encoder의 final state를 사용한다.\n",
    "- Attention은 Bahdanau를 사용한다.\n",
    "\n",
    "![image](https://user-images.githubusercontent.com/80008411/137627395-957a995e-70ae-465f-8a00-99f8b329861f.png)\n"
   ]
  },
  {
   "cell_type": "code",
   "execution_count": 26,
   "id": "linear-donna",
   "metadata": {},
   "outputs": [],
   "source": [
    "class BahdanauAttention(tf.keras.layers.Layer):\n",
    "    def __init__(self, units):\n",
    "        super(BahdanauAttention, self).__init__()\n",
    "        self.w_dec = tf.keras.layers.Dense(units)\n",
    "        self.w_enc = tf.keras.layers.Dense(units)\n",
    "        self.w_com = tf.keras.layers.Dense(1)\n",
    "    \n",
    "    def call(self, h_enc, h_dec):\n",
    "        # h_enc shape: [batch x length x units]\n",
    "        # h_dec shape: [batch x units]\n",
    "\n",
    "        h_enc = self.w_enc(h_enc)\n",
    "        h_dec = tf.expand_dims(h_dec, 1)\n",
    "        h_dec = self.w_dec(h_dec)\n",
    "\n",
    "        score = self.w_com(tf.nn.tanh(h_dec + h_enc))\n",
    "        \n",
    "        attn = tf.nn.softmax(score, axis=1)\n",
    "\n",
    "        context_vec = attn * h_enc\n",
    "        context_vec = tf.reduce_sum(context_vec, axis=1)\n",
    "\n",
    "        return context_vec, attn"
   ]
  },
  {
   "cell_type": "code",
   "execution_count": 27,
   "id": "united-partner",
   "metadata": {},
   "outputs": [],
   "source": [
    "class Encoder(tf.keras.Model):\n",
    "    def __init__(self, vocab_size, embedding_dim, enc_units):\n",
    "        super(Encoder, self).__init__()\n",
    "        \n",
    "        self.enc_units = enc_units\n",
    "        self.embedding = tf.keras.layers.Embedding(vocab_size, embedding_dim)\n",
    "        self.gru = tf.keras.layers.GRU(enc_units, return_sequences=True)\n",
    "        \n",
    "    def call(self, x):\n",
    "        out = self.embedding(x)\n",
    "        out = self.gru(out)\n",
    "        \n",
    "        return out"
   ]
  },
  {
   "cell_type": "code",
   "execution_count": 28,
   "id": "legendary-young",
   "metadata": {},
   "outputs": [],
   "source": [
    "class Decoder(tf.keras.Model):\n",
    "    def __init__(self, vocab_size, embedding_dim, dec_units):\n",
    "        super(Decoder, self).__init__()\n",
    "        self.dec_units = dec_units\n",
    "        self.embedding = tf.keras.layers.Embedding(vocab_size, embedding_dim)\n",
    "        self.gru = tf.keras.layers.GRU(dec_units,\n",
    "                                       return_sequences=True,\n",
    "                                       return_state=True)\n",
    "        self.fc = tf.keras.layers.Dense(vocab_size)\n",
    "\n",
    "        self.attention = BahdanauAttention(self.dec_units)\n",
    "\n",
    "    def call(self, x, h_dec, enc_out):\n",
    "        context_vec, attn = self.attention(enc_out, h_dec)\n",
    "\n",
    "        out = self.embedding(x)\n",
    "        out = tf.concat([tf.expand_dims(context_vec, 1), out], axis=-1)\n",
    "        \n",
    "        out, h_dec = self.gru(out)\n",
    "        out = tf.reshape(out, (-1, out.shape[2]))\n",
    "        out = self.fc(out)\n",
    "\n",
    "        return out, h_dec, attn"
   ]
  },
  {
   "cell_type": "code",
   "execution_count": 29,
   "id": "domestic-complex",
   "metadata": {},
   "outputs": [
    {
     "name": "stdout",
     "output_type": "stream",
     "text": [
      "Encoder Output: (64, 30, 1024)\n",
      "Decoder Output: (64, 12359)\n",
      "Decoder Hidden State: (64, 1024)\n",
      "Attention: (64, 30, 1)\n"
     ]
    }
   ],
   "source": [
    "BATCH_SIZE = 64\n",
    "SRC_VOCAB_SIZE = len(enc_tokenizer.index_word) + 1\n",
    "TGT_VOCAB_SIZE = len(dec_tokenizer.index_word) + 1\n",
    "\n",
    "units = 1024\n",
    "embedding_dim = 512\n",
    "\n",
    "encoder = Encoder(SRC_VOCAB_SIZE, embedding_dim, units)\n",
    "decoder = Decoder(TGT_VOCAB_SIZE, embedding_dim, units)\n",
    "\n",
    "# sample input\n",
    "sequence_len = 30\n",
    "\n",
    "sample_enc = tf.random.uniform((BATCH_SIZE, sequence_len))\n",
    "sample_output = encoder(sample_enc)\n",
    "\n",
    "print('Encoder Output:', sample_output.shape)\n",
    "\n",
    "sample_state = tf.random.uniform((BATCH_SIZE, units))\n",
    "\n",
    "sample_logits, h_dec, attn = decoder(tf.random.uniform((BATCH_SIZE, 1)), sample_state, sample_output)\n",
    "\n",
    "print ('Decoder Output:', sample_logits.shape)\n",
    "print ('Decoder Hidden State:', h_dec.shape)\n",
    "print ('Attention:', attn.shape)"
   ]
  },
  {
   "cell_type": "markdown",
   "id": "supported-woman",
   "metadata": {},
   "source": [
    "## 모델 훈련 1) Optimizer & Loss\n",
    "\n",
    "- Encoder-Decoder 구조의 경우 입출력이 단순하지 않아서 fit() 함수로 학습할 수 없고, 학습 과정을 직접 정의해줘야 한다.\n",
    "- 구체적으로 인코더-디코더 구조는 학습 과정이 일반적이지 않아서 직접 Loss를 커스텀해야 하기 때문이다.\n",
    "- SparseCategoricalCrossentropy() 함수는 모델이 출력한 확률 분포와 정수 인덱스 답안을 비교해 cross entropy 값을 구해준다.\n",
    "- CategoricalCrossentropy()라면 [ 0.1, 0.2, 0.7 ] 과 One-hot 인코딩된 라벨 [0, 0, 1] 을 비교하여 점수를 채점하겠지만, SparseCategoricalCrossentropy() 함수라면 [ 0.1, 0.2, 0.7 ] 과 정수 인덱스 답안 2 를 비교하여 점수를 채점한다.\n",
    "- from_logits 는 확률 분포가 Softmax를 거쳐서 들어오는지, 모델의 출력값 그대로 들어오는지를 결정한다. True는 모델의 출력값을 그대로 전달한다.\n",
    "- equal() 함수에 정확히는 0 이 아닌 \\<PAD> 토큰의 인덱스를 전달하는 것이 맞지만 대부분의 경우는 0으로 패딩되기 때문에 편의상 0을 전달하여 처리한다.\n",
    "- 모델에게 \\<PAD> 토큰이 패딩을 위한 토큰이라고 명시하지 않으면 모델은 데이터의 굉장히 많은 부분이 \\<PAD> 로 이뤄져 있다고 생각하기 때문에 이 과정은 중요하다."
   ]
  },
  {
   "cell_type": "code",
   "execution_count": 30,
   "id": "express-distribution",
   "metadata": {},
   "outputs": [],
   "source": [
    "optimizer = tf.keras.optimizers.Adam()\n",
    "loss_object = tf.keras.losses.SparseCategoricalCrossentropy(from_logits=True, reduction='none')\n",
    "\n",
    "def loss_function(real, pred):\n",
    "    mask = tf.math.logical_not(tf.math.equal(real, 0))\n",
    "    loss = loss_object(real, pred)\n",
    "    \n",
    "    mask = tf.cast(mask, dtype=loss.dtype)\n",
    "    loss *= mask\n",
    "    \n",
    "    return tf.reduce_mean(loss)"
   ]
  },
  {
   "cell_type": "markdown",
   "id": "promotional-indian",
   "metadata": {},
   "source": [
    "## 모델 훈련 2) train_step 구현\n",
    "\n",
    "- train_step()은 학습에 필요한 것을 모두 가져가 Loss를 계산한 후 반환하는 함수이다. 학습 과정은 다음과 같다.\n",
    "    - 1) Encoder에 소스 문장을 전달해 context vector인 enc_out을 생성\n",
    "    - 2) t=0일 때, Decoder의 hidden state는 Encoder의 final state로 정의 # h_dec = enc_out[:, -1]\n",
    "    - 3) Decoder에 입력으로 전달할 \\<start> 토큰 문장 생성\n",
    "    - 4) \\<start> 문장과 enc_out, hidden state를 기반으로 다음 단어(t=1) 예측 # pred\n",
    "    - 5) 예측된 단어와 정답 간의 loss를 구한 후, t=1의 정답 단어를 다음 입력으로 사용(예측 단어 X)\n",
    "    - 6) 반복\n",
    "- @tf.function 데코레이터는 훈련 외적인 텐서플로우 연산을 GPU에서 동작하게 해서 훈련을 가속할 수 있도록 도와준다.\n",
    "    - 첫 번째 epoch이 다른 epoch보다 약간 시간이 더 걸리는 것은 데코레이터가 붙은 함수를 GPU에 등록하는 과정이 포함되기 때문\n",
    "    - 실제로 @tf.function을 제거할 경우, epoch당 1.5 ~ 2배 이상 더 많은 시간이 소요된다.\n",
    "- tf.GradientTape()는 학습하며 발생한 모든 연산을 기록하는 테이프\n",
    "    - 모델이 각 스텝의 최종 단계에서 미분값을 구하는 데에 사용된다."
   ]
  },
  {
   "cell_type": "code",
   "execution_count": 33,
   "id": "recovered-rebel",
   "metadata": {},
   "outputs": [],
   "source": [
    "@tf.function\n",
    "def train_step(src, tgt, encoder, decoder, optimizer, dec_tok):\n",
    "    bsz = src.shape[0]\n",
    "    loss = 0\n",
    "    \n",
    "    with tf.GradientTape() as tape:\n",
    "        enc_out = encoder(src)\n",
    "        h_dec = enc_out[:, -1]\n",
    "        \n",
    "        dec_src = tf.expand_dims([dec_tok.word_index['<start>']]*bsz, 1)\n",
    "        \n",
    "        for t in range(1, tgt.shape[1]):\n",
    "            pred, h_dec, _ = decoder(dec_src, h_dec, enc_out)\n",
    "            \n",
    "            loss += loss_function(tgt[:, t], pred)\n",
    "            dec_src = tf.expand_dims(tgt[:, t], 1)\n",
    "            \n",
    "        batch_loss = (loss/int(tgt.shape[1]))\n",
    "        \n",
    "        variables = encoder.trainable_variables + decoder.trainable_variables\n",
    "        gradients = tape.gradient(loss, variables)\n",
    "        optimizer.apply_gradients(zip(gradients, variables))\n",
    "        \n",
    "        return batch_loss"
   ]
  },
  {
   "cell_type": "markdown",
   "id": "underlying-medline",
   "metadata": {},
   "source": [
    "## 모델 훈련 3) 시작"
   ]
  },
  {
   "cell_type": "code",
   "execution_count": 34,
   "id": "actual-restoration",
   "metadata": {},
   "outputs": [
    {
     "name": "stderr",
     "output_type": "stream",
     "text": [
      "Epoch  1: 100%|██████████| 375/375 [02:01<00:00,  3.08it/s, Loss 1.5414]\n",
      "Epoch  2: 100%|██████████| 375/375 [01:42<00:00,  3.68it/s, Loss 0.9973]\n",
      "Epoch  3: 100%|██████████| 375/375 [01:42<00:00,  3.65it/s, Loss 0.7091]\n",
      "Epoch  4: 100%|██████████| 375/375 [01:42<00:00,  3.65it/s, Loss 0.5071]\n",
      "Epoch  5: 100%|██████████| 375/375 [01:41<00:00,  3.68it/s, Loss 0.3692]\n",
      "Epoch  6: 100%|██████████| 375/375 [01:42<00:00,  3.67it/s, Loss 0.2832]\n",
      "Epoch  7: 100%|██████████| 375/375 [01:43<00:00,  3.63it/s, Loss 0.2234]\n",
      "Epoch  8: 100%|██████████| 375/375 [01:42<00:00,  3.67it/s, Loss 0.1873]\n",
      "Epoch  9: 100%|██████████| 375/375 [01:42<00:00,  3.66it/s, Loss 0.1652]\n",
      "Epoch 10: 100%|██████████| 375/375 [01:42<00:00,  3.65it/s, Loss 0.1486]\n"
     ]
    }
   ],
   "source": [
    "EPOCHS = 10\n",
    "\n",
    "for epoch in range(EPOCHS):\n",
    "    total_loss = 0\n",
    "    \n",
    "    idx_list = list(range(0, enc_train.shape[0], BATCH_SIZE))\n",
    "    random.shuffle(idx_list)\n",
    "    t = tqdm(idx_list)    # tqdm\n",
    "\n",
    "    for (batch, idx) in enumerate(t):\n",
    "        batch_loss = train_step(enc_train[idx:idx+BATCH_SIZE],\n",
    "                                dec_train[idx:idx+BATCH_SIZE],\n",
    "                                encoder,\n",
    "                                decoder,\n",
    "                                optimizer,\n",
    "                                dec_tokenizer)\n",
    "    \n",
    "        total_loss += batch_loss\n",
    "        \n",
    "        t.set_description_str('Epoch %2d' % (epoch + 1))    # tqdm\n",
    "        t.set_postfix_str('Loss %.4f' % (total_loss.numpy() / (batch + 1)))    # tqdm"
   ]
  },
  {
   "cell_type": "markdown",
   "id": "empty-saturday",
   "metadata": {},
   "source": [
    "## 실습\n",
    "\n",
    "- eval_step() 함수 정의\n",
    "    - step 1에서 분리한 validation set을 사용하는 함수\n",
    "    - train_step()을 마친 후 이어서 eval_step()을 진행하도록 수정하기\n",
    "    - evaluation 중에는 train이 되면 안 된다."
   ]
  },
  {
   "cell_type": "code",
   "execution_count": 35,
   "id": "divine-plaza",
   "metadata": {},
   "outputs": [],
   "source": [
    "# gradient, optimizer 부분만 없고 train_step()과 동일\n",
    "@tf.function\n",
    "def eval_step(src, tgt, encoder, decoder, dec_tok):\n",
    "    bsz = src.shape[0]\n",
    "    loss = 0\n",
    "\n",
    "    enc_out = encoder(src)\n",
    "    h_dec = enc_out[:, -1]\n",
    "\n",
    "    dec_src = tf.expand_dims([dec_tok.word_index['<start>']]*bsz, 1)\n",
    "\n",
    "    for t in range(1, tgt.shape[1]):\n",
    "        pred, h_dec, _ = decoder(dec_src, h_dec, enc_out)\n",
    "\n",
    "        loss += loss_function(tgt[:, t], pred)\n",
    "        dec_src = tf.expand_dims(tgt[:, t], 1)\n",
    "\n",
    "    batch_loss = (loss/int(tgt.shape[1]))\n",
    "\n",
    "    return batch_loss"
   ]
  },
  {
   "cell_type": "code",
   "execution_count": 37,
   "id": "upper-vertex",
   "metadata": {},
   "outputs": [
    {
     "name": "stderr",
     "output_type": "stream",
     "text": [
      "Epoch  1: 100%|██████████| 375/375 [01:42<00:00,  3.67it/s, Loss 0.1270]\n",
      "Test Epoch  1: 100%|██████████| 94/94 [00:19<00:00,  4.77it/s, Test Loss 0.9559]\n",
      "Epoch  2: 100%|██████████| 375/375 [01:42<00:00,  3.65it/s, Loss 0.1203]\n",
      "Test Epoch  2: 100%|██████████| 94/94 [00:08<00:00, 10.49it/s, Test Loss 0.9523]\n",
      "Epoch  3: 100%|██████████| 375/375 [01:42<00:00,  3.65it/s, Loss 0.1146]\n",
      "Test Epoch  3: 100%|██████████| 94/94 [00:08<00:00, 10.48it/s, Test Loss 0.9902]\n",
      "Epoch  4: 100%|██████████| 375/375 [01:42<00:00,  3.66it/s, Loss 0.1110]\n",
      "Test Epoch  4: 100%|██████████| 94/94 [00:08<00:00, 10.47it/s, Test Loss 0.9876]\n",
      "Epoch  5: 100%|██████████| 375/375 [01:42<00:00,  3.66it/s, Loss 0.1065]\n",
      "Test Epoch  5: 100%|██████████| 94/94 [00:08<00:00, 10.49it/s, Test Loss 0.9918]\n",
      "Epoch  6: 100%|██████████| 375/375 [01:42<00:00,  3.66it/s, Loss 0.1032]\n",
      "Test Epoch  6: 100%|██████████| 94/94 [00:08<00:00, 10.47it/s, Test Loss 1.0179]\n",
      "Epoch  7: 100%|██████████| 375/375 [01:43<00:00,  3.63it/s, Loss 0.1006]\n",
      "Test Epoch  7: 100%|██████████| 94/94 [00:08<00:00, 10.46it/s, Test Loss 1.0287]\n",
      "Epoch  8: 100%|██████████| 375/375 [01:42<00:00,  3.67it/s, Loss 0.0974]\n",
      "Test Epoch  8: 100%|██████████| 94/94 [00:08<00:00, 10.49it/s, Test Loss 1.0473]\n",
      "Epoch  9: 100%|██████████| 375/375 [01:42<00:00,  3.66it/s, Loss 0.0953]\n",
      "Test Epoch  9: 100%|██████████| 94/94 [00:08<00:00, 10.50it/s, Test Loss 1.0442]\n",
      "Epoch 10: 100%|██████████| 375/375 [01:43<00:00,  3.63it/s, Loss 0.0908]\n",
      "Test Epoch 10: 100%|██████████| 94/94 [00:08<00:00, 10.46it/s, Test Loss 1.0572]\n"
     ]
    }
   ],
   "source": [
    "EPOCHS = 10\n",
    "\n",
    "for epoch in range(EPOCHS):\n",
    "    # train\n",
    "    total_loss = 0\n",
    "    \n",
    "    idx_list = list(range(0, enc_train.shape[0], BATCH_SIZE))\n",
    "    random.shuffle(idx_list)\n",
    "    t = tqdm(idx_list)    # tqdm\n",
    "\n",
    "    for (batch, idx) in enumerate(t):\n",
    "        batch_loss = train_step(enc_train[idx:idx+BATCH_SIZE],\n",
    "                                dec_train[idx:idx+BATCH_SIZE],\n",
    "                                encoder,\n",
    "                                decoder,\n",
    "                                optimizer,\n",
    "                                dec_tokenizer)\n",
    "    \n",
    "        total_loss += batch_loss\n",
    "        \n",
    "        t.set_description_str('Epoch %2d' % (epoch + 1))    # tqdm\n",
    "        t.set_postfix_str('Loss %.4f' % (total_loss.numpy() / (batch + 1)))    # tqdm\n",
    "    \n",
    "    # evaluation\n",
    "    test_loss = 0\n",
    "    \n",
    "    idx_list = list(range(0, enc_val.shape[0], BATCH_SIZE))\n",
    "    random.shuffle(idx_list)\n",
    "    t = tqdm(idx_list)\n",
    "    \n",
    "    for (test_batch, idx) in enumerate(t):\n",
    "        test_batch_loss = eval_step(enc_val[idx:idx+BATCH_SIZE],\n",
    "                                   dec_val[idx:idx+BATCH_SIZE],\n",
    "                                   encoder,\n",
    "    https://8888-wwnzlh3gj0udj7zuvm97u1n28.e.aiffel-3.ainetwork.ai/notebooks/aiffel/aiffel_projects/goingdeeper/GD8_s2s_translation/GD8_seq2seq_translator.ipynb#                               decoder,\n",
    "                                   dec_tokenizer)\n",
    "        test_loss += test_batch_loss\n",
    "        \n",
    "        t.set_description_str('Test Epoch %2d' %(epoch+1))\n",
    "        t.set_postfix_str('Test Loss %.4f' %(test_loss.numpy() / (test_batch+1)))"
   ]
  },
  {
   "cell_type": "code",
   "execution_count": 38,
   "id": "impressive-property",
   "metadata": {},
   "outputs": [
    {
     "name": "stdout",
     "output_type": "stream",
     "text": [
      "Input: can i have some coffee?\n",
      "Predicted translation: me concedes algo de comer. <end> \n"
     ]
    },
    {
     "name": "stderr",
     "output_type": "stream",
     "text": [
      "/opt/conda/lib/python3.7/site-packages/ipykernel_launcher.py:45: UserWarning: FixedFormatter should only be used together with FixedLocator\n",
      "/opt/conda/lib/python3.7/site-packages/ipykernel_launcher.py:46: UserWarning: FixedFormatter should only be used together with FixedLocator\n"
     ]
    },
    {
     "data": {
      "image/png": "[encoded data removed]",
      "text/plain": [
       "<Figure size 720x720 with 1 Axes>"
      ]
     },
     "metadata": {
      "image/png": {
       "height": 617,
       "width": 535
      },
      "needs_background": "light"
     },
     "output_type": "display_data"
    }
   ],
   "source": [
    "# 번역 성능 평가하는 함수\n",
    "# 보너스로 attention map 시각화\n",
    "def evaluate(sentence, encoder, decoder):\n",
    "    attention = np.zeros((dec_train.shape[-1], enc_train.shape[-1]))\n",
    "    \n",
    "    sentence = preprocess_sentence(sentence)\n",
    "    inputs = enc_tokenizer.texts_to_sequences([sentence.split()])\n",
    "    inputs = tf.keras.preprocessing.sequence.pad_sequences(inputs, maxlen=enc_train.shape[-1],\n",
    "                                                          padding='post')\n",
    "    \n",
    "    result = ''\n",
    "    \n",
    "    enc_out = encoder(inputs)\n",
    "    \n",
    "    dec_hidden = enc_out[:, -1]\n",
    "    dec_input = tf.expand_dims([dec_tokenizer.word_index['<start>']], 0)\n",
    "    \n",
    "    for t in range(dec_train.shape[-1]):\n",
    "        predictions, dec_hidden, attention_weights = decoder(dec_input,\n",
    "                                                            dec_hidden,\n",
    "                                                            enc_out)\n",
    "        attention_weights = tf.reshape(attention_weights, (-1))\n",
    "        attention[t] = attention_weights.numpy()\n",
    "        \n",
    "        predicted_id = \\\n",
    "        tf.argmax(tf.math.softmax(predictions, axis=-1)[0]).numpy()\n",
    "        \n",
    "        result += dec_tokenizer.index_word[predicted_id] + ' '\n",
    "\n",
    "        if dec_tokenizer.index_word[predicted_id] == '<end>':\n",
    "            return result, sentence, attention\n",
    "\n",
    "        dec_input = tf.expand_dims([predicted_id], 0)\n",
    "\n",
    "    return result, sentence, attention\n",
    "\n",
    "\n",
    "def plot_attention(attention, sentence, predicted_sentence):\n",
    "    fig = plt.figure(figsize=(10,10))\n",
    "    ax = fig.add_subplot(1, 1, 1)\n",
    "    ax.matshow(attention, cmap='viridis')\n",
    "\n",
    "    fontdict = {'fontsize': 14}\n",
    "\n",
    "    ax.set_xticklabels([''] + sentence, fontdict=fontdict, rotation=90)\n",
    "    ax.set_yticklabels([''] + predicted_sentence, fontdict=fontdict)\n",
    "\n",
    "    ax.xaxis.set_major_locator(ticker.MultipleLocator(1))\n",
    "    ax.yaxis.set_major_locator(ticker.MultipleLocator(1))\n",
    "\n",
    "    plt.show()\n",
    "\n",
    "\n",
    "def translate(sentence, encoder, decoder):\n",
    "    result, sentence, attention = evaluate(sentence, encoder, decoder)\n",
    "\n",
    "    print('Input: %s' % (sentence))\n",
    "    print('Predicted translation: {}'.format(result))\n",
    "    \n",
    "    attention = attention[:len(result.split()), :len(sentence.split())]\n",
    "    plot_attention(attention, sentence.split(), result.split(' '))\n",
    "\n",
    "\n",
    "translate(\"Can I have some coffee?\", encoder, decoder)"
   ]
  },
  {
   "cell_type": "code",
   "execution_count": null,
   "id": "increasing-spyware",
   "metadata": {},
   "outputs": [],
   "source": []
  },
  {
   "cell_type": "code",
   "execution_count": null,
   "id": "following-southwest",
   "metadata": {},
   "outputs": [],
   "source": []
  },
  {
   "cell_type": "code",
   "execution_count": null,
   "id": "embedded-algeria",
   "metadata": {},
   "outputs": [],
   "source": []
  },
  {
   "cell_type": "code",
   "execution_count": null,
   "id": "bottom-structure",
   "metadata": {},
   "outputs": [],
   "source": []
  }
 ],
 "metadata": {
  "kernelspec": {
   "display_name": "Python 3",
   "language": "python",
   "name": "python3"
  },
  "language_info": {
   "codemirror_mode": {
    "name": "ipython",
    "version": 3
   },
   "file_extension": ".py",
   "mimetype": "text/x-python",
   "name": "python",
   "nbconvert_exporter": "python",
   "pygments_lexer": "ipython3",
   "version": "3.7.9"
  }
 },
 "nbformat": 4,
 "nbformat_minor": 5
}
