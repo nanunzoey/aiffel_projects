{
 "cells": [
  {
   "cell_type": "markdown",
   "id": "suspended-civilization",
   "metadata": {},
   "source": [
    "# 뉴스 카테고리 다중 분류\n",
    "\n",
    "#### 목표\n",
    "\n",
    "1. Vocabulary Size 변경해서 성능 비교하기\n",
    "2. 다양한 모델 사용해서 성능 비교하기\n",
    "\n",
    "#### 목차\n",
    "\n",
    "1. [모든 단어 사용하기](#모든-단어-사용하기)\n",
    "\n",
    "<hr>"
   ]
  },
  {
   "cell_type": "code",
   "execution_count": 126,
   "id": "protective-calibration",
   "metadata": {},
   "outputs": [],
   "source": [
    "import os\n",
    "\n",
    "import numpy as np\n",
    "import pandas as pd\n",
    "import seaborn as sns\n",
    "import matplotlib.pyplot as plt\n",
    "%matplotlib inline\n",
    "\n",
    "from tensorflow.keras.datasets import reuters\n",
    "\n",
    "import tensorflow as tf\n",
    "from tensorflow.keras.preprocessing.sequence import pad_sequences\n",
    "from tensorflow.keras.utils import to_categorical\n",
    "from tensorflow.keras.models import Sequential, load_model\n",
    "from tensorflow.keras.layers import Embedding, Dense, LSTM\n",
    "from tensorflow.keras.layers import Dropout\n",
    "from tensorflow.keras.callbacks import EarlyStopping, ModelCheckpoint\n",
    "\n",
    "from sklearn.feature_extraction.text import CountVectorizer\n",
    "from sklearn.feature_extraction.text import TfidfTransformer\n",
    "\n",
    "from sklearn.naive_bayes import MultinomialNB #다항분포 나이브 베이즈 모델\n",
    "from sklearn.linear_model import LogisticRegression, SGDClassifier\n",
    "from sklearn.naive_bayes import ComplementNB\n",
    "from sklearn.tree import DecisionTreeClassifier\n",
    "from sklearn.ensemble import RandomForestClassifier\n",
    "from sklearn.ensemble import GradientBoostingClassifier\n",
    "from sklearn.ensemble import VotingClassifier\n",
    "from sklearn.svm import LinearSVC\n",
    "from sklearn.metrics import accuracy_score #정확도 계산"
   ]
  },
  {
   "cell_type": "markdown",
   "id": "environmental-budapest",
   "metadata": {},
   "source": [
    "## 1. 모든 단어 사용하기"
   ]
  },
  {
   "cell_type": "code",
   "execution_count": 2,
   "id": "sharing-administration",
   "metadata": {},
   "outputs": [
    {
     "name": "stderr",
     "output_type": "stream",
     "text": [
      "/opt/conda/lib/python3.7/site-packages/tensorflow/python/keras/datasets/reuters.py:148: VisibleDeprecationWarning: Creating an ndarray from ragged nested sequences (which is a list-or-tuple of lists-or-tuples-or ndarrays with different lengths or shapes) is deprecated. If you meant to do this, you must specify 'dtype=object' when creating the ndarray\n",
      "  x_train, y_train = np.array(xs[:idx]), np.array(labels[:idx])\n",
      "/opt/conda/lib/python3.7/site-packages/tensorflow/python/keras/datasets/reuters.py:149: VisibleDeprecationWarning: Creating an ndarray from ragged nested sequences (which is a list-or-tuple of lists-or-tuples-or ndarrays with different lengths or shapes) is deprecated. If you meant to do this, you must specify 'dtype=object' when creating the ndarray\n",
      "  x_test, y_test = np.array(xs[idx:]), np.array(labels[idx:])\n"
     ]
    }
   ],
   "source": [
    "(x_train, y_train), (x_test, y_test) = reuters.load_data(num_words=None, test_split=0.2)"
   ]
  },
  {
   "cell_type": "code",
   "execution_count": 3,
   "id": "official-server",
   "metadata": {},
   "outputs": [
    {
     "name": "stdout",
     "output_type": "stream",
     "text": [
      "훈련 샘플의 수: 8982\n",
      "테스트 샘플의 수: 2246\n"
     ]
    }
   ],
   "source": [
    "print('훈련 샘플의 수: {}'.format(len(x_train)))\n",
    "print('테스트 샘플의 수: {}'.format(len(x_test)))"
   ]
  },
  {
   "cell_type": "code",
   "execution_count": 4,
   "id": "rapid-paper",
   "metadata": {},
   "outputs": [
    {
     "name": "stdout",
     "output_type": "stream",
     "text": [
      "클래스의 수 : 46\n"
     ]
    }
   ],
   "source": [
    "num_classes = max(y_train) + 1\n",
    "print('클래스의 수 : {}'.format(num_classes))"
   ]
  },
  {
   "cell_type": "markdown",
   "id": "fitted-arrangement",
   "metadata": {},
   "source": [
    "#### - 데이터 분포 확인"
   ]
  },
  {
   "cell_type": "code",
   "execution_count": 5,
   "id": "little-optics",
   "metadata": {},
   "outputs": [
    {
     "name": "stdout",
     "output_type": "stream",
     "text": [
      "훈련용 뉴스의 최대 길이 :2376\n",
      "훈련용 뉴스의 평균 길이 :145.5398574927633\n"
     ]
    },
    {
     "data": {
      "image/png": "[encoded data removed]",
      "text/plain": [
       "<Figure size 432x288 with 1 Axes>"
      ]
     },
     "metadata": {
      "needs_background": "light"
     },
     "output_type": "display_data"
    }
   ],
   "source": [
    "# 뉴스 길이 분포 확인\n",
    "print('훈련용 뉴스의 최대 길이 :{}'.format(max(len(l) for l in x_train)))\n",
    "print('훈련용 뉴스의 평균 길이 :{}'.format(sum(map(len, x_train))/len(x_train)))\n",
    "\n",
    "plt.hist([len(s) for s in x_train], bins=100)\n",
    "plt.xlabel('length of samples')\n",
    "plt.ylabel('number of samples')\n",
    "plt.show()"
   ]
  },
  {
   "cell_type": "code",
   "execution_count": 6,
   "id": "overall-residence",
   "metadata": {},
   "outputs": [
    {
     "data": {
      "image/png": "[encoded data removed]",
      "text/plain": [
       "<Figure size 792x360 with 1 Axes>"
      ]
     },
     "metadata": {
      "needs_background": "light"
     },
     "output_type": "display_data"
    }
   ],
   "source": [
    "# 클래스 분포 확인\n",
    "fig, axe = plt.subplots(ncols=1)\n",
    "fig.set_size_inches(11,5)\n",
    "sns.countplot(x=y_train)\n",
    "plt.show()"
   ]
  },
  {
   "cell_type": "markdown",
   "id": "serial-secretariat",
   "metadata": {},
   "source": [
    "#### - 원본 뉴스 데이터로 복원"
   ]
  },
  {
   "cell_type": "code",
   "execution_count": 7,
   "id": "abstract-columbia",
   "metadata": {},
   "outputs": [],
   "source": [
    "word_index = reuters.get_word_index(path='reuters_word_index.json')"
   ]
  },
  {
   "cell_type": "code",
   "execution_count": 8,
   "id": "informed-processing",
   "metadata": {},
   "outputs": [],
   "source": [
    "index_word = {index+3: word for word, index in word_index.items()}"
   ]
  },
  {
   "cell_type": "code",
   "execution_count": 9,
   "id": "christian-liverpool",
   "metadata": {},
   "outputs": [],
   "source": [
    "# index_word에 숫자 0은 <pad>, 숫자 1은 <sos>, 숫자 2는 <unk>를 넣어줍니다.\n",
    "for index, token in enumerate((\"<pad>\", \"<sos>\", \"<unk>\")):\n",
    "    index_word[index] = token"
   ]
  },
  {
   "cell_type": "code",
   "execution_count": 10,
   "id": "polished-jefferson",
   "metadata": {},
   "outputs": [
    {
     "name": "stdout",
     "output_type": "stream",
     "text": [
      "<sos> mcgrath rentcorp said as a result of its december acquisition of space co it expects earnings per share in 1987 of 1 15 to 1 30 dlrs per share up from 70 cts in 1986 the company said pretax net should rise to nine to 10 mln dlrs from six mln dlrs in 1986 and rental operation revenues to 19 to 22 mln dlrs from 12 5 mln dlrs it said cash flow per share this year should be 2 50 to three dlrs reuter 3\n"
     ]
    }
   ],
   "source": [
    "# 뉴스 텍스트 복원\n",
    "print(' '.join([index_word[index] for index in x_train[0]]))"
   ]
  },
  {
   "cell_type": "code",
   "execution_count": 11,
   "id": "endangered-village",
   "metadata": {},
   "outputs": [
    {
     "name": "stdout",
     "output_type": "stream",
     "text": [
      "8982\n"
     ]
    }
   ],
   "source": [
    "# 훈련용 데이터 복원\n",
    "decoded = []\n",
    "for i in range(len(x_train)):\n",
    "    t = ' '.join([index_word[index] for index in x_train[i]])\n",
    "    decoded.append(t)\n",
    "    \n",
    "x_train = decoded\n",
    "print(len(x_train))"
   ]
  },
  {
   "cell_type": "code",
   "execution_count": 12,
   "id": "handmade-stock",
   "metadata": {},
   "outputs": [
    {
     "name": "stdout",
     "output_type": "stream",
     "text": [
      "2246\n"
     ]
    }
   ],
   "source": [
    "# 테스트용 데이터 복원\n",
    "decoded = []\n",
    "for i in range(len(x_test)):\n",
    "    t = ' '.join([index_word[index] for index in x_test[i]])\n",
    "    decoded.append(t)\n",
    "\n",
    "x_test = decoded\n",
    "print(len(x_test))"
   ]
  },
  {
   "cell_type": "markdown",
   "id": "guided-custody",
   "metadata": {},
   "source": [
    "#### - 벡터화"
   ]
  },
  {
   "cell_type": "code",
   "execution_count": 13,
   "id": "patient-democrat",
   "metadata": {},
   "outputs": [
    {
     "name": "stdout",
     "output_type": "stream",
     "text": [
      "(8982, 26506)\n"
     ]
    }
   ],
   "source": [
    "dtmvector = CountVectorizer()\n",
    "x_train_dtm = dtmvector.fit_transform(x_train)\n",
    "\n",
    "# DTM 자체 규칙에 따라 불필요하다고 판단된 토큰들이 제거됨\n",
    "print(x_train_dtm.shape)"
   ]
  },
  {
   "cell_type": "code",
   "execution_count": 14,
   "id": "scheduled-technology",
   "metadata": {},
   "outputs": [
    {
     "name": "stdout",
     "output_type": "stream",
     "text": [
      "(8982, 26506)\n"
     ]
    }
   ],
   "source": [
    "tfidf_transformer = TfidfTransformer()\n",
    "tfidfv = tfidf_transformer.fit_transform(x_train_dtm)\n",
    "\n",
    "print(tfidfv.shape)"
   ]
  },
  {
   "cell_type": "code",
   "execution_count": 15,
   "id": "other-packing",
   "metadata": {},
   "outputs": [],
   "source": [
    "x_test_dtm = dtmvector.transform(x_test) #테스트 데이터를 DTM으로 변환\n",
    "tfidfv_test = tfidf_transformer.transform(x_test_dtm) #DTM을 TF-IDF 행렬로 변환"
   ]
  },
  {
   "cell_type": "markdown",
   "id": "printable-emphasis",
   "metadata": {},
   "source": [
    "#### - 모델 학습 및 예측"
   ]
  },
  {
   "cell_type": "code",
   "execution_count": 16,
   "id": "recorded-question",
   "metadata": {},
   "outputs": [
    {
     "name": "stderr",
     "output_type": "stream",
     "text": [
      "/opt/conda/lib/python3.7/site-packages/sklearn/linear_model/_logistic.py:762: ConvergenceWarning: lbfgs failed to converge (status=1):\n",
      "STOP: TOTAL NO. of ITERATIONS REACHED LIMIT.\n",
      "\n",
      "Increase the number of iterations (max_iter) or scale the data as shown in:\n",
      "    https://scikit-learn.org/stable/modules/preprocessing.html\n",
      "Please also refer to the documentation for alternative solver options:\n",
      "    https://scikit-learn.org/stable/modules/linear_model.html#logistic-regression\n",
      "  extra_warning_msg=_LOGISTIC_SOLVER_CONVERGENCE_MSG)\n"
     ]
    },
    {
     "data": {
      "text/plain": [
       "LogisticRegression(C=10000)"
      ]
     },
     "execution_count": 16,
     "metadata": {},
     "output_type": "execute_result"
    }
   ],
   "source": [
    "lr = LogisticRegression(C=10000, penalty='l2')\n",
    "lr.fit(tfidfv, y_train)"
   ]
  },
  {
   "cell_type": "code",
   "execution_count": 17,
   "id": "brutal-asset",
   "metadata": {},
   "outputs": [
    {
     "name": "stdout",
     "output_type": "stream",
     "text": [
      "정확도: 0.813446126447017\n"
     ]
    }
   ],
   "source": [
    "predicted = lr.predict(tfidfv_test)\n",
    "print(\"정확도:\", accuracy_score(y_test, predicted)) #예측값과 실제값 비교"
   ]
  },
  {
   "cell_type": "code",
   "execution_count": 18,
   "id": "higher-municipality",
   "metadata": {},
   "outputs": [
    {
     "name": "stderr",
     "output_type": "stream",
     "text": [
      "/opt/conda/lib/python3.7/site-packages/sklearn/svm/_base.py:975: ConvergenceWarning: Liblinear failed to converge, increase the number of iterations.\n",
      "  \"the number of iterations.\", ConvergenceWarning)\n"
     ]
    },
    {
     "data": {
      "text/plain": [
       "LinearSVC(C=1000, dual=False, max_iter=500, penalty='l1')"
      ]
     },
     "execution_count": 18,
     "metadata": {},
     "output_type": "execute_result"
    }
   ],
   "source": [
    "lsvc = LinearSVC(C=1000, penalty='l1', max_iter=500, dual=False)\n",
    "lsvc.fit(tfidfv, y_train)"
   ]
  },
  {
   "cell_type": "code",
   "execution_count": 19,
   "id": "former-roman",
   "metadata": {},
   "outputs": [
    {
     "name": "stdout",
     "output_type": "stream",
     "text": [
      "정확도: 0.7831700801424755\n"
     ]
    }
   ],
   "source": [
    "predicted = lsvc.predict(tfidfv_test) #테스트 데이터에 대한 예측\n",
    "print(\"정확도:\", accuracy_score(y_test, predicted)) #예측값과 실제값 비교"
   ]
  },
  {
   "cell_type": "code",
   "execution_count": 26,
   "id": "treated-moderator",
   "metadata": {},
   "outputs": [
    {
     "data": {
      "text/plain": [
       "ComplementNB()"
      ]
     },
     "execution_count": 26,
     "metadata": {},
     "output_type": "execute_result"
    }
   ],
   "source": [
    "cb = ComplementNB()\n",
    "cb.fit(tfidfv, y_train)"
   ]
  },
  {
   "cell_type": "code",
   "execution_count": 27,
   "id": "extraordinary-worry",
   "metadata": {},
   "outputs": [
    {
     "name": "stdout",
     "output_type": "stream",
     "text": [
      "정확도: 0.7649154051647373\n"
     ]
    }
   ],
   "source": [
    "predicted = cb.predict(tfidfv_test)\n",
    "print('정확도:', accuracy_score(y_test, predicted))"
   ]
  },
  {
   "cell_type": "markdown",
   "id": "published-september",
   "metadata": {},
   "source": [
    "### - num_words=10000과의 비교\n",
    "\n",
    "- 로지스틱 회귀: 정확도 0.8077 -> 0.8134\n",
    "- 선형 서포트 벡터 머신: 정확도 0.7747 -> 0.7832\n",
    "- CNB: 정확도 0.7707 -> 0.7649\n",
    "- VotingClassifier 모델은 아래 에러가 발생해 수행할 수 없었다.\n",
    "> valueerror: writebackifcopy base is read-only\n",
    "\n",
    "<hr>"
   ]
  },
  {
   "cell_type": "markdown",
   "id": "homeless-cartridge",
   "metadata": {},
   "source": [
    "## 2. 상위 5000개 단어 사용하기"
   ]
  },
  {
   "cell_type": "code",
   "execution_count": 28,
   "id": "alpha-cursor",
   "metadata": {},
   "outputs": [
    {
     "name": "stderr",
     "output_type": "stream",
     "text": [
      "/opt/conda/lib/python3.7/site-packages/tensorflow/python/keras/datasets/reuters.py:148: VisibleDeprecationWarning: Creating an ndarray from ragged nested sequences (which is a list-or-tuple of lists-or-tuples-or ndarrays with different lengths or shapes) is deprecated. If you meant to do this, you must specify 'dtype=object' when creating the ndarray\n",
      "  x_train, y_train = np.array(xs[:idx]), np.array(labels[:idx])\n",
      "/opt/conda/lib/python3.7/site-packages/tensorflow/python/keras/datasets/reuters.py:149: VisibleDeprecationWarning: Creating an ndarray from ragged nested sequences (which is a list-or-tuple of lists-or-tuples-or ndarrays with different lengths or shapes) is deprecated. If you meant to do this, you must specify 'dtype=object' when creating the ndarray\n",
      "  x_test, y_test = np.array(xs[idx:]), np.array(labels[idx:])\n"
     ]
    }
   ],
   "source": [
    "(x_train, y_train), (x_test, y_test) = reuters.load_data(num_words=5000, test_split=0.2)"
   ]
  },
  {
   "cell_type": "code",
   "execution_count": 29,
   "id": "critical-offer",
   "metadata": {},
   "outputs": [],
   "source": [
    "word_index = reuters.get_word_index(path='reuters_word_index.json')"
   ]
  },
  {
   "cell_type": "code",
   "execution_count": 30,
   "id": "tested-investor",
   "metadata": {},
   "outputs": [],
   "source": [
    "index_word = {index+3: word for word, index in word_index.items()}"
   ]
  },
  {
   "cell_type": "code",
   "execution_count": 31,
   "id": "downtown-kinase",
   "metadata": {},
   "outputs": [],
   "source": [
    "# index_word에 숫자 0은 <pad>, 숫자 1은 <sos>, 숫자 2는 <unk>를 넣어줍니다.\n",
    "for index, token in enumerate((\"<pad>\", \"<sos>\", \"<unk>\")):\n",
    "    index_word[index] = token"
   ]
  },
  {
   "cell_type": "code",
   "execution_count": 32,
   "id": "local-timing",
   "metadata": {},
   "outputs": [
    {
     "name": "stdout",
     "output_type": "stream",
     "text": [
      "8982\n"
     ]
    }
   ],
   "source": [
    "# 훈련용 데이터 복원\n",
    "decoded = []\n",
    "for i in range(len(x_train)):\n",
    "    t = ' '.join([index_word[index] for index in x_train[i]])\n",
    "    decoded.append(t)\n",
    "    \n",
    "x_train = decoded\n",
    "print(len(x_train))"
   ]
  },
  {
   "cell_type": "code",
   "execution_count": 33,
   "id": "bottom-spider",
   "metadata": {},
   "outputs": [
    {
     "name": "stdout",
     "output_type": "stream",
     "text": [
      "2246\n"
     ]
    }
   ],
   "source": [
    "# 테스트용 데이터 복원\n",
    "decoded = []\n",
    "for i in range(len(x_test)):\n",
    "    t = ' '.join([index_word[index] for index in x_test[i]])\n",
    "    decoded.append(t)\n",
    "\n",
    "x_test = decoded\n",
    "print(len(x_test))"
   ]
  },
  {
   "cell_type": "code",
   "execution_count": 34,
   "id": "emotional-brunei",
   "metadata": {},
   "outputs": [
    {
     "name": "stdout",
     "output_type": "stream",
     "text": [
      "(8982, 4867)\n"
     ]
    }
   ],
   "source": [
    "dtmvector = CountVectorizer()\n",
    "x_train_dtm = dtmvector.fit_transform(x_train)\n",
    "\n",
    "# DTM 자체 규칙에 따라 불필요하다고 판단된 토큰들이 제거됨\n",
    "# column 개수가 num_words=5000보다 작음\n",
    "print(x_train_dtm.shape)"
   ]
  },
  {
   "cell_type": "code",
   "execution_count": 35,
   "id": "taken-exception",
   "metadata": {},
   "outputs": [
    {
     "name": "stdout",
     "output_type": "stream",
     "text": [
      "(8982, 4867)\n"
     ]
    }
   ],
   "source": [
    "tfidf_transformer = TfidfTransformer()\n",
    "tfidfv = tfidf_transformer.fit_transform(x_train_dtm)\n",
    "\n",
    "print(tfidfv.shape)"
   ]
  },
  {
   "cell_type": "code",
   "execution_count": 36,
   "id": "brazilian-sleeping",
   "metadata": {},
   "outputs": [],
   "source": [
    "x_test_dtm = dtmvector.transform(x_test) #테스트 데이터를 DTM으로 변환\n",
    "tfidfv_test = tfidf_transformer.transform(x_test_dtm) #DTM을 TF-IDF 행렬로 변환"
   ]
  },
  {
   "cell_type": "code",
   "execution_count": 37,
   "id": "martial-filter",
   "metadata": {},
   "outputs": [
    {
     "name": "stderr",
     "output_type": "stream",
     "text": [
      "/opt/conda/lib/python3.7/site-packages/sklearn/linear_model/_logistic.py:762: ConvergenceWarning: lbfgs failed to converge (status=1):\n",
      "STOP: TOTAL NO. of ITERATIONS REACHED LIMIT.\n",
      "\n",
      "Increase the number of iterations (max_iter) or scale the data as shown in:\n",
      "    https://scikit-learn.org/stable/modules/preprocessing.html\n",
      "Please also refer to the documentation for alternative solver options:\n",
      "    https://scikit-learn.org/stable/modules/linear_model.html#logistic-regression\n",
      "  extra_warning_msg=_LOGISTIC_SOLVER_CONVERGENCE_MSG)\n"
     ]
    },
    {
     "data": {
      "text/plain": [
       "LogisticRegression(C=10000)"
      ]
     },
     "execution_count": 37,
     "metadata": {},
     "output_type": "execute_result"
    }
   ],
   "source": [
    "lr = LogisticRegression(C=10000, penalty='l2')\n",
    "lr.fit(tfidfv, y_train)"
   ]
  },
  {
   "cell_type": "code",
   "execution_count": 38,
   "id": "median-external",
   "metadata": {},
   "outputs": [
    {
     "name": "stdout",
     "output_type": "stream",
     "text": [
      "정확도: 0.8058771148708815\n"
     ]
    }
   ],
   "source": [
    "predicted = lr.predict(tfidfv_test)\n",
    "print(\"정확도:\", accuracy_score(y_test, predicted)) #예측값과 실제값 비교"
   ]
  },
  {
   "cell_type": "code",
   "execution_count": 39,
   "id": "adverse-wonder",
   "metadata": {},
   "outputs": [
    {
     "name": "stderr",
     "output_type": "stream",
     "text": [
      "/opt/conda/lib/python3.7/site-packages/sklearn/svm/_base.py:975: ConvergenceWarning: Liblinear failed to converge, increase the number of iterations.\n",
      "  \"the number of iterations.\", ConvergenceWarning)\n"
     ]
    },
    {
     "data": {
      "text/plain": [
       "LinearSVC(C=1000, dual=False, max_iter=500, penalty='l1')"
      ]
     },
     "execution_count": 39,
     "metadata": {},
     "output_type": "execute_result"
    }
   ],
   "source": [
    "lsvc = LinearSVC(C=1000, penalty='l1', max_iter=500, dual=False)\n",
    "lsvc.fit(tfidfv, y_train)"
   ]
  },
  {
   "cell_type": "code",
   "execution_count": 40,
   "id": "failing-edmonton",
   "metadata": {},
   "outputs": [
    {
     "name": "stdout",
     "output_type": "stream",
     "text": [
      "정확도: 0.7689225289403384\n"
     ]
    }
   ],
   "source": [
    "predicted = lsvc.predict(tfidfv_test) #테스트 데이터에 대한 예측\n",
    "print(\"정확도:\", accuracy_score(y_test, predicted)) #예측값과 실제값 비교"
   ]
  },
  {
   "cell_type": "code",
   "execution_count": 43,
   "id": "computational-ending",
   "metadata": {},
   "outputs": [
    {
     "data": {
      "text/plain": [
       "ComplementNB()"
      ]
     },
     "execution_count": 43,
     "metadata": {},
     "output_type": "execute_result"
    }
   ],
   "source": [
    "cb = ComplementNB()\n",
    "cb.fit(tfidfv, y_train)"
   ]
  },
  {
   "cell_type": "code",
   "execution_count": 44,
   "id": "greenhouse-serial",
   "metadata": {},
   "outputs": [
    {
     "name": "stdout",
     "output_type": "stream",
     "text": [
      "정확도: 0.7707034728406055\n"
     ]
    }
   ],
   "source": [
    "predicted = cb.predict(tfidfv_test)\n",
    "print('정확도:', accuracy_score(y_test, predicted))"
   ]
  },
  {
   "cell_type": "markdown",
   "id": "certified-brother",
   "metadata": {},
   "source": [
    "### - num_words=None과의 비교\n",
    "\n",
    "- 로지스틱 회귀: 정확도 0.8134 -> 0.8059\n",
    "- 선형 서포트 벡터 머신: 정확도 0.7832 -> 0.7689\n",
    "- CNB: 정확도 0.7649 -> 0.7707\n",
    "- VotingClassifier 모델은 아래 에러가 발생해 수행할 수 없었다.\n",
    "> valueerror: writebackifcopy base is read-only\n",
    "\n",
    "<hr>"
   ]
  },
  {
   "cell_type": "markdown",
   "id": "immune-anthropology",
   "metadata": {},
   "source": [
    "## 3. 상위 15000개 단어 사용하기"
   ]
  },
  {
   "cell_type": "code",
   "execution_count": 45,
   "id": "rocky-population",
   "metadata": {},
   "outputs": [
    {
     "name": "stderr",
     "output_type": "stream",
     "text": [
      "/opt/conda/lib/python3.7/site-packages/tensorflow/python/keras/datasets/reuters.py:148: VisibleDeprecationWarning: Creating an ndarray from ragged nested sequences (which is a list-or-tuple of lists-or-tuples-or ndarrays with different lengths or shapes) is deprecated. If you meant to do this, you must specify 'dtype=object' when creating the ndarray\n",
      "  x_train, y_train = np.array(xs[:idx]), np.array(labels[:idx])\n",
      "/opt/conda/lib/python3.7/site-packages/tensorflow/python/keras/datasets/reuters.py:149: VisibleDeprecationWarning: Creating an ndarray from ragged nested sequences (which is a list-or-tuple of lists-or-tuples-or ndarrays with different lengths or shapes) is deprecated. If you meant to do this, you must specify 'dtype=object' when creating the ndarray\n",
      "  x_test, y_test = np.array(xs[idx:]), np.array(labels[idx:])\n"
     ]
    }
   ],
   "source": [
    "(x_train, y_train), (x_test, y_test) = reuters.load_data(num_words=15000, test_split=0.2)"
   ]
  },
  {
   "cell_type": "code",
   "execution_count": 46,
   "id": "advisory-queen",
   "metadata": {},
   "outputs": [],
   "source": [
    "word_index = reuters.get_word_index(path='reuters_word_index.json')"
   ]
  },
  {
   "cell_type": "code",
   "execution_count": 47,
   "id": "earlier-apollo",
   "metadata": {},
   "outputs": [],
   "source": [
    "index_word = {index+3: word for word, index in word_index.items()}"
   ]
  },
  {
   "cell_type": "code",
   "execution_count": 48,
   "id": "seasonal-absence",
   "metadata": {},
   "outputs": [],
   "source": [
    "# index_word에 숫자 0은 <pad>, 숫자 1은 <sos>, 숫자 2는 <unk>를 넣어줍니다.\n",
    "for index, token in enumerate((\"<pad>\", \"<sos>\", \"<unk>\")):\n",
    "    index_word[index] = token"
   ]
  },
  {
   "cell_type": "code",
   "execution_count": 49,
   "id": "international-steam",
   "metadata": {},
   "outputs": [
    {
     "name": "stdout",
     "output_type": "stream",
     "text": [
      "8982\n"
     ]
    }
   ],
   "source": [
    "# 훈련용 데이터 복원\n",
    "decoded = []\n",
    "for i in range(len(x_train)):\n",
    "    t = ' '.join([index_word[index] for index in x_train[i]])\n",
    "    decoded.append(t)\n",
    "    \n",
    "x_train = decoded\n",
    "print(len(x_train))"
   ]
  },
  {
   "cell_type": "code",
   "execution_count": 50,
   "id": "russian-cooler",
   "metadata": {},
   "outputs": [
    {
     "name": "stdout",
     "output_type": "stream",
     "text": [
      "2246\n"
     ]
    }
   ],
   "source": [
    "# 테스트용 데이터 복원\n",
    "decoded = []\n",
    "for i in range(len(x_test)):\n",
    "    t = ' '.join([index_word[index] for index in x_test[i]])\n",
    "    decoded.append(t)\n",
    "\n",
    "x_test = decoded\n",
    "print(len(x_test))"
   ]
  },
  {
   "cell_type": "code",
   "execution_count": 51,
   "id": "about-franklin",
   "metadata": {},
   "outputs": [
    {
     "name": "stdout",
     "output_type": "stream",
     "text": [
      "(8982, 14227)\n"
     ]
    }
   ],
   "source": [
    "dtmvector = CountVectorizer()\n",
    "x_train_dtm = dtmvector.fit_transform(x_train)\n",
    "\n",
    "# DTM 자체 규칙에 따라 불필요하다고 판단된 토큰들이 제거됨\n",
    "# column 개수가 num_words=5000보다 작음\n",
    "print(x_train_dtm.shape)"
   ]
  },
  {
   "cell_type": "code",
   "execution_count": 52,
   "id": "transparent-mapping",
   "metadata": {},
   "outputs": [
    {
     "name": "stdout",
     "output_type": "stream",
     "text": [
      "(8982, 14227)\n"
     ]
    }
   ],
   "source": [
    "tfidf_transformer = TfidfTransformer()\n",
    "tfidfv = tfidf_transformer.fit_transform(x_train_dtm)\n",
    "\n",
    "print(tfidfv.shape)"
   ]
  },
  {
   "cell_type": "code",
   "execution_count": 53,
   "id": "damaged-blade",
   "metadata": {},
   "outputs": [],
   "source": [
    "x_test_dtm = dtmvector.transform(x_test) #테스트 데이터를 DTM으로 변환\n",
    "tfidfv_test = tfidf_transformer.transform(x_test_dtm) #DTM을 TF-IDF 행렬로 변환"
   ]
  },
  {
   "cell_type": "code",
   "execution_count": 54,
   "id": "ethical-fairy",
   "metadata": {},
   "outputs": [
    {
     "name": "stderr",
     "output_type": "stream",
     "text": [
      "/opt/conda/lib/python3.7/site-packages/sklearn/linear_model/_logistic.py:762: ConvergenceWarning: lbfgs failed to converge (status=1):\n",
      "STOP: TOTAL NO. of ITERATIONS REACHED LIMIT.\n",
      "\n",
      "Increase the number of iterations (max_iter) or scale the data as shown in:\n",
      "    https://scikit-learn.org/stable/modules/preprocessing.html\n",
      "Please also refer to the documentation for alternative solver options:\n",
      "    https://scikit-learn.org/stable/modules/linear_model.html#logistic-regression\n",
      "  extra_warning_msg=_LOGISTIC_SOLVER_CONVERGENCE_MSG)\n"
     ]
    },
    {
     "data": {
      "text/plain": [
       "LogisticRegression(C=10000)"
      ]
     },
     "execution_count": 54,
     "metadata": {},
     "output_type": "execute_result"
    }
   ],
   "source": [
    "lr = LogisticRegression(C=10000, penalty='l2')\n",
    "lr.fit(tfidfv, y_train)"
   ]
  },
  {
   "cell_type": "code",
   "execution_count": 55,
   "id": "buried-summary",
   "metadata": {},
   "outputs": [
    {
     "name": "stdout",
     "output_type": "stream",
     "text": [
      "정확도: 0.8125556544968834\n"
     ]
    }
   ],
   "source": [
    "predicted = lr.predict(tfidfv_test)\n",
    "print(\"정확도:\", accuracy_score(y_test, predicted)) #예측값과 실제값 비교"
   ]
  },
  {
   "cell_type": "code",
   "execution_count": 56,
   "id": "polished-dietary",
   "metadata": {},
   "outputs": [
    {
     "name": "stderr",
     "output_type": "stream",
     "text": [
      "/opt/conda/lib/python3.7/site-packages/sklearn/svm/_base.py:975: ConvergenceWarning: Liblinear failed to converge, increase the number of iterations.\n",
      "  \"the number of iterations.\", ConvergenceWarning)\n"
     ]
    },
    {
     "data": {
      "text/plain": [
       "LinearSVC(C=1000, dual=False, max_iter=500, penalty='l1')"
      ]
     },
     "execution_count": 56,
     "metadata": {},
     "output_type": "execute_result"
    }
   ],
   "source": [
    "lsvc = LinearSVC(C=1000, penalty='l1', max_iter=500, dual=False)\n",
    "lsvc.fit(tfidfv, y_train)"
   ]
  },
  {
   "cell_type": "code",
   "execution_count": 57,
   "id": "other-criterion",
   "metadata": {},
   "outputs": [
    {
     "name": "stdout",
     "output_type": "stream",
     "text": [
      "정확도: 0.7747105966162066\n"
     ]
    }
   ],
   "source": [
    "predicted = lsvc.predict(tfidfv_test) #테스트 데이터에 대한 예측\n",
    "print(\"정확도:\", accuracy_score(y_test, predicted)) #예측값과 실제값 비교"
   ]
  },
  {
   "cell_type": "code",
   "execution_count": 58,
   "id": "ignored-boost",
   "metadata": {},
   "outputs": [
    {
     "data": {
      "text/plain": [
       "ComplementNB()"
      ]
     },
     "execution_count": 58,
     "metadata": {},
     "output_type": "execute_result"
    }
   ],
   "source": [
    "cb = ComplementNB()\n",
    "cb.fit(tfidfv, y_train)"
   ]
  },
  {
   "cell_type": "code",
   "execution_count": 59,
   "id": "controlling-smoke",
   "metadata": {},
   "outputs": [
    {
     "name": "stdout",
     "output_type": "stream",
     "text": [
      "정확도: 0.7720391807658059\n"
     ]
    }
   ],
   "source": [
    "predicted = cb.predict(tfidfv_test)\n",
    "print('정확도:', accuracy_score(y_test, predicted))"
   ]
  },
  {
   "cell_type": "markdown",
   "id": "passing-monster",
   "metadata": {},
   "source": [
    "### - num_words=None과의 비교\n",
    "\n",
    "- 로지스틱 회귀: 정확도 0.8134 -> 0.8125\n",
    "- 선형 서포트 벡터 머신: 정확도 0.7832 -> 0.7747\n",
    "- CNB: 정확도 0.7649 -> 0.772\n",
    "- VotingClassifier 모델은 아래 에러가 발생해 수행할 수 없었다.\n",
    "> valueerror: writebackifcopy base is read-only\n",
    "\n",
    "- 결과적으로 가장 성능이 좋은 경우는 num_words=None일 때이다.\n",
    "\n",
    "<hr>"
   ]
  },
  {
   "cell_type": "markdown",
   "id": "following-blues",
   "metadata": {},
   "source": [
    "## 4. 딥러닝 모델과 비교하기\n",
    "\n",
    "- 딥러닝 모델에서는 경험상 vocab_size에 따른 성능 차이가 크게 나타나는데, 위 num_words에 따른 성능 차이가 크지 않았으므로 5000개 단어로 제한하여 진행하였다."
   ]
  },
  {
   "cell_type": "code",
   "execution_count": 145,
   "id": "isolated-louisiana",
   "metadata": {},
   "outputs": [],
   "source": [
    "VOCAB_SIZE = 5000\n",
    "(x_train, y_train), (x_test, y_test) = reuters.load_data(num_words=VOCAB_SIZE, test_split=0.2)"
   ]
  },
  {
   "cell_type": "code",
   "execution_count": 146,
   "id": "brutal-cholesterol",
   "metadata": {},
   "outputs": [
    {
     "name": "stdout",
     "output_type": "stream",
     "text": [
      "최대 길이: 2376\n",
      "평균 길이: 145\n",
      "최소 길이: 13\n"
     ]
    }
   ],
   "source": [
    "# 문장 길이 분포 확인\n",
    "len_train = [len(s) for s in x_train]\n",
    "\n",
    "print('최대 길이:', max(len_train))\n",
    "print('평균 길이:', sum(len_train)//len(len_train))\n",
    "print('최소 길이:', min(len_train))"
   ]
  },
  {
   "cell_type": "code",
   "execution_count": 147,
   "id": "first-difference",
   "metadata": {
    "scrolled": true
   },
   "outputs": [
    {
     "data": {
      "image/png": "[encoded data removed]",
      "text/plain": [
       "<Figure size 432x288 with 1 Axes>"
      ]
     },
     "metadata": {
      "needs_background": "light"
     },
     "output_type": "display_data"
    }
   ],
   "source": [
    "plt.hist(len_train, bins=100)\n",
    "plt.show()"
   ]
  },
  {
   "cell_type": "code",
   "execution_count": 148,
   "id": "silver-abraham",
   "metadata": {},
   "outputs": [],
   "source": [
    "MAX_LEN = 400\n",
    "\n",
    "final_x_train = []\n",
    "final_y_train = []\n",
    "final_x_test = []\n",
    "final_y_test = []\n",
    "\n",
    "for idx, sentence in enumerate(x_train):\n",
    "    if len(sentence) <= MAX_LEN:\n",
    "        final_x_train.append(sentence)\n",
    "        final_y_train.append(y_train[idx])\n",
    "        \n",
    "for idx, sentence in enumerate(x_test):\n",
    "    if len(sentence) <= MAX_LEN:\n",
    "        final_x_test.append(sentence)\n",
    "        final_y_test.append(y_test[idx])"
   ]
  },
  {
   "cell_type": "code",
   "execution_count": 149,
   "id": "ordered-tablet",
   "metadata": {},
   "outputs": [
    {
     "name": "stdout",
     "output_type": "stream",
     "text": [
      "x_train: 8400\n",
      "y_train: 8400\n",
      "x_test: 2085\n",
      "y_test: 2085\n"
     ]
    }
   ],
   "source": [
    "print('x_train:', len(final_x_train))\n",
    "print('y_train:', len(final_y_train))\n",
    "print('x_test:', len(final_x_test))\n",
    "print('y_test:', len(final_y_test))"
   ]
  },
  {
   "cell_type": "code",
   "execution_count": 150,
   "id": "disciplinary-portrait",
   "metadata": {
    "scrolled": false
   },
   "outputs": [
    {
     "name": "stdout",
     "output_type": "stream",
     "text": [
      "x_train: 8400\n",
      "x_test: 2085\n"
     ]
    }
   ],
   "source": [
    "final_x_train = pad_sequences(final_x_train, padding='post')\n",
    "final_x_test = pad_sequences(final_x_test, padding='post')\n",
    "\n",
    "print('x_train:', len(final_x_train))\n",
    "print('x_test:', len(final_x_test))"
   ]
  },
  {
   "cell_type": "code",
   "execution_count": 151,
   "id": "remarkable-system",
   "metadata": {},
   "outputs": [],
   "source": [
    "final_x_train = np.array(final_x_train)\n",
    "final_y_train = np.array(final_y_train)\n",
    "final_x_test = np.array(final_x_test)\n",
    "final_y_test = np.array(final_y_test)"
   ]
  },
  {
   "cell_type": "code",
   "execution_count": 152,
   "id": "stock-blanket",
   "metadata": {},
   "outputs": [],
   "source": [
    "final_y_train = to_categorical(final_y_train)\n",
    "final_y_test = to_categorical(final_y_test)"
   ]
  },
  {
   "cell_type": "code",
   "execution_count": 199,
   "id": "operating-david",
   "metadata": {},
   "outputs": [
    {
     "name": "stdout",
     "output_type": "stream",
     "text": [
      "Model: \"sequential_28\"\n",
      "_________________________________________________________________\n",
      "Layer (type)                 Output Shape              Param #   \n",
      "=================================================================\n",
      "embedding_27 (Embedding)     (None, None, 400)         2000000   \n",
      "_________________________________________________________________\n",
      "lstm_28 (LSTM)               (None, 128)               270848    \n",
      "_________________________________________________________________\n",
      "dropout_18 (Dropout)         (None, 128)               0         \n",
      "_________________________________________________________________\n",
      "dense_26 (Dense)             (None, 46)                5934      \n",
      "=================================================================\n",
      "Total params: 2,276,782\n",
      "Trainable params: 2,276,782\n",
      "Non-trainable params: 0\n",
      "_________________________________________________________________\n"
     ]
    }
   ],
   "source": [
    "WORD_VEC_DIM = 400\n",
    "\n",
    "model = Sequential()\n",
    "model.add(Embedding(VOCAB_SIZE, WORD_VEC_DIM))\n",
    "model.add(LSTM(128))\n",
    "model.add(Dropout(0.2))\n",
    "model.add(Dense(46, activation='softmax'))\n",
    "\n",
    "model.summary()"
   ]
  },
  {
   "cell_type": "code",
   "execution_count": 200,
   "id": "falling-ghana",
   "metadata": {},
   "outputs": [],
   "source": [
    "# callbacks\n",
    "base_path = os.getenv('HOME') + '/aiffel/aiffel_projects/goingdeeper/GD4_reuters_classification/models'\n",
    "checkpoint_path = base_path + '/wv400_do20_model.h5'\n",
    "\n",
    "es = EarlyStopping(monitor='loss', mode='min', verbose=1, patience=3)\n",
    "mc = ModelCheckpoint(checkpoint_path, monitor='accuracy', mode='max', verbose=1, save_best_only=True)"
   ]
  },
  {
   "cell_type": "code",
   "execution_count": 201,
   "id": "emotional-clothing",
   "metadata": {
    "scrolled": true
   },
   "outputs": [
    {
     "name": "stdout",
     "output_type": "stream",
     "text": [
      "Epoch 1/150\n",
      "140/140 [==============================] - 19s 128ms/step - loss: 2.6384 - accuracy: 0.3480\n",
      "\n",
      "Epoch 00001: accuracy improved from -inf to 0.35440, saving model to /aiffel/aiffel/aiffel_projects/goingdeeper/GD4_reuters_classification/models/wv400_do20_model.h5\n",
      "Epoch 2/150\n",
      "140/140 [==============================] - 19s 132ms/step - loss: 2.3939 - accuracy: 0.3551\n",
      "\n",
      "Epoch 00002: accuracy improved from 0.35440 to 0.36238, saving model to /aiffel/aiffel/aiffel_projects/goingdeeper/GD4_reuters_classification/models/wv400_do20_model.h5\n",
      "Epoch 3/150\n",
      "140/140 [==============================] - 18s 130ms/step - loss: 2.3954 - accuracy: 0.3703\n",
      "\n",
      "Epoch 00003: accuracy improved from 0.36238 to 0.36714, saving model to /aiffel/aiffel/aiffel_projects/goingdeeper/GD4_reuters_classification/models/wv400_do20_model.h5\n",
      "Epoch 4/150\n",
      "140/140 [==============================] - 17s 124ms/step - loss: 2.4120 - accuracy: 0.3586\n",
      "\n",
      "Epoch 00004: accuracy did not improve from 0.36714\n",
      "Epoch 5/150\n",
      "140/140 [==============================] - 17s 121ms/step - loss: 2.3273 - accuracy: 0.3725\n",
      "\n",
      "Epoch 00005: accuracy improved from 0.36714 to 0.36869, saving model to /aiffel/aiffel/aiffel_projects/goingdeeper/GD4_reuters_classification/models/wv400_do20_model.h5\n",
      "Epoch 6/150\n",
      "140/140 [==============================] - 18s 128ms/step - loss: 2.3645 - accuracy: 0.3698\n",
      "\n",
      "Epoch 00006: accuracy improved from 0.36869 to 0.36905, saving model to /aiffel/aiffel/aiffel_projects/goingdeeper/GD4_reuters_classification/models/wv400_do20_model.h5\n",
      "Epoch 7/150\n",
      "140/140 [==============================] - 19s 136ms/step - loss: 2.3795 - accuracy: 0.3679\n",
      "\n",
      "Epoch 00007: accuracy improved from 0.36905 to 0.36964, saving model to /aiffel/aiffel/aiffel_projects/goingdeeper/GD4_reuters_classification/models/wv400_do20_model.h5\n",
      "Epoch 8/150\n",
      "140/140 [==============================] - 18s 129ms/step - loss: 2.3311 - accuracy: 0.3747\n",
      "\n",
      "Epoch 00008: accuracy did not improve from 0.36964\n",
      "Epoch 9/150\n",
      "140/140 [==============================] - 17s 120ms/step - loss: 2.2787 - accuracy: 0.3885\n",
      "\n",
      "Epoch 00009: accuracy improved from 0.36964 to 0.39964, saving model to /aiffel/aiffel/aiffel_projects/goingdeeper/GD4_reuters_classification/models/wv400_do20_model.h5\n",
      "Epoch 10/150\n",
      "140/140 [==============================] - 17s 119ms/step - loss: 2.1255 - accuracy: 0.4555\n",
      "\n",
      "Epoch 00010: accuracy improved from 0.39964 to 0.44595, saving model to /aiffel/aiffel/aiffel_projects/goingdeeper/GD4_reuters_classification/models/wv400_do20_model.h5\n",
      "Epoch 11/150\n",
      "140/140 [==============================] - 17s 120ms/step - loss: 1.9882 - accuracy: 0.4914\n",
      "\n",
      "Epoch 00011: accuracy improved from 0.44595 to 0.51774, saving model to /aiffel/aiffel/aiffel_projects/goingdeeper/GD4_reuters_classification/models/wv400_do20_model.h5\n",
      "Epoch 12/150\n",
      "140/140 [==============================] - 17s 124ms/step - loss: 1.9097 - accuracy: 0.5501\n",
      "\n",
      "Epoch 00012: accuracy improved from 0.51774 to 0.55190, saving model to /aiffel/aiffel/aiffel_projects/goingdeeper/GD4_reuters_classification/models/wv400_do20_model.h5\n",
      "Epoch 13/150\n",
      "140/140 [==============================] - 18s 127ms/step - loss: 1.7988 - accuracy: 0.5944\n",
      "\n",
      "Epoch 00013: accuracy improved from 0.55190 to 0.59083, saving model to /aiffel/aiffel/aiffel_projects/goingdeeper/GD4_reuters_classification/models/wv400_do20_model.h5\n",
      "Epoch 14/150\n",
      "140/140 [==============================] - 18s 126ms/step - loss: 1.8707 - accuracy: 0.5671\n",
      "\n",
      "Epoch 00014: accuracy did not improve from 0.59083\n",
      "Epoch 15/150\n",
      "140/140 [==============================] - 17s 124ms/step - loss: 1.8853 - accuracy: 0.5554\n",
      "\n",
      "Epoch 00015: accuracy did not improve from 0.59083\n",
      "Epoch 16/150\n",
      "140/140 [==============================] - 17s 125ms/step - loss: 1.6580 - accuracy: 0.5989\n",
      "\n",
      "Epoch 00016: accuracy improved from 0.59083 to 0.59714, saving model to /aiffel/aiffel/aiffel_projects/goingdeeper/GD4_reuters_classification/models/wv400_do20_model.h5\n",
      "Epoch 17/150\n",
      "140/140 [==============================] - 17s 125ms/step - loss: 1.7663 - accuracy: 0.6010\n",
      "\n",
      "Epoch 00017: accuracy improved from 0.59714 to 0.60357, saving model to /aiffel/aiffel/aiffel_projects/goingdeeper/GD4_reuters_classification/models/wv400_do20_model.h5\n",
      "Epoch 18/150\n",
      "140/140 [==============================] - 18s 128ms/step - loss: 1.7336 - accuracy: 0.6045\n",
      "\n",
      "Epoch 00018: accuracy did not improve from 0.60357\n",
      "Epoch 19/150\n",
      "140/140 [==============================] - 17s 123ms/step - loss: 1.6619 - accuracy: 0.6143\n",
      "\n",
      "Epoch 00019: accuracy improved from 0.60357 to 0.61238, saving model to /aiffel/aiffel/aiffel_projects/goingdeeper/GD4_reuters_classification/models/wv400_do20_model.h5\n",
      "Epoch 20/150\n",
      "140/140 [==============================] - 17s 125ms/step - loss: 1.6252 - accuracy: 0.6131\n",
      "\n",
      "Epoch 00020: accuracy did not improve from 0.61238\n",
      "Epoch 21/150\n",
      "140/140 [==============================] - 17s 121ms/step - loss: 1.6014 - accuracy: 0.6142\n",
      "\n",
      "Epoch 00021: accuracy improved from 0.61238 to 0.61369, saving model to /aiffel/aiffel/aiffel_projects/goingdeeper/GD4_reuters_classification/models/wv400_do20_model.h5\n",
      "Epoch 22/150\n",
      "140/140 [==============================] - 18s 129ms/step - loss: 1.7471 - accuracy: 0.5575\n",
      "\n",
      "Epoch 00022: accuracy did not improve from 0.61369\n",
      "Epoch 23/150\n",
      "140/140 [==============================] - 18s 128ms/step - loss: 1.6045 - accuracy: 0.6110\n",
      "\n",
      "Epoch 00023: accuracy did not improve from 0.61369\n",
      "Epoch 24/150\n",
      "140/140 [==============================] - 18s 125ms/step - loss: 1.5592 - accuracy: 0.6140\n",
      "\n",
      "Epoch 00024: accuracy improved from 0.61369 to 0.61619, saving model to /aiffel/aiffel/aiffel_projects/goingdeeper/GD4_reuters_classification/models/wv400_do20_model.h5\n",
      "Epoch 25/150\n",
      "140/140 [==============================] - 19s 132ms/step - loss: 1.4902 - accuracy: 0.6336\n",
      "\n",
      "Epoch 00025: accuracy improved from 0.61619 to 0.62726, saving model to /aiffel/aiffel/aiffel_projects/goingdeeper/GD4_reuters_classification/models/wv400_do20_model.h5\n",
      "Epoch 26/150\n",
      "140/140 [==============================] - 18s 130ms/step - loss: 1.5322 - accuracy: 0.6117\n",
      "\n",
      "Epoch 00026: accuracy did not improve from 0.62726\n",
      "Epoch 27/150\n",
      "140/140 [==============================] - 18s 127ms/step - loss: 1.5051 - accuracy: 0.6216\n",
      "\n",
      "Epoch 00027: accuracy improved from 0.62726 to 0.63381, saving model to /aiffel/aiffel/aiffel_projects/goingdeeper/GD4_reuters_classification/models/wv400_do20_model.h5\n",
      "Epoch 28/150\n",
      "140/140 [==============================] - 18s 131ms/step - loss: 1.5343 - accuracy: 0.6209\n",
      "\n",
      "Epoch 00028: accuracy did not improve from 0.63381\n",
      "Epoch 29/150\n",
      "140/140 [==============================] - 18s 126ms/step - loss: 1.4445 - accuracy: 0.6301\n",
      "\n",
      "Epoch 00029: accuracy did not improve from 0.63381\n",
      "Epoch 30/150\n",
      "140/140 [==============================] - 18s 132ms/step - loss: 1.4428 - accuracy: 0.6386\n",
      "\n",
      "Epoch 00030: accuracy improved from 0.63381 to 0.64571, saving model to /aiffel/aiffel/aiffel_projects/goingdeeper/GD4_reuters_classification/models/wv400_do20_model.h5\n",
      "Epoch 31/150\n",
      "140/140 [==============================] - 18s 132ms/step - loss: 1.3555 - accuracy: 0.6667\n",
      "\n",
      "Epoch 00031: accuracy improved from 0.64571 to 0.66762, saving model to /aiffel/aiffel/aiffel_projects/goingdeeper/GD4_reuters_classification/models/wv400_do20_model.h5\n",
      "Epoch 32/150\n",
      "140/140 [==============================] - 18s 129ms/step - loss: 1.3108 - accuracy: 0.6732\n",
      "\n",
      "Epoch 00032: accuracy improved from 0.66762 to 0.67667, saving model to /aiffel/aiffel/aiffel_projects/goingdeeper/GD4_reuters_classification/models/wv400_do20_model.h5\n",
      "Epoch 33/150\n",
      "140/140 [==============================] - 18s 131ms/step - loss: 1.3142 - accuracy: 0.6628\n",
      "\n",
      "Epoch 00033: accuracy did not improve from 0.67667\n",
      "Epoch 34/150\n",
      "140/140 [==============================] - 19s 135ms/step - loss: 1.8438 - accuracy: 0.6066\n",
      "\n",
      "Epoch 00034: accuracy did not improve from 0.67667\n",
      "Epoch 35/150\n",
      "140/140 [==============================] - 18s 127ms/step - loss: 1.4390 - accuracy: 0.6367\n",
      "\n",
      "Epoch 00035: accuracy did not improve from 0.67667\n",
      "Epoch 00035: early stopping\n"
     ]
    }
   ],
   "source": [
    "model.compile(optimizer='adam',\n",
    "              loss='categorical_crossentropy',\n",
    "              metrics=['accuracy'])\n",
    "              \n",
    "history = model.fit(final_x_train, final_y_train,\n",
    "                    epochs=150,\n",
    "                    batch_size=60,\n",
    "                    callbacks=[es, mc],\n",
    "                    verbose=1)"
   ]
  },
  {
   "cell_type": "code",
   "execution_count": 202,
   "id": "wrong-spirituality",
   "metadata": {},
   "outputs": [],
   "source": [
    "history_dict = history.history\n",
    "\n",
    "acc = history_dict['accuracy']\n",
    "loss = history_dict['loss']\n",
    "\n",
    "epochs = range(1, len(acc) + 1)"
   ]
  },
  {
   "cell_type": "code",
   "execution_count": 205,
   "id": "stylish-appreciation",
   "metadata": {},
   "outputs": [
    {
     "data": {
      "image/png": "[encoded data removed]",
      "text/plain": [
       "<Figure size 432x288 with 1 Axes>"
      ]
     },
     "metadata": {
      "needs_background": "light"
     },
     "output_type": "display_data"
    }
   ],
   "source": [
    "# \"ro\"는 \"빨간색 점\"입니다\n",
    "plt.plot(epochs, loss, label='Loss')\n",
    "# r는 \"빨간 실선\"입니다\n",
    "plt.plot(epochs, acc, label='Accuracy')\n",
    "plt.title('Loss and Accuracy')\n",
    "plt.xlabel('Epochs')\n",
    "plt.grid()\n",
    "plt.legend()\n",
    "\n",
    "plt.show()"
   ]
  },
  {
   "cell_type": "code",
   "execution_count": 204,
   "id": "developmental-share",
   "metadata": {},
   "outputs": [
    {
     "name": "stdout",
     "output_type": "stream",
     "text": [
      "66/66 [==============================] - 2s 28ms/step - loss: 1.5313 - accuracy: 0.6158\n"
     ]
    }
   ],
   "source": [
    "# 테스트셋을 통한 모델 평가\n",
    "results = model.evaluate(final_x_test, final_y_test, verbose=1)"
   ]
  },
  {
   "cell_type": "markdown",
   "id": "residential-church",
   "metadata": {},
   "source": [
    "## 결론 및 회고"
   ]
  },
  {
   "cell_type": "markdown",
   "id": "moved-indicator",
   "metadata": {},
   "source": [
    "- 머신러닝 중 로지스틱 회귀 모델을 이용한 정확도는 81%\n",
    "- 딥러닝 중 LSTM 모델을 이용한 정확도는 62%\n",
    "- 딥러닝 모델의 성능이 더 낮았다.\n",
    "- 자연어 전처리와 토큰화 과정을 직접 다뤘다면 더 높은 성능이 나왔을 수도 있을 것 같다."
   ]
  },
  {
   "cell_type": "code",
   "execution_count": null,
   "id": "grand-gardening",
   "metadata": {},
   "outputs": [],
   "source": []
  }
 ],
 "metadata": {
  "kernelspec": {
   "display_name": "Python 3",
   "language": "python",
   "name": "python3"
  },
  "language_info": {
   "codemirror_mode": {
    "name": "ipython",
    "version": 3
   },
   "file_extension": ".py",
   "mimetype": "text/x-python",
   "name": "python",
   "nbconvert_exporter": "python",
   "pygments_lexer": "ipython3",
   "version": "3.7.9"
  }
 },
 "nbformat": 4,
 "nbformat_minor": 5
}
